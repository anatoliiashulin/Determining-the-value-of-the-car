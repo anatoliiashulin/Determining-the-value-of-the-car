{
 "cells": [
  {
   "cell_type": "markdown",
   "metadata": {},
   "source": [
    "# Определение стоимости автомобилей"
   ]
  },
  {
   "cell_type": "markdown",
   "metadata": {},
   "source": [
    "**Описание задачи**    \n",
    "Сервис по продаже автомобилей с пробегом разрабатывает приложение для привлечения новых клиентов. В нём можно быстро узнать рыночную стоимость своего автомобиля. В распоряжении исторические данные: технические характеристики, комплектации и цены автомобилей. Нужно построить модель для определения стоимости. \n",
    "\n",
    "Заказчику важны:\n",
    "\n",
    "- качество предсказания;\n",
    "- скорость предсказания;\n",
    "- время обучения."
   ]
  },
  {
   "cell_type": "markdown",
   "metadata": {},
   "source": [
    "**Описание данных**\n",
    "\n",
    "**Признаки**   \n",
    "`DateCrawled` — дата скачивания анкеты из базы    \n",
    "`VehicleType` — тип автомобильного кузова    \n",
    "`RegistrationYear` — год регистрации автомобиля    \n",
    "`Gearbox` — тип коробки передач    \n",
    "`Power` — мощность (л. с.)    \n",
    "`Model` — модель автомобиля    \n",
    "`Kilometer` — пробег (км)    \n",
    "`RegistrationMonth` — месяц регистрации автомобиля    \n",
    "`FuelType` — тип топлива    \n",
    "`Brand` — марка автомобиля    \n",
    "`NotRepaired` — была машина в ремонте или нет     \n",
    "`DateCreated` — дата создания анкеты    \n",
    "`NumberOfPictures` — количество фотографий автомобиля    \n",
    "`PostalCode` — почтовый индекс владельца анкеты (пользователя)    \n",
    "`LastSeen` — дата последней активности пользователя     \n",
    "\n",
    "**Целевой признак**    \n",
    "`Price` — цена (евро)"
   ]
  },
  {
   "cell_type": "markdown",
   "metadata": {},
   "source": [
    "**План работы**\n",
    "\n",
    "В первую очередь надо изучить данные. Поискать дубликаты, выбросы. Предположить какие признаки не несут полезной информации для целевого признака. \n",
    "\n",
    "Потом подготовить данные для ML. \n",
    "Для деревянных моделей буду использовать OrdinalEncoder, для остальных попробую OHE\n",
    "\n",
    "С моделей буду извлекать время обучения, скорость предсказания, и качество на тренировочной выборке. \n",
    "После выберу лучшую модель и посмотрю качество на тестовой выборке"
   ]
  },
  {
   "cell_type": "markdown",
   "metadata": {},
   "source": [
    "## Подготовка данных"
   ]
  },
  {
   "cell_type": "code",
   "execution_count": 1,
   "metadata": {},
   "outputs": [],
   "source": [
    "import pandas as pd\n",
    "import matplotlib.pyplot as plt\n",
    "import seaborn as sns\n",
    "import time\n",
    "\n",
    "from sklearn.metrics import mean_squared_error, make_scorer\n",
    "from sklearn.preprocessing import StandardScaler, OneHotEncoder, OrdinalEncoder\n",
    "from sklearn.model_selection import GridSearchCV, train_test_split\n",
    "\n",
    "from sklearn.ensemble import GradientBoostingRegressor, RandomForestRegressor\n",
    "from sklearn.linear_model import LinearRegression\n",
    "\n",
    "from lightgbm import LGBMRegressor\n",
    "from catboost import CatBoostRegressor, Pool, cv\n",
    "\n",
    "plt.style.use('seaborn-darkgrid')\n",
    "pd.options.mode.chained_assignment = None"
   ]
  },
  {
   "cell_type": "code",
   "execution_count": 2,
   "metadata": {},
   "outputs": [],
   "source": [
    "df = pd.read_csv('autos.csv')"
   ]
  },
  {
   "cell_type": "code",
   "execution_count": 3,
   "metadata": {},
   "outputs": [
    {
     "data": {
      "text/plain": [
       "(354369, 16)"
      ]
     },
     "execution_count": 3,
     "metadata": {},
     "output_type": "execute_result"
    }
   ],
   "source": [
    "shape0 = df.shape #сохраняю размер датафрейма до обработки \n",
    "shape0"
   ]
  },
  {
   "cell_type": "markdown",
   "metadata": {},
   "source": [
    "Нам дан датасет на 354369 строк"
   ]
  },
  {
   "cell_type": "code",
   "execution_count": 4,
   "metadata": {},
   "outputs": [
    {
     "data": {
      "text/html": [
       "<div>\n",
       "<style scoped>\n",
       "    .dataframe tbody tr th:only-of-type {\n",
       "        vertical-align: middle;\n",
       "    }\n",
       "\n",
       "    .dataframe tbody tr th {\n",
       "        vertical-align: top;\n",
       "    }\n",
       "\n",
       "    .dataframe thead th {\n",
       "        text-align: right;\n",
       "    }\n",
       "</style>\n",
       "<table border=\"1\" class=\"dataframe\">\n",
       "  <thead>\n",
       "    <tr style=\"text-align: right;\">\n",
       "      <th></th>\n",
       "      <th>DateCrawled</th>\n",
       "      <th>Price</th>\n",
       "      <th>VehicleType</th>\n",
       "      <th>RegistrationYear</th>\n",
       "      <th>Gearbox</th>\n",
       "      <th>Power</th>\n",
       "      <th>Model</th>\n",
       "      <th>Kilometer</th>\n",
       "      <th>RegistrationMonth</th>\n",
       "      <th>FuelType</th>\n",
       "      <th>Brand</th>\n",
       "      <th>NotRepaired</th>\n",
       "      <th>DateCreated</th>\n",
       "      <th>NumberOfPictures</th>\n",
       "      <th>PostalCode</th>\n",
       "      <th>LastSeen</th>\n",
       "    </tr>\n",
       "  </thead>\n",
       "  <tbody>\n",
       "    <tr>\n",
       "      <th>0</th>\n",
       "      <td>2016-03-24 11:52:17</td>\n",
       "      <td>480</td>\n",
       "      <td>NaN</td>\n",
       "      <td>1993</td>\n",
       "      <td>manual</td>\n",
       "      <td>0</td>\n",
       "      <td>golf</td>\n",
       "      <td>150000</td>\n",
       "      <td>0</td>\n",
       "      <td>petrol</td>\n",
       "      <td>volkswagen</td>\n",
       "      <td>NaN</td>\n",
       "      <td>2016-03-24 00:00:00</td>\n",
       "      <td>0</td>\n",
       "      <td>70435</td>\n",
       "      <td>2016-04-07 03:16:57</td>\n",
       "    </tr>\n",
       "    <tr>\n",
       "      <th>1</th>\n",
       "      <td>2016-03-24 10:58:45</td>\n",
       "      <td>18300</td>\n",
       "      <td>coupe</td>\n",
       "      <td>2011</td>\n",
       "      <td>manual</td>\n",
       "      <td>190</td>\n",
       "      <td>NaN</td>\n",
       "      <td>125000</td>\n",
       "      <td>5</td>\n",
       "      <td>gasoline</td>\n",
       "      <td>audi</td>\n",
       "      <td>yes</td>\n",
       "      <td>2016-03-24 00:00:00</td>\n",
       "      <td>0</td>\n",
       "      <td>66954</td>\n",
       "      <td>2016-04-07 01:46:50</td>\n",
       "    </tr>\n",
       "    <tr>\n",
       "      <th>2</th>\n",
       "      <td>2016-03-14 12:52:21</td>\n",
       "      <td>9800</td>\n",
       "      <td>suv</td>\n",
       "      <td>2004</td>\n",
       "      <td>auto</td>\n",
       "      <td>163</td>\n",
       "      <td>grand</td>\n",
       "      <td>125000</td>\n",
       "      <td>8</td>\n",
       "      <td>gasoline</td>\n",
       "      <td>jeep</td>\n",
       "      <td>NaN</td>\n",
       "      <td>2016-03-14 00:00:00</td>\n",
       "      <td>0</td>\n",
       "      <td>90480</td>\n",
       "      <td>2016-04-05 12:47:46</td>\n",
       "    </tr>\n",
       "    <tr>\n",
       "      <th>3</th>\n",
       "      <td>2016-03-17 16:54:04</td>\n",
       "      <td>1500</td>\n",
       "      <td>small</td>\n",
       "      <td>2001</td>\n",
       "      <td>manual</td>\n",
       "      <td>75</td>\n",
       "      <td>golf</td>\n",
       "      <td>150000</td>\n",
       "      <td>6</td>\n",
       "      <td>petrol</td>\n",
       "      <td>volkswagen</td>\n",
       "      <td>no</td>\n",
       "      <td>2016-03-17 00:00:00</td>\n",
       "      <td>0</td>\n",
       "      <td>91074</td>\n",
       "      <td>2016-03-17 17:40:17</td>\n",
       "    </tr>\n",
       "    <tr>\n",
       "      <th>4</th>\n",
       "      <td>2016-03-31 17:25:20</td>\n",
       "      <td>3600</td>\n",
       "      <td>small</td>\n",
       "      <td>2008</td>\n",
       "      <td>manual</td>\n",
       "      <td>69</td>\n",
       "      <td>fabia</td>\n",
       "      <td>90000</td>\n",
       "      <td>7</td>\n",
       "      <td>gasoline</td>\n",
       "      <td>skoda</td>\n",
       "      <td>no</td>\n",
       "      <td>2016-03-31 00:00:00</td>\n",
       "      <td>0</td>\n",
       "      <td>60437</td>\n",
       "      <td>2016-04-06 10:17:21</td>\n",
       "    </tr>\n",
       "  </tbody>\n",
       "</table>\n",
       "</div>"
      ],
      "text/plain": [
       "           DateCrawled  Price VehicleType  RegistrationYear Gearbox  Power  \\\n",
       "0  2016-03-24 11:52:17    480         NaN              1993  manual      0   \n",
       "1  2016-03-24 10:58:45  18300       coupe              2011  manual    190   \n",
       "2  2016-03-14 12:52:21   9800         suv              2004    auto    163   \n",
       "3  2016-03-17 16:54:04   1500       small              2001  manual     75   \n",
       "4  2016-03-31 17:25:20   3600       small              2008  manual     69   \n",
       "\n",
       "   Model  Kilometer  RegistrationMonth  FuelType       Brand NotRepaired  \\\n",
       "0   golf     150000                  0    petrol  volkswagen         NaN   \n",
       "1    NaN     125000                  5  gasoline        audi         yes   \n",
       "2  grand     125000                  8  gasoline        jeep         NaN   \n",
       "3   golf     150000                  6    petrol  volkswagen          no   \n",
       "4  fabia      90000                  7  gasoline       skoda          no   \n",
       "\n",
       "           DateCreated  NumberOfPictures  PostalCode             LastSeen  \n",
       "0  2016-03-24 00:00:00                 0       70435  2016-04-07 03:16:57  \n",
       "1  2016-03-24 00:00:00                 0       66954  2016-04-07 01:46:50  \n",
       "2  2016-03-14 00:00:00                 0       90480  2016-04-05 12:47:46  \n",
       "3  2016-03-17 00:00:00                 0       91074  2016-03-17 17:40:17  \n",
       "4  2016-03-31 00:00:00                 0       60437  2016-04-06 10:17:21  "
      ]
     },
     "execution_count": 4,
     "metadata": {},
     "output_type": "execute_result"
    }
   ],
   "source": [
    "df.head()  #вывожу первые пять строк"
   ]
  },
  {
   "cell_type": "markdown",
   "metadata": {},
   "source": [
    "Можно заметить, что в датасете присутствуют пропуски. Выведем информацию о Dtype    "
   ]
  },
  {
   "cell_type": "code",
   "execution_count": 5,
   "metadata": {},
   "outputs": [
    {
     "name": "stdout",
     "output_type": "stream",
     "text": [
      "<class 'pandas.core.frame.DataFrame'>\n",
      "RangeIndex: 354369 entries, 0 to 354368\n",
      "Data columns (total 16 columns):\n",
      " #   Column             Non-Null Count   Dtype \n",
      "---  ------             --------------   ----- \n",
      " 0   DateCrawled        354369 non-null  object\n",
      " 1   Price              354369 non-null  int64 \n",
      " 2   VehicleType        316879 non-null  object\n",
      " 3   RegistrationYear   354369 non-null  int64 \n",
      " 4   Gearbox            334536 non-null  object\n",
      " 5   Power              354369 non-null  int64 \n",
      " 6   Model              334664 non-null  object\n",
      " 7   Kilometer          354369 non-null  int64 \n",
      " 8   RegistrationMonth  354369 non-null  int64 \n",
      " 9   FuelType           321474 non-null  object\n",
      " 10  Brand              354369 non-null  object\n",
      " 11  NotRepaired        283215 non-null  object\n",
      " 12  DateCreated        354369 non-null  object\n",
      " 13  NumberOfPictures   354369 non-null  int64 \n",
      " 14  PostalCode         354369 non-null  int64 \n",
      " 15  LastSeen           354369 non-null  object\n",
      "dtypes: int64(7), object(9)\n",
      "memory usage: 43.3+ MB\n"
     ]
    }
   ],
   "source": [
    "df.info()  # вывожу информацию о таблице"
   ]
  },
  {
   "cell_type": "code",
   "execution_count": 6,
   "metadata": {},
   "outputs": [],
   "source": [
    "date = ['DateCrawled', 'DateCreated', 'LastSeen'] # изменяю тип данных\n",
    "df[date] = df[date].astype('datetime64')"
   ]
  },
  {
   "cell_type": "code",
   "execution_count": 7,
   "metadata": {},
   "outputs": [
    {
     "data": {
      "text/html": [
       "<div>\n",
       "<style scoped>\n",
       "    .dataframe tbody tr th:only-of-type {\n",
       "        vertical-align: middle;\n",
       "    }\n",
       "\n",
       "    .dataframe tbody tr th {\n",
       "        vertical-align: top;\n",
       "    }\n",
       "\n",
       "    .dataframe thead th {\n",
       "        text-align: right;\n",
       "    }\n",
       "</style>\n",
       "<table border=\"1\" class=\"dataframe\">\n",
       "  <thead>\n",
       "    <tr style=\"text-align: right;\">\n",
       "      <th></th>\n",
       "      <th>Price</th>\n",
       "      <th>RegistrationYear</th>\n",
       "      <th>Power</th>\n",
       "      <th>Kilometer</th>\n",
       "      <th>RegistrationMonth</th>\n",
       "      <th>NumberOfPictures</th>\n",
       "      <th>PostalCode</th>\n",
       "    </tr>\n",
       "  </thead>\n",
       "  <tbody>\n",
       "    <tr>\n",
       "      <th>count</th>\n",
       "      <td>354369.000000</td>\n",
       "      <td>354369.000000</td>\n",
       "      <td>354369.000000</td>\n",
       "      <td>354369.000000</td>\n",
       "      <td>354369.000000</td>\n",
       "      <td>354369.0</td>\n",
       "      <td>354369.000000</td>\n",
       "    </tr>\n",
       "    <tr>\n",
       "      <th>mean</th>\n",
       "      <td>4416.656776</td>\n",
       "      <td>2004.234448</td>\n",
       "      <td>110.094337</td>\n",
       "      <td>128211.172535</td>\n",
       "      <td>5.714645</td>\n",
       "      <td>0.0</td>\n",
       "      <td>50508.689087</td>\n",
       "    </tr>\n",
       "    <tr>\n",
       "      <th>std</th>\n",
       "      <td>4514.158514</td>\n",
       "      <td>90.227958</td>\n",
       "      <td>189.850405</td>\n",
       "      <td>37905.341530</td>\n",
       "      <td>3.726421</td>\n",
       "      <td>0.0</td>\n",
       "      <td>25783.096248</td>\n",
       "    </tr>\n",
       "    <tr>\n",
       "      <th>min</th>\n",
       "      <td>0.000000</td>\n",
       "      <td>1000.000000</td>\n",
       "      <td>0.000000</td>\n",
       "      <td>5000.000000</td>\n",
       "      <td>0.000000</td>\n",
       "      <td>0.0</td>\n",
       "      <td>1067.000000</td>\n",
       "    </tr>\n",
       "    <tr>\n",
       "      <th>25%</th>\n",
       "      <td>1050.000000</td>\n",
       "      <td>1999.000000</td>\n",
       "      <td>69.000000</td>\n",
       "      <td>125000.000000</td>\n",
       "      <td>3.000000</td>\n",
       "      <td>0.0</td>\n",
       "      <td>30165.000000</td>\n",
       "    </tr>\n",
       "    <tr>\n",
       "      <th>50%</th>\n",
       "      <td>2700.000000</td>\n",
       "      <td>2003.000000</td>\n",
       "      <td>105.000000</td>\n",
       "      <td>150000.000000</td>\n",
       "      <td>6.000000</td>\n",
       "      <td>0.0</td>\n",
       "      <td>49413.000000</td>\n",
       "    </tr>\n",
       "    <tr>\n",
       "      <th>75%</th>\n",
       "      <td>6400.000000</td>\n",
       "      <td>2008.000000</td>\n",
       "      <td>143.000000</td>\n",
       "      <td>150000.000000</td>\n",
       "      <td>9.000000</td>\n",
       "      <td>0.0</td>\n",
       "      <td>71083.000000</td>\n",
       "    </tr>\n",
       "    <tr>\n",
       "      <th>max</th>\n",
       "      <td>20000.000000</td>\n",
       "      <td>9999.000000</td>\n",
       "      <td>20000.000000</td>\n",
       "      <td>150000.000000</td>\n",
       "      <td>12.000000</td>\n",
       "      <td>0.0</td>\n",
       "      <td>99998.000000</td>\n",
       "    </tr>\n",
       "  </tbody>\n",
       "</table>\n",
       "</div>"
      ],
      "text/plain": [
       "               Price  RegistrationYear          Power      Kilometer  \\\n",
       "count  354369.000000     354369.000000  354369.000000  354369.000000   \n",
       "mean     4416.656776       2004.234448     110.094337  128211.172535   \n",
       "std      4514.158514         90.227958     189.850405   37905.341530   \n",
       "min         0.000000       1000.000000       0.000000    5000.000000   \n",
       "25%      1050.000000       1999.000000      69.000000  125000.000000   \n",
       "50%      2700.000000       2003.000000     105.000000  150000.000000   \n",
       "75%      6400.000000       2008.000000     143.000000  150000.000000   \n",
       "max     20000.000000       9999.000000   20000.000000  150000.000000   \n",
       "\n",
       "       RegistrationMonth  NumberOfPictures     PostalCode  \n",
       "count      354369.000000          354369.0  354369.000000  \n",
       "mean            5.714645               0.0   50508.689087  \n",
       "std             3.726421               0.0   25783.096248  \n",
       "min             0.000000               0.0    1067.000000  \n",
       "25%             3.000000               0.0   30165.000000  \n",
       "50%             6.000000               0.0   49413.000000  \n",
       "75%             9.000000               0.0   71083.000000  \n",
       "max            12.000000               0.0   99998.000000  "
      ]
     },
     "execution_count": 7,
     "metadata": {},
     "output_type": "execute_result"
    }
   ],
   "source": [
    "df.describe()"
   ]
  },
  {
   "cell_type": "markdown",
   "metadata": {},
   "source": [
    "В столбце `RegistrationYear` видны выбросы в виде года регистрации в 1000 и 9999 лет   \n",
    "В `power` виднеются значения в виде минимальной мощности в 0 и максимальной 20000    \n",
    "В `NumbersOfPictures` все значения нулевые. Их можно удалить     \n",
    "В `RegistrationMonth` дано 13 месяцев? С 0го по 12? Надо проверить    \n",
    "В `Price` есть минимальная стоимость в виде 0. Посмотрим на целевую переменную в самом конце\n",
    "    \n",
    "Так же помимо `NumbersOfPictures` предлагаю удалить    \n",
    "`DateCrawled` поскольку цена на анкете не будет завизить от даты скачивания её с базы     \n",
    "`PostalCode` поскольку почтовый индекс владельца не влияет на стоимость автомобиля (хотя тут смелое заявление, региональные цены ведь есть)      \n",
    "`LastSeen` от последней активности стоимость автомобиля не зависит     \n",
    "\n",
    "Так же перед удалением лишних столбцов надо провести проверку на явные дубликаты "
   ]
  },
  {
   "cell_type": "code",
   "execution_count": 8,
   "metadata": {},
   "outputs": [
    {
     "data": {
      "text/plain": [
       "4"
      ]
     },
     "execution_count": 8,
     "metadata": {},
     "output_type": "execute_result"
    }
   ],
   "source": [
    "df.duplicated().sum()#проверяю датасет на явные дубликаты"
   ]
  },
  {
   "cell_type": "code",
   "execution_count": 9,
   "metadata": {},
   "outputs": [],
   "source": [
    "df.drop_duplicates(inplace = True) #удаляю явные дубликаты \n",
    "df.drop(['NumberOfPictures', 'PostalCode', 'LastSeen'], axis = 1, inplace = True) #удаляем столбцы"
   ]
  },
  {
   "cell_type": "markdown",
   "metadata": {},
   "source": [
    "Надо проверить, что бы дата создания анкеты не была позже  года регистрации автомобиля. Идеи как исправить данную ошибку нет. Это критичная ошибка в заполнении данных. Потому предлагаю удалить те строки где создание анкеты происходило раньше регистрации автомобиля"
   ]
  },
  {
   "cell_type": "code",
   "execution_count": 10,
   "metadata": {},
   "outputs": [
    {
     "data": {
      "text/plain": [
       "(339835, 13)"
      ]
     },
     "execution_count": 10,
     "metadata": {},
     "output_type": "execute_result"
    }
   ],
   "source": [
    "df = df[df['DateCreated'].dt.year >= df['RegistrationYear']]  #удаляем аномальные значение годов \n",
    "df.shape # смотрим на размер таблицы "
   ]
  },
  {
   "cell_type": "markdown",
   "metadata": {},
   "source": [
    "После удаления лишних значений у нас остаётся 339839 строк. Посмотрим на аномалии в `Power` и `RegistrationYear`"
   ]
  },
  {
   "cell_type": "code",
   "execution_count": 11,
   "metadata": {},
   "outputs": [
    {
     "data": {
      "image/png": "[encoded data removed]",
      "text/plain": [
       "<Figure size 1500x700 with 2 Axes>"
      ]
     },
     "metadata": {},
     "output_type": "display_data"
    }
   ],
   "source": [
    "df.loc[:,['Power', 'RegistrationYear']].plot(kind = 'box', figsize = (15, 7), subplots = True);"
   ]
  },
  {
   "cell_type": "markdown",
   "metadata": {},
   "source": [
    "В `RegistratonYear` предлагаю удалить значения ниже 1 процентиля. Ошибки в данной колонке должны сразу отметаться. Поскольку сомневаюсь, что есть автомобили 1000года производства. Хотя возможно это назад в будущее 4?      \n",
    "В `Power` посмотрим на корреляцию, что бы решить как будем заменять значения"
   ]
  },
  {
   "cell_type": "code",
   "execution_count": 12,
   "metadata": {},
   "outputs": [
    {
     "data": {
      "image/png": "[encoded data removed]",
      "text/plain": [
       "<Figure size 1500x500 with 1 Axes>"
      ]
     },
     "metadata": {},
     "output_type": "display_data"
    }
   ],
   "source": [
    "df = df[df['RegistrationYear'] > df['RegistrationYear'].quantile(0.1)]\n",
    "\n",
    "fig = plt.figure(figsize=(15,5))\n",
    "sns.boxplot(x = df['RegistrationYear'])\n",
    "plt.show()"
   ]
  },
  {
   "cell_type": "markdown",
   "metadata": {},
   "source": [
    "В датасете мы оставили только те машины у которых была дата регистрации от 1995 до 2015 года"
   ]
  },
  {
   "cell_type": "code",
   "execution_count": 13,
   "metadata": {},
   "outputs": [
    {
     "data": {
      "image/png": "[encoded data removed]",
      "text/plain": [
       "<Figure size 600x600 with 2 Axes>"
      ]
     },
     "metadata": {},
     "output_type": "display_data"
    }
   ],
   "source": [
    "fig = plt.figure(figsize = (6,6))\n",
    "sns.heatmap(df.corr(), annot = True)\n",
    "plt.show();"
   ]
  },
  {
   "cell_type": "markdown",
   "metadata": {},
   "source": [
    "Числовые признаки почти ни как не коррелируют друг с другом.    \n",
    "Высокое значение только у `RegistrationYear` с `Price`. Возможно наше решение удаление аномалий  была верным решением   \n",
    "Посмотрим на `Power` повнимательней"
   ]
  },
  {
   "cell_type": "code",
   "execution_count": 14,
   "metadata": {},
   "outputs": [
    {
     "data": {
      "image/png": "[encoded data removed]",
      "text/plain": [
       "<Figure size 1500x700 with 1 Axes>"
      ]
     },
     "metadata": {},
     "output_type": "display_data"
    }
   ],
   "source": [
    "df['Power'].plot(kind =  'hist', bins = 100, figsize = (15,7), grid = True, range = (0, 1000));"
   ]
  },
  {
   "cell_type": "markdown",
   "metadata": {},
   "source": [
    "Мы наблюдаем много нулевых значений. И очень много выбросов в виде мощности в 1000 лошадинных сил(P.s. это мы ещё ограничили график по оси 0Х) "
   ]
  },
  {
   "cell_type": "code",
   "execution_count": 15,
   "metadata": {},
   "outputs": [],
   "source": [
    "df.query('0 < Power < 400', inplace = True) #делаю срез. "
   ]
  },
  {
   "cell_type": "code",
   "execution_count": 16,
   "metadata": {},
   "outputs": [
    {
     "data": {
      "text/plain": [
       "13"
      ]
     },
     "execution_count": 16,
     "metadata": {},
     "output_type": "execute_result"
    }
   ],
   "source": [
    "df['RegistrationMonth'].nunique() # проверим теорию о количестве месяцев в месяце регистрации автомобиля "
   ]
  },
  {
   "cell_type": "code",
   "execution_count": 17,
   "metadata": {},
   "outputs": [
    {
     "data": {
      "image/png": "[encoded data removed]",
      "text/plain": [
       "<Figure size 1500x600 with 1 Axes>"
      ]
     },
     "metadata": {},
     "output_type": "display_data"
    }
   ],
   "source": [
    "df['RegistrationMonth'].value_counts(normalize = True).plot(kind = 'barh', figsize = (15, 6), grid = True);"
   ]
  },
  {
   "cell_type": "markdown",
   "metadata": {},
   "source": [
    "Как исправить ошибку в месяце регистрации автомобиля идеи нет. Удалять почти 6% датасета не хочется.    \n",
    "Потому делаю предположение, что месяц регистрации не сильно влияет на стоимость автомобиля и просто удалю данный столбец"
   ]
  },
  {
   "cell_type": "code",
   "execution_count": 18,
   "metadata": {},
   "outputs": [],
   "source": [
    "df.drop(['RegistrationMonth'], axis = 1, inplace = True)"
   ]
  },
  {
   "cell_type": "markdown",
   "metadata": {},
   "source": [
    "Переходим к обработке пропусков"
   ]
  },
  {
   "cell_type": "code",
   "execution_count": 19,
   "metadata": {},
   "outputs": [
    {
     "data": {
      "text/html": [
       "<div>\n",
       "<style scoped>\n",
       "    .dataframe tbody tr th:only-of-type {\n",
       "        vertical-align: middle;\n",
       "    }\n",
       "\n",
       "    .dataframe tbody tr th {\n",
       "        vertical-align: top;\n",
       "    }\n",
       "\n",
       "    .dataframe thead th {\n",
       "        text-align: right;\n",
       "    }\n",
       "</style>\n",
       "<table border=\"1\" class=\"dataframe\">\n",
       "  <thead>\n",
       "    <tr style=\"text-align: right;\">\n",
       "      <th></th>\n",
       "      <th>0</th>\n",
       "    </tr>\n",
       "  </thead>\n",
       "  <tbody>\n",
       "    <tr>\n",
       "      <th>DateCrawled</th>\n",
       "      <td>0.000000</td>\n",
       "    </tr>\n",
       "    <tr>\n",
       "      <th>Price</th>\n",
       "      <td>0.000000</td>\n",
       "    </tr>\n",
       "    <tr>\n",
       "      <th>VehicleType</th>\n",
       "      <td>0.038798</td>\n",
       "    </tr>\n",
       "    <tr>\n",
       "      <th>RegistrationYear</th>\n",
       "      <td>0.000000</td>\n",
       "    </tr>\n",
       "    <tr>\n",
       "      <th>Gearbox</th>\n",
       "      <td>0.018067</td>\n",
       "    </tr>\n",
       "    <tr>\n",
       "      <th>Power</th>\n",
       "      <td>0.000000</td>\n",
       "    </tr>\n",
       "    <tr>\n",
       "      <th>Model</th>\n",
       "      <td>0.035076</td>\n",
       "    </tr>\n",
       "    <tr>\n",
       "      <th>Kilometer</th>\n",
       "      <td>0.000000</td>\n",
       "    </tr>\n",
       "    <tr>\n",
       "      <th>FuelType</th>\n",
       "      <td>0.051881</td>\n",
       "    </tr>\n",
       "    <tr>\n",
       "      <th>Brand</th>\n",
       "      <td>0.000000</td>\n",
       "    </tr>\n",
       "    <tr>\n",
       "      <th>NotRepaired</th>\n",
       "      <td>0.140397</td>\n",
       "    </tr>\n",
       "    <tr>\n",
       "      <th>DateCreated</th>\n",
       "      <td>0.000000</td>\n",
       "    </tr>\n",
       "  </tbody>\n",
       "</table>\n",
       "</div>"
      ],
      "text/plain": [
       "                         0\n",
       "DateCrawled       0.000000\n",
       "Price             0.000000\n",
       "VehicleType       0.038798\n",
       "RegistrationYear  0.000000\n",
       "Gearbox           0.018067\n",
       "Power             0.000000\n",
       "Model             0.035076\n",
       "Kilometer         0.000000\n",
       "FuelType          0.051881\n",
       "Brand             0.000000\n",
       "NotRepaired       0.140397\n",
       "DateCreated       0.000000"
      ]
     },
     "execution_count": 19,
     "metadata": {},
     "output_type": "execute_result"
    }
   ],
   "source": [
    "df.isna().mean().to_frame()"
   ]
  },
  {
   "cell_type": "code",
   "execution_count": 20,
   "metadata": {},
   "outputs": [
    {
     "data": {
      "image/png": "[encoded data removed]",
      "text/plain": [
       "<Figure size 2000x3500 with 5 Axes>"
      ]
     },
     "metadata": {},
     "output_type": "display_data"
    }
   ],
   "source": [
    "isna = [i for i in df.columns if df[i].isna().sum() != 0]\n",
    "fig = plt.figure(figsize = (20,35))\n",
    "for i in range(len(isna)):\n",
    "    data = df[isna[i]]\n",
    "    plt.subplot(len(isna), 1, i+1)\n",
    "    data.value_counts(normalize = True).plot(kind = 'barh')\n",
    "    plt.title(isna[i], fontdict = {'fontsize' : 20})"
   ]
  },
  {
   "cell_type": "markdown",
   "metadata": {},
   "source": [
    "Можно было использовать заполнение пропусков модой в некоторых столбцах, поскольку в большинстве столбцов мода составляет более 60%, а значением пропусков менее 4%. \n",
    "А в других воспользоваться удалением пропусков.   \n",
    "Но поскольку пропуски есть в категориальных столбцах я выбрал заполнить пропуски неизвестным"
   ]
  },
  {
   "cell_type": "code",
   "execution_count": 21,
   "metadata": {},
   "outputs": [],
   "source": [
    "df.loc[:,isna] = df.loc[:,isna].fillna('unknown')"
   ]
  },
  {
   "cell_type": "markdown",
   "metadata": {},
   "source": [
    "Посмотрим так же на распределение нашего целового значения"
   ]
  },
  {
   "cell_type": "code",
   "execution_count": 22,
   "metadata": {},
   "outputs": [
    {
     "data": {
      "image/png": "[encoded data removed]",
      "text/plain": [
       "<Figure size 1500x500 with 1 Axes>"
      ]
     },
     "metadata": {},
     "output_type": "display_data"
    }
   ],
   "source": [
    "df['Price'].plot(kind = 'hist', bins = 40, figsize = (15,5), grid = True);"
   ]
  },
  {
   "cell_type": "markdown",
   "metadata": {},
   "source": [
    "Имеется всплеск в районе 0 значения. Далее у нас идёт затухание целевого признака по экспоненте. Предлагаю посмотреть значения около нуля"
   ]
  },
  {
   "cell_type": "code",
   "execution_count": 23,
   "metadata": {},
   "outputs": [
    {
     "data": {
      "text/plain": [
       "0    5022\n",
       "1     509\n",
       "2       6\n",
       "5       6\n",
       "3       4\n",
       "9       1\n",
       "Name: Price, dtype: int64"
      ]
     },
     "execution_count": 23,
     "metadata": {},
     "output_type": "execute_result"
    }
   ],
   "source": [
    "df.loc[df['Price'] < 10, 'Price'].value_counts()"
   ]
  },
  {
   "cell_type": "markdown",
   "metadata": {},
   "source": [
    "Наблюдаем, что у нас есть всплеск значений 0 и 1. Возможно на сайте нет ограничения в минимальной стоимости автомобиля. И клиенты могут случайно создать заявку указав 0 стоимость "
   ]
  },
  {
   "cell_type": "code",
   "execution_count": 24,
   "metadata": {},
   "outputs": [],
   "source": [
    "df.query('Price > 1', inplace = True)"
   ]
  },
  {
   "cell_type": "markdown",
   "metadata": {},
   "source": [
    "Так же создам дополнительные столбцы с годом, месяц, днём создания анкеты "
   ]
  },
  {
   "cell_type": "code",
   "execution_count": 25,
   "metadata": {},
   "outputs": [],
   "source": [
    "df['YearCrawled'] = df['DateCrawled'].dt.year\n",
    "df['MonthCrawled'] = df['DateCrawled'].dt.month\n",
    "df['DayCrawled'] = df['DateCrawled'].dt.day\n",
    "df.drop(['DateCrawled'], axis = 1, inplace = True)"
   ]
  },
  {
   "cell_type": "code",
   "execution_count": 26,
   "metadata": {},
   "outputs": [],
   "source": [
    "df['YearCreated'] = df['DateCreated'].dt.year\n",
    "df['MonthCreated'] = df['DateCreated'].dt.month\n",
    "df['DayCreated'] = df['DateCreated'].dt.day\n",
    "df.drop(['DateCreated'], axis = 1, inplace = True)"
   ]
  },
  {
   "cell_type": "code",
   "execution_count": 27,
   "metadata": {},
   "outputs": [],
   "source": [
    "df.reset_index(drop = True, inplace = True) #обновлю значения индексов"
   ]
  },
  {
   "cell_type": "code",
   "execution_count": 28,
   "metadata": {},
   "outputs": [
    {
     "data": {
      "text/plain": [
       "(267729, 16)"
      ]
     },
     "execution_count": 28,
     "metadata": {},
     "output_type": "execute_result"
    }
   ],
   "source": [
    "shape1 = df.shape\n",
    "shape1"
   ]
  },
  {
   "cell_type": "code",
   "execution_count": 29,
   "metadata": {},
   "outputs": [
    {
     "data": {
      "text/plain": [
       "86640"
      ]
     },
     "execution_count": 29,
     "metadata": {},
     "output_type": "execute_result"
    }
   ],
   "source": [
    "shape0[0] - shape1[0]"
   ]
  },
  {
   "cell_type": "markdown",
   "metadata": {},
   "source": [
    "В результате обработки было удалено 86640 строк "
   ]
  },
  {
   "cell_type": "markdown",
   "metadata": {},
   "source": [
    "**Применение train_test_split**"
   ]
  },
  {
   "cell_type": "code",
   "execution_count": 30,
   "metadata": {},
   "outputs": [],
   "source": [
    "target = df['Price']\n",
    "features = df.drop(['Price'], axis = 1)\n",
    "\n",
    "target_train, target_test, features_train, features_test =  train_test_split(\n",
    "    target, features, test_size = 0.33, random_state = 83213)"
   ]
  },
  {
   "cell_type": "code",
   "execution_count": 31,
   "metadata": {},
   "outputs": [
    {
     "name": "stdout",
     "output_type": "stream",
     "text": [
      "В тренировочной выборке, размеры матрицы признаков  = (179378, 15), целевого признака = (179378,)\n",
      "В тестовой выборке, размеры матрицы признаков  = (88351, 15), целевого признака = (88351,)\n"
     ]
    }
   ],
   "source": [
    "for x,y,z in zip((target_train, target_test),(features_train, features_test), ('тренировочной', 'тестовой')):\n",
    "    print(f'В {z} выборке, размеры матрицы признаков  = {y.shape}, целевого признака = {x.shape}')"
   ]
  },
  {
   "cell_type": "markdown",
   "metadata": {},
   "source": [
    "**Кодирование категориальных переменных при помощи OHE** "
   ]
  },
  {
   "cell_type": "code",
   "execution_count": 32,
   "metadata": {},
   "outputs": [],
   "source": [
    "cat_cols = ['VehicleType', 'Gearbox', 'Model', 'FuelType', 'Brand', 'NotRepaired']\n",
    "\n",
    "train_one = features_train.reset_index(drop = True).copy()\n",
    "test_one = features_test.reset_index(drop = True).copy()\n",
    "\n",
    "onehot_encoder = OneHotEncoder(sparse = False, drop = 'first', dtype = 'int64')\n",
    "\n",
    "train_one_cat_cols = pd.DataFrame(onehot_encoder.fit_transform(train_one[cat_cols]))\n",
    "train_one.drop(cat_cols, axis = 1, inplace = True)\n",
    "train_one = pd.concat([train_one, train_one_cat_cols], axis = 1)\n",
    "train_one.rename(columns = lambda x:str(x), inplace = True)\n",
    "\n",
    "test_one_cat_cols = pd.DataFrame(onehot_encoder.transform(test_one[cat_cols]))\n",
    "test_one.drop(cat_cols, axis = 1, inplace = True)\n",
    "test_one = pd.concat([test_one, test_one_cat_cols], axis = 1)\n",
    "test_one.rename(columns = lambda x:str(x), inplace = True)"
   ]
  },
  {
   "cell_type": "markdown",
   "metadata": {},
   "source": [
    "**Применение StandardScaler для числовых переменных**"
   ]
  },
  {
   "cell_type": "code",
   "execution_count": 33,
   "metadata": {},
   "outputs": [],
   "source": [
    "num_cols = ['RegistrationYear', 'Power', 'Kilometer', 'YearCreated', 'MonthCreated', 'DayCreated', 'YearCreated', \n",
    "            'MonthCreated', 'DayCreated']\n",
    "\n",
    "scaler = StandardScaler()\n",
    "scaler.fit(train_one[num_cols])\n",
    "\n",
    "train_one[num_cols] = scaler.transform(train_one[num_cols])\n",
    "test_one[num_cols] = scaler.transform(test_one[num_cols])"
   ]
  },
  {
   "cell_type": "markdown",
   "metadata": {},
   "source": [
    "## Обучение моделей"
   ]
  },
  {
   "cell_type": "markdown",
   "metadata": {},
   "source": [
    "Для обучения модели использую метрику rmse"
   ]
  },
  {
   "cell_type": "code",
   "execution_count": 34,
   "metadata": {},
   "outputs": [],
   "source": [
    "def rmse(target, predictions):\n",
    "    return mean_squared_error(target, predictions)**0.5\n",
    "\n",
    "scorer = make_scorer(rmse, greater_is_better=False)"
   ]
  },
  {
   "cell_type": "code",
   "execution_count": 35,
   "metadata": {},
   "outputs": [],
   "source": [
    "def model_training(model, parametrs, x_train = train_one, y_train = target_train):\n",
    "    grid = GridSearchCV(model, parametrs, cv = 5, scoring=scorer, verbose = 5)\n",
    "    grid.fit(x_train, y_train)  \n",
    "    print(grid.best_estimator_)\n",
    "    \n",
    "    ml = grid.best_estimator_  #отбираем наилучшие параметры при помощи GridSearchCV    \n",
    "    \n",
    "    start1 = time.time()\n",
    "    ml.fit(x_train, y_train)\n",
    "    finish1 = time.time() - start1\n",
    "    print('Время обучения на тренировочной выборке составило ', finish1)\n",
    "    \n",
    "    start2 = time.time()\n",
    "    predict =  ml.predict(x_train)\n",
    "    finish2 = time.time() - start2\n",
    "    print('Время предсказания на тренировочной выборке составило ', finish2)\n",
    "    \n",
    "    print('оценка RMSE на кросс валидации = ', -(grid.best_score_))\n",
    "    \n",
    "    return -(grid.best_score_), finish1, finish2  "
   ]
  },
  {
   "cell_type": "markdown",
   "metadata": {},
   "source": [
    "**Линейная регрессия**"
   ]
  },
  {
   "cell_type": "code",
   "execution_count": 36,
   "metadata": {},
   "outputs": [
    {
     "name": "stdout",
     "output_type": "stream",
     "text": [
      "Fitting 5 folds for each of 2 candidates, totalling 10 fits\n",
      "[CV 1/5] END ............fit_intercept=True;, score=-2237.613 total time=   6.0s\n",
      "[CV 2/5] END ............fit_intercept=True;, score=-2201.348 total time=   5.8s\n",
      "[CV 3/5] END .......fit_intercept=True;, score=-396195732.658 total time=   6.8s\n",
      "[CV 4/5] END ............fit_intercept=True;, score=-2225.837 total time=   7.2s\n",
      "[CV 5/5] END ............fit_intercept=True;, score=-2198.189 total time=   6.1s\n",
      "[CV 1/5] END ...........fit_intercept=False;, score=-2237.447 total time=   5.7s\n",
      "[CV 2/5] END ...........fit_intercept=False;, score=-2201.348 total time=   5.9s\n",
      "[CV 3/5] END ...........fit_intercept=False;, score=-2227.948 total time=   6.1s\n",
      "[CV 4/5] END ...........fit_intercept=False;, score=-2225.837 total time=   7.2s\n",
      "[CV 5/5] END ...........fit_intercept=False;, score=-2198.333 total time=   7.4s\n",
      "LinearRegression(fit_intercept=False)\n",
      "Время обучения на тренировочной выборке составило  8.121455192565918\n",
      "Время предсказания на тренировочной выборке составило  0.37746095657348633\n",
      "оценка RMSE на кросс валидации =  2218.182689594114\n"
     ]
    }
   ],
   "source": [
    "model = LinearRegression()\n",
    "parameters = {'fit_intercept':[True,False]}\n",
    "\n",
    "score, finish1, finish2 = model_training(model, parameters)"
   ]
  },
  {
   "cell_type": "code",
   "execution_count": 37,
   "metadata": {},
   "outputs": [
    {
     "data": {
      "text/html": [
       "<div>\n",
       "<style scoped>\n",
       "    .dataframe tbody tr th:only-of-type {\n",
       "        vertical-align: middle;\n",
       "    }\n",
       "\n",
       "    .dataframe tbody tr th {\n",
       "        vertical-align: top;\n",
       "    }\n",
       "\n",
       "    .dataframe thead th {\n",
       "        text-align: right;\n",
       "    }\n",
       "</style>\n",
       "<table border=\"1\" class=\"dataframe\">\n",
       "  <thead>\n",
       "    <tr style=\"text-align: right;\">\n",
       "      <th></th>\n",
       "      <th>модель</th>\n",
       "      <th>rmse</th>\n",
       "      <th>время обучения</th>\n",
       "      <th>время предсказания</th>\n",
       "    </tr>\n",
       "  </thead>\n",
       "  <tbody>\n",
       "    <tr>\n",
       "      <th>0</th>\n",
       "      <td>Линейная регрессия</td>\n",
       "      <td>2218.18269</td>\n",
       "      <td>8.121455</td>\n",
       "      <td>0.377461</td>\n",
       "    </tr>\n",
       "  </tbody>\n",
       "</table>\n",
       "</div>"
      ],
      "text/plain": [
       "               модель        rmse  время обучения  время предсказания\n",
       "0  Линейная регрессия  2218.18269        8.121455            0.377461"
      ]
     },
     "execution_count": 37,
     "metadata": {},
     "output_type": "execute_result"
    }
   ],
   "source": [
    "result = pd.DataFrame({'модель':['Линейная регрессия'], 'rmse': [score], 'время обучения': [finish1], \n",
    "                        'время предсказания': [finish2]})\n",
    "result"
   ]
  },
  {
   "cell_type": "markdown",
   "metadata": {},
   "source": [
    "**Градиентный бустинг**"
   ]
  },
  {
   "cell_type": "code",
   "execution_count": 38,
   "metadata": {},
   "outputs": [
    {
     "name": "stdout",
     "output_type": "stream",
     "text": [
      "Fitting 5 folds for each of 8 candidates, totalling 40 fits\n",
      "[CV 1/5] END ..max_depth=3, n_estimators=50;, score=-1966.334 total time=  48.6s\n",
      "[CV 2/5] END ..max_depth=3, n_estimators=50;, score=-1909.656 total time=  47.0s\n",
      "[CV 3/5] END ..max_depth=3, n_estimators=50;, score=-1956.363 total time=  45.8s\n",
      "[CV 4/5] END ..max_depth=3, n_estimators=50;, score=-1966.307 total time=  42.3s\n",
      "[CV 5/5] END ..max_depth=3, n_estimators=50;, score=-1926.571 total time=  42.9s\n",
      "[CV 1/5] END ..max_depth=3, n_estimators=60;, score=-1916.551 total time=  50.3s\n",
      "[CV 2/5] END ..max_depth=3, n_estimators=60;, score=-1858.975 total time=  50.0s\n",
      "[CV 3/5] END ..max_depth=3, n_estimators=60;, score=-1906.247 total time=  53.1s\n",
      "[CV 4/5] END ..max_depth=3, n_estimators=60;, score=-1919.945 total time=  57.3s\n",
      "[CV 5/5] END ..max_depth=3, n_estimators=60;, score=-1875.736 total time=  59.3s\n",
      "[CV 1/5] END ..max_depth=3, n_estimators=70;, score=-1881.605 total time= 1.1min\n",
      "[CV 2/5] END ..max_depth=3, n_estimators=70;, score=-1825.287 total time= 1.1min\n",
      "[CV 3/5] END ..max_depth=3, n_estimators=70;, score=-1871.600 total time= 1.1min\n",
      "[CV 4/5] END ..max_depth=3, n_estimators=70;, score=-1885.043 total time= 1.1min\n",
      "[CV 5/5] END ..max_depth=3, n_estimators=70;, score=-1840.282 total time=  58.9s\n",
      "[CV 1/5] END ..max_depth=3, n_estimators=80;, score=-1857.288 total time= 1.2min\n",
      "[CV 2/5] END ..max_depth=3, n_estimators=80;, score=-1798.339 total time= 1.1min\n",
      "[CV 3/5] END ..max_depth=3, n_estimators=80;, score=-1848.022 total time= 1.1min\n",
      "[CV 4/5] END ..max_depth=3, n_estimators=80;, score=-1857.927 total time= 1.1min\n",
      "[CV 5/5] END ..max_depth=3, n_estimators=80;, score=-1813.810 total time= 1.1min\n",
      "[CV 1/5] END ..max_depth=4, n_estimators=50;, score=-1820.927 total time=  56.6s\n",
      "[CV 2/5] END ..max_depth=4, n_estimators=50;, score=-1780.896 total time= 1.0min\n",
      "[CV 3/5] END ..max_depth=4, n_estimators=50;, score=-1818.355 total time=  57.8s\n",
      "[CV 4/5] END ..max_depth=4, n_estimators=50;, score=-1834.731 total time=  58.2s\n",
      "[CV 5/5] END ..max_depth=4, n_estimators=50;, score=-1782.281 total time= 1.1min\n",
      "[CV 1/5] END ..max_depth=4, n_estimators=60;, score=-1784.656 total time= 1.1min\n",
      "[CV 2/5] END ..max_depth=4, n_estimators=60;, score=-1744.118 total time= 1.2min\n",
      "[CV 3/5] END ..max_depth=4, n_estimators=60;, score=-1782.134 total time= 1.2min\n",
      "[CV 4/5] END ..max_depth=4, n_estimators=60;, score=-1799.714 total time= 1.2min\n",
      "[CV 5/5] END ..max_depth=4, n_estimators=60;, score=-1746.988 total time= 1.2min\n",
      "[CV 1/5] END ..max_depth=4, n_estimators=70;, score=-1762.807 total time= 1.4min\n",
      "[CV 2/5] END ..max_depth=4, n_estimators=70;, score=-1718.322 total time= 1.4min\n",
      "[CV 3/5] END ..max_depth=4, n_estimators=70;, score=-1756.193 total time= 1.4min\n",
      "[CV 4/5] END ..max_depth=4, n_estimators=70;, score=-1775.890 total time= 1.4min\n",
      "[CV 5/5] END ..max_depth=4, n_estimators=70;, score=-1723.683 total time= 1.4min\n",
      "[CV 1/5] END ..max_depth=4, n_estimators=80;, score=-1743.242 total time= 1.6min\n",
      "[CV 2/5] END ..max_depth=4, n_estimators=80;, score=-1702.991 total time= 1.6min\n",
      "[CV 3/5] END ..max_depth=4, n_estimators=80;, score=-1738.935 total time= 1.6min\n",
      "[CV 4/5] END ..max_depth=4, n_estimators=80;, score=-1758.207 total time= 1.6min\n",
      "[CV 5/5] END ..max_depth=4, n_estimators=80;, score=-1705.976 total time= 1.5min\n",
      "GradientBoostingRegressor(max_depth=4, n_estimators=80, random_state=46754)\n",
      "Время обучения на тренировочной выборке составило  122.1208016872406\n",
      "Время предсказания на тренировочной выборке составило  1.276010513305664\n",
      "оценка RMSE на кросс валидации =  1729.8702444258736\n"
     ]
    }
   ],
   "source": [
    "model = GradientBoostingRegressor(random_state= 46754)\n",
    "parameters = {'n_estimators': range (50, 81, 10), 'max_depth': range (3,5)}\n",
    "\n",
    "score, finish1, finish2 = model_training(model, parameters)"
   ]
  },
  {
   "cell_type": "code",
   "execution_count": 39,
   "metadata": {},
   "outputs": [
    {
     "data": {
      "text/html": [
       "<div>\n",
       "<style scoped>\n",
       "    .dataframe tbody tr th:only-of-type {\n",
       "        vertical-align: middle;\n",
       "    }\n",
       "\n",
       "    .dataframe tbody tr th {\n",
       "        vertical-align: top;\n",
       "    }\n",
       "\n",
       "    .dataframe thead th {\n",
       "        text-align: right;\n",
       "    }\n",
       "</style>\n",
       "<table border=\"1\" class=\"dataframe\">\n",
       "  <thead>\n",
       "    <tr style=\"text-align: right;\">\n",
       "      <th></th>\n",
       "      <th>модель</th>\n",
       "      <th>rmse</th>\n",
       "      <th>время обучения</th>\n",
       "      <th>время предсказания</th>\n",
       "    </tr>\n",
       "  </thead>\n",
       "  <tbody>\n",
       "    <tr>\n",
       "      <th>0</th>\n",
       "      <td>Линейная регрессия</td>\n",
       "      <td>2218.182690</td>\n",
       "      <td>8.121455</td>\n",
       "      <td>0.377461</td>\n",
       "    </tr>\n",
       "    <tr>\n",
       "      <th>1</th>\n",
       "      <td>Градиентный бустинг</td>\n",
       "      <td>1729.870244</td>\n",
       "      <td>122.120802</td>\n",
       "      <td>1.276011</td>\n",
       "    </tr>\n",
       "  </tbody>\n",
       "</table>\n",
       "</div>"
      ],
      "text/plain": [
       "                модель         rmse  время обучения  время предсказания\n",
       "0   Линейная регрессия  2218.182690        8.121455            0.377461\n",
       "1  Градиентный бустинг  1729.870244      122.120802            1.276011"
      ]
     },
     "execution_count": 39,
     "metadata": {},
     "output_type": "execute_result"
    }
   ],
   "source": [
    "result1 = pd.DataFrame({'модель':['Градиентный бустинг'], 'rmse': [score], 'время обучения': [finish1], \n",
    "                        'время предсказания': [finish2]})\n",
    "result = pd.concat([result, result1], axis = 0)\n",
    "result.reset_index(drop=True, inplace=True)\n",
    "result"
   ]
  },
  {
   "cell_type": "markdown",
   "metadata": {},
   "source": [
    "**LightGBM**"
   ]
  },
  {
   "cell_type": "code",
   "execution_count": 40,
   "metadata": {},
   "outputs": [
    {
     "name": "stdout",
     "output_type": "stream",
     "text": [
      "Fitting 5 folds for each of 8 candidates, totalling 40 fits\n",
      "[CV 1/5] END n_estimators=100, num_leaves=31;, score=-1603.312 total time=   2.4s\n",
      "[CV 2/5] END n_estimators=100, num_leaves=31;, score=-1562.505 total time=   2.1s\n",
      "[CV 3/5] END n_estimators=100, num_leaves=31;, score=-1586.476 total time=   2.1s\n",
      "[CV 4/5] END n_estimators=100, num_leaves=31;, score=-1604.572 total time=   2.1s\n",
      "[CV 5/5] END n_estimators=100, num_leaves=31;, score=-1554.592 total time=   2.1s\n",
      "[CV 1/5] END n_estimators=100, num_leaves=41;, score=-1580.778 total time=   2.1s\n",
      "[CV 2/5] END n_estimators=100, num_leaves=41;, score=-1541.459 total time=   2.2s\n",
      "[CV 3/5] END n_estimators=100, num_leaves=41;, score=-1565.499 total time=   2.2s\n",
      "[CV 4/5] END n_estimators=100, num_leaves=41;, score=-1583.212 total time=   2.4s\n",
      "[CV 5/5] END n_estimators=100, num_leaves=41;, score=-1530.415 total time=   2.2s\n",
      "[CV 1/5] END n_estimators=110, num_leaves=31;, score=-1595.513 total time=   2.1s\n",
      "[CV 2/5] END n_estimators=110, num_leaves=31;, score=-1556.957 total time=   2.1s\n",
      "[CV 3/5] END n_estimators=110, num_leaves=31;, score=-1580.890 total time=   2.1s\n",
      "[CV 4/5] END n_estimators=110, num_leaves=31;, score=-1596.874 total time=   2.1s\n",
      "[CV 5/5] END n_estimators=110, num_leaves=31;, score=-1545.933 total time=   2.2s\n",
      "[CV 1/5] END n_estimators=110, num_leaves=41;, score=-1574.119 total time=   2.3s\n",
      "[CV 2/5] END n_estimators=110, num_leaves=41;, score=-1534.906 total time=   2.3s\n",
      "[CV 3/5] END n_estimators=110, num_leaves=41;, score=-1557.872 total time=   2.1s\n",
      "[CV 4/5] END n_estimators=110, num_leaves=41;, score=-1576.618 total time=   2.3s\n",
      "[CV 5/5] END n_estimators=110, num_leaves=41;, score=-1522.897 total time=   2.4s\n",
      "[CV 1/5] END n_estimators=120, num_leaves=31;, score=-1590.292 total time=   2.3s\n",
      "[CV 2/5] END n_estimators=120, num_leaves=31;, score=-1550.765 total time=   2.1s\n",
      "[CV 3/5] END n_estimators=120, num_leaves=31;, score=-1573.787 total time=   2.3s\n",
      "[CV 4/5] END n_estimators=120, num_leaves=31;, score=-1591.163 total time=   2.2s\n",
      "[CV 5/5] END n_estimators=120, num_leaves=31;, score=-1539.707 total time=   2.2s\n",
      "[CV 1/5] END n_estimators=120, num_leaves=41;, score=-1567.892 total time=   2.4s\n",
      "[CV 2/5] END n_estimators=120, num_leaves=41;, score=-1529.422 total time=   2.3s\n",
      "[CV 3/5] END n_estimators=120, num_leaves=41;, score=-1550.719 total time=   2.3s\n",
      "[CV 4/5] END n_estimators=120, num_leaves=41;, score=-1569.989 total time=   2.2s\n",
      "[CV 5/5] END n_estimators=120, num_leaves=41;, score=-1517.811 total time=   2.3s\n",
      "[CV 1/5] END n_estimators=130, num_leaves=31;, score=-1584.651 total time=   2.2s\n",
      "[CV 2/5] END n_estimators=130, num_leaves=31;, score=-1544.449 total time=   2.1s\n",
      "[CV 3/5] END n_estimators=130, num_leaves=31;, score=-1567.592 total time=   2.2s\n",
      "[CV 4/5] END n_estimators=130, num_leaves=31;, score=-1586.691 total time=   2.2s\n",
      "[CV 5/5] END n_estimators=130, num_leaves=31;, score=-1534.511 total time=   2.2s\n",
      "[CV 1/5] END n_estimators=130, num_leaves=41;, score=-1561.264 total time=   2.3s\n",
      "[CV 2/5] END n_estimators=130, num_leaves=41;, score=-1524.356 total time=   2.4s\n",
      "[CV 3/5] END n_estimators=130, num_leaves=41;, score=-1545.885 total time=   2.6s\n",
      "[CV 4/5] END n_estimators=130, num_leaves=41;, score=-1565.691 total time=   2.4s\n",
      "[CV 5/5] END n_estimators=130, num_leaves=41;, score=-1513.097 total time=   2.4s\n",
      "LGBMRegressor(n_estimators=130, num_leaves=41, random_state=45648741)\n",
      "Время обучения на тренировочной выборке составило  2.3556904792785645\n",
      "Время предсказания на тренировочной выборке составило  1.2869987487792969\n",
      "оценка RMSE на кросс валидации =  1542.058381386138\n"
     ]
    }
   ],
   "source": [
    "model = LGBMRegressor(random_state=45648741)\n",
    "parametrs = {'n_estimators': range(100,131, 10), 'num_leaves': range(31,42,10)}\n",
    "\n",
    "score, finish1, finish2 = model_training(model, parametrs)"
   ]
  },
  {
   "cell_type": "code",
   "execution_count": 41,
   "metadata": {},
   "outputs": [
    {
     "data": {
      "text/html": [
       "<div>\n",
       "<style scoped>\n",
       "    .dataframe tbody tr th:only-of-type {\n",
       "        vertical-align: middle;\n",
       "    }\n",
       "\n",
       "    .dataframe tbody tr th {\n",
       "        vertical-align: top;\n",
       "    }\n",
       "\n",
       "    .dataframe thead th {\n",
       "        text-align: right;\n",
       "    }\n",
       "</style>\n",
       "<table border=\"1\" class=\"dataframe\">\n",
       "  <thead>\n",
       "    <tr style=\"text-align: right;\">\n",
       "      <th></th>\n",
       "      <th>модель</th>\n",
       "      <th>rmse</th>\n",
       "      <th>время обучения</th>\n",
       "      <th>время предсказания</th>\n",
       "    </tr>\n",
       "  </thead>\n",
       "  <tbody>\n",
       "    <tr>\n",
       "      <th>0</th>\n",
       "      <td>Линейная регрессия</td>\n",
       "      <td>2218.182690</td>\n",
       "      <td>8.121455</td>\n",
       "      <td>0.377461</td>\n",
       "    </tr>\n",
       "    <tr>\n",
       "      <th>1</th>\n",
       "      <td>Градиентный бустинг</td>\n",
       "      <td>1729.870244</td>\n",
       "      <td>122.120802</td>\n",
       "      <td>1.276011</td>\n",
       "    </tr>\n",
       "    <tr>\n",
       "      <th>2</th>\n",
       "      <td>LightGBM</td>\n",
       "      <td>1542.058381</td>\n",
       "      <td>2.355690</td>\n",
       "      <td>1.286999</td>\n",
       "    </tr>\n",
       "  </tbody>\n",
       "</table>\n",
       "</div>"
      ],
      "text/plain": [
       "                модель         rmse  время обучения  время предсказания\n",
       "0   Линейная регрессия  2218.182690        8.121455            0.377461\n",
       "1  Градиентный бустинг  1729.870244      122.120802            1.276011\n",
       "2             LightGBM  1542.058381        2.355690            1.286999"
      ]
     },
     "execution_count": 41,
     "metadata": {},
     "output_type": "execute_result"
    }
   ],
   "source": [
    "result1 = pd.DataFrame({'модель':['LightGBM'], 'rmse': [score], 'время обучения': [finish1], \n",
    "                        'время предсказания': [finish2]})\n",
    "result = pd.concat([result, result1], axis = 0)\n",
    "result.reset_index(drop=True, inplace=True)\n",
    "result"
   ]
  },
  {
   "cell_type": "markdown",
   "metadata": {},
   "source": [
    "**Catboost**"
   ]
  },
  {
   "cell_type": "code",
   "execution_count": 42,
   "metadata": {},
   "outputs": [],
   "source": [
    "encoder = OrdinalEncoder()\n",
    "\n",
    "ordinal_train = features_train.reset_index(drop=True).copy()\n",
    "ordinal_train[cat_cols] = encoder.fit_transform(ordinal_train[cat_cols])\n",
    "\n",
    "ordinal_test = features_test.reset_index(drop=True).copy()\n",
    "ordinal_test[cat_cols] = encoder.transform(ordinal_test[cat_cols])"
   ]
  },
  {
   "cell_type": "code",
   "execution_count": 43,
   "metadata": {},
   "outputs": [
    {
     "name": "stdout",
     "output_type": "stream",
     "text": [
      "Fitting 3 folds for each of 4 candidates, totalling 12 fits\n",
      "[CV 1/3] END ...depth=4, learning_rate=0.01;, score=-1809.921 total time=   9.7s\n",
      "[CV 2/3] END ...depth=4, learning_rate=0.01;, score=-1821.311 total time=   9.2s\n",
      "[CV 3/3] END ...depth=4, learning_rate=0.01;, score=-1797.791 total time=   9.0s\n",
      "[CV 1/3] END ...depth=4, learning_rate=0.02;, score=-1710.330 total time=   9.0s\n",
      "[CV 2/3] END ...depth=4, learning_rate=0.02;, score=-1720.552 total time=   9.2s\n",
      "[CV 3/3] END ...depth=4, learning_rate=0.02;, score=-1694.995 total time=   9.1s\n",
      "[CV 1/3] END ...depth=5, learning_rate=0.01;, score=-1751.943 total time=  11.2s\n",
      "[CV 2/3] END ...depth=5, learning_rate=0.01;, score=-1761.536 total time=  11.3s\n",
      "[CV 3/3] END ...depth=5, learning_rate=0.01;, score=-1740.354 total time=  10.7s\n",
      "[CV 1/3] END ...depth=5, learning_rate=0.02;, score=-1665.000 total time=  10.5s\n",
      "[CV 2/3] END ...depth=5, learning_rate=0.02;, score=-1667.219 total time=  10.3s\n",
      "[CV 3/3] END ...depth=5, learning_rate=0.02;, score=-1645.738 total time=  10.4s\n"
     ]
    },
    {
     "data": {
      "text/html": [
       "<style>#sk-container-id-1 {color: black;background-color: white;}#sk-container-id-1 pre{padding: 0;}#sk-container-id-1 div.sk-toggleable {background-color: white;}#sk-container-id-1 label.sk-toggleable__label {cursor: pointer;display: block;width: 100%;margin-bottom: 0;padding: 0.3em;box-sizing: border-box;text-align: center;}#sk-container-id-1 label.sk-toggleable__label-arrow:before {content: \"▸\";float: left;margin-right: 0.25em;color: #696969;}#sk-container-id-1 label.sk-toggleable__label-arrow:hover:before {color: black;}#sk-container-id-1 div.sk-estimator:hover label.sk-toggleable__label-arrow:before {color: black;}#sk-container-id-1 div.sk-toggleable__content {max-height: 0;max-width: 0;overflow: hidden;text-align: left;background-color: #f0f8ff;}#sk-container-id-1 div.sk-toggleable__content pre {margin: 0.2em;color: black;border-radius: 0.25em;background-color: #f0f8ff;}#sk-container-id-1 input.sk-toggleable__control:checked~div.sk-toggleable__content {max-height: 200px;max-width: 100%;overflow: auto;}#sk-container-id-1 input.sk-toggleable__control:checked~label.sk-toggleable__label-arrow:before {content: \"▾\";}#sk-container-id-1 div.sk-estimator input.sk-toggleable__control:checked~label.sk-toggleable__label {background-color: #d4ebff;}#sk-container-id-1 div.sk-label input.sk-toggleable__control:checked~label.sk-toggleable__label {background-color: #d4ebff;}#sk-container-id-1 input.sk-hidden--visually {border: 0;clip: rect(1px 1px 1px 1px);clip: rect(1px, 1px, 1px, 1px);height: 1px;margin: -1px;overflow: hidden;padding: 0;position: absolute;width: 1px;}#sk-container-id-1 div.sk-estimator {font-family: monospace;background-color: #f0f8ff;border: 1px dotted black;border-radius: 0.25em;box-sizing: border-box;margin-bottom: 0.5em;}#sk-container-id-1 div.sk-estimator:hover {background-color: #d4ebff;}#sk-container-id-1 div.sk-parallel-item::after {content: \"\";width: 100%;border-bottom: 1px solid gray;flex-grow: 1;}#sk-container-id-1 div.sk-label:hover label.sk-toggleable__label {background-color: #d4ebff;}#sk-container-id-1 div.sk-serial::before {content: \"\";position: absolute;border-left: 1px solid gray;box-sizing: border-box;top: 0;bottom: 0;left: 50%;z-index: 0;}#sk-container-id-1 div.sk-serial {display: flex;flex-direction: column;align-items: center;background-color: white;padding-right: 0.2em;padding-left: 0.2em;position: relative;}#sk-container-id-1 div.sk-item {position: relative;z-index: 1;}#sk-container-id-1 div.sk-parallel {display: flex;align-items: stretch;justify-content: center;background-color: white;position: relative;}#sk-container-id-1 div.sk-item::before, #sk-container-id-1 div.sk-parallel-item::before {content: \"\";position: absolute;border-left: 1px solid gray;box-sizing: border-box;top: 0;bottom: 0;left: 50%;z-index: -1;}#sk-container-id-1 div.sk-parallel-item {display: flex;flex-direction: column;z-index: 1;position: relative;background-color: white;}#sk-container-id-1 div.sk-parallel-item:first-child::after {align-self: flex-end;width: 50%;}#sk-container-id-1 div.sk-parallel-item:last-child::after {align-self: flex-start;width: 50%;}#sk-container-id-1 div.sk-parallel-item:only-child::after {width: 0;}#sk-container-id-1 div.sk-dashed-wrapped {border: 1px dashed gray;margin: 0 0.4em 0.5em 0.4em;box-sizing: border-box;padding-bottom: 0.4em;background-color: white;}#sk-container-id-1 div.sk-label label {font-family: monospace;font-weight: bold;display: inline-block;line-height: 1.2em;}#sk-container-id-1 div.sk-label-container {text-align: center;}#sk-container-id-1 div.sk-container {/* jupyter's `normalize.less` sets `[hidden] { display: none; }` but bootstrap.min.css set `[hidden] { display: none !important; }` so we also need the `!important` here to be able to override the default hidden behavior on the sphinx rendered scikit-learn.org. See: https://github.com/scikit-learn/scikit-learn/issues/21755 */display: inline-block !important;position: relative;}#sk-container-id-1 div.sk-text-repr-fallback {display: none;}</style><div id=\"sk-container-id-1\" class=\"sk-top-container\"><div class=\"sk-text-repr-fallback\"><pre>GridSearchCV(cv=3,\n",
       "             estimator=&lt;catboost.core.CatBoostRegressor object at 0x000002498A226280&gt;,\n",
       "             param_grid={&#x27;depth&#x27;: [4, 5], &#x27;learning_rate&#x27;: [0.01, 0.02]},\n",
       "             scoring=make_scorer(rmse, greater_is_better=False), verbose=3)</pre><b>In a Jupyter environment, please rerun this cell to show the HTML representation or trust the notebook. <br />On GitHub, the HTML representation is unable to render, please try loading this page with nbviewer.org.</b></div><div class=\"sk-container\" hidden><div class=\"sk-item sk-dashed-wrapped\"><div class=\"sk-label-container\"><div class=\"sk-label sk-toggleable\"><input class=\"sk-toggleable__control sk-hidden--visually\" id=\"sk-estimator-id-1\" type=\"checkbox\" ><label for=\"sk-estimator-id-1\" class=\"sk-toggleable__label sk-toggleable__label-arrow\">GridSearchCV</label><div class=\"sk-toggleable__content\"><pre>GridSearchCV(cv=3,\n",
       "             estimator=&lt;catboost.core.CatBoostRegressor object at 0x000002498A226280&gt;,\n",
       "             param_grid={&#x27;depth&#x27;: [4, 5], &#x27;learning_rate&#x27;: [0.01, 0.02]},\n",
       "             scoring=make_scorer(rmse, greater_is_better=False), verbose=3)</pre></div></div></div><div class=\"sk-parallel\"><div class=\"sk-parallel-item\"><div class=\"sk-item\"><div class=\"sk-label-container\"><div class=\"sk-label sk-toggleable\"><input class=\"sk-toggleable__control sk-hidden--visually\" id=\"sk-estimator-id-2\" type=\"checkbox\" ><label for=\"sk-estimator-id-2\" class=\"sk-toggleable__label sk-toggleable__label-arrow\">estimator: CatBoostRegressor</label><div class=\"sk-toggleable__content\"><pre>&lt;catboost.core.CatBoostRegressor object at 0x000002498A226280&gt;</pre></div></div></div><div class=\"sk-serial\"><div class=\"sk-item\"><div class=\"sk-estimator sk-toggleable\"><input class=\"sk-toggleable__control sk-hidden--visually\" id=\"sk-estimator-id-3\" type=\"checkbox\" ><label for=\"sk-estimator-id-3\" class=\"sk-toggleable__label sk-toggleable__label-arrow\">CatBoostRegressor</label><div class=\"sk-toggleable__content\"><pre>&lt;catboost.core.CatBoostRegressor object at 0x000002498A226280&gt;</pre></div></div></div></div></div></div></div></div></div></div>"
      ],
      "text/plain": [
       "GridSearchCV(cv=3,\n",
       "             estimator=<catboost.core.CatBoostRegressor object at 0x000002498A226280>,\n",
       "             param_grid={'depth': [4, 5], 'learning_rate': [0.01, 0.02]},\n",
       "             scoring=make_scorer(rmse, greater_is_better=False), verbose=3)"
      ]
     },
     "execution_count": 43,
     "metadata": {},
     "output_type": "execute_result"
    }
   ],
   "source": [
    "model = CatBoostRegressor(random_state=234, verbose=False)\n",
    "parametrs = {'depth': [4,5],\n",
    "             'learning_rate' : [0.01,0.02]}\n",
    "\n",
    "grid = GridSearchCV(model, parametrs, cv = 3, scoring=scorer, verbose = 3)\n",
    "grid.fit(ordinal_train, target_train)"
   ]
  },
  {
   "cell_type": "code",
   "execution_count": 44,
   "metadata": {},
   "outputs": [],
   "source": [
    "ml_cat = grid.best_estimator_\n",
    "start1 = time.time()\n",
    "ml_cat.fit(ordinal_train, target_train)\n",
    "finish1 = time.time() - start1"
   ]
  },
  {
   "cell_type": "code",
   "execution_count": 45,
   "metadata": {},
   "outputs": [
    {
     "name": "stdout",
     "output_type": "stream",
     "text": [
      "Время предсказания на тренировочной выборке составило  0.05399155616760254\n",
      "Время обучения на тренировочной выборке составило  15.97615647315979\n"
     ]
    }
   ],
   "source": [
    "start2 = time.time()\n",
    "predict =  ml_cat.predict(ordinal_train)\n",
    "finish2 = time.time() - start2\n",
    "print('Время предсказания на тренировочной выборке составило ', finish2)\n",
    "print('Время обучения на тренировочной выборке составило ', finish1)"
   ]
  },
  {
   "cell_type": "code",
   "execution_count": 46,
   "metadata": {},
   "outputs": [
    {
     "name": "stdout",
     "output_type": "stream",
     "text": [
      "RMSE на тренировочной выборке =  1644.8659659318753\n"
     ]
    }
   ],
   "source": [
    "score = rmse(target_train, ml_cat.predict(ordinal_train))\n",
    "print('RMSE на тренировочной выборке = ', score)"
   ]
  },
  {
   "cell_type": "code",
   "execution_count": 47,
   "metadata": {},
   "outputs": [
    {
     "data": {
      "text/html": [
       "<div>\n",
       "<style scoped>\n",
       "    .dataframe tbody tr th:only-of-type {\n",
       "        vertical-align: middle;\n",
       "    }\n",
       "\n",
       "    .dataframe tbody tr th {\n",
       "        vertical-align: top;\n",
       "    }\n",
       "\n",
       "    .dataframe thead th {\n",
       "        text-align: right;\n",
       "    }\n",
       "</style>\n",
       "<table border=\"1\" class=\"dataframe\">\n",
       "  <thead>\n",
       "    <tr style=\"text-align: right;\">\n",
       "      <th></th>\n",
       "      <th>модель</th>\n",
       "      <th>rmse</th>\n",
       "      <th>время обучения</th>\n",
       "      <th>время предсказания</th>\n",
       "    </tr>\n",
       "  </thead>\n",
       "  <tbody>\n",
       "    <tr>\n",
       "      <th>0</th>\n",
       "      <td>Линейная регрессия</td>\n",
       "      <td>2218.182690</td>\n",
       "      <td>8.121455</td>\n",
       "      <td>0.377461</td>\n",
       "    </tr>\n",
       "    <tr>\n",
       "      <th>1</th>\n",
       "      <td>Градиентный бустинг</td>\n",
       "      <td>1729.870244</td>\n",
       "      <td>122.120802</td>\n",
       "      <td>1.276011</td>\n",
       "    </tr>\n",
       "    <tr>\n",
       "      <th>2</th>\n",
       "      <td>LightGBM</td>\n",
       "      <td>1542.058381</td>\n",
       "      <td>2.355690</td>\n",
       "      <td>1.286999</td>\n",
       "    </tr>\n",
       "    <tr>\n",
       "      <th>3</th>\n",
       "      <td>Catboost</td>\n",
       "      <td>1644.865966</td>\n",
       "      <td>15.976156</td>\n",
       "      <td>0.053992</td>\n",
       "    </tr>\n",
       "  </tbody>\n",
       "</table>\n",
       "</div>"
      ],
      "text/plain": [
       "                модель         rmse  время обучения  время предсказания\n",
       "0   Линейная регрессия  2218.182690        8.121455            0.377461\n",
       "1  Градиентный бустинг  1729.870244      122.120802            1.276011\n",
       "2             LightGBM  1542.058381        2.355690            1.286999\n",
       "3             Catboost  1644.865966       15.976156            0.053992"
      ]
     },
     "execution_count": 47,
     "metadata": {},
     "output_type": "execute_result"
    }
   ],
   "source": [
    "result1 = pd.DataFrame({'модель':['Catboost'], 'rmse': [score], 'время обучения': [finish1], \n",
    "                        'время предсказания': [finish2]})\n",
    "result = pd.concat([result, result1], axis = 0)\n",
    "result.reset_index(drop=True, inplace=True)\n",
    "result"
   ]
  },
  {
   "cell_type": "markdown",
   "metadata": {},
   "source": [
    "**Случайный лес**"
   ]
  },
  {
   "cell_type": "code",
   "execution_count": 48,
   "metadata": {},
   "outputs": [
    {
     "name": "stdout",
     "output_type": "stream",
     "text": [
      "Fitting 5 folds for each of 8 candidates, totalling 40 fits\n",
      "[CV 1/5] END ..max_depth=3, n_estimators=50;, score=-2873.217 total time=   4.8s\n",
      "[CV 2/5] END ..max_depth=3, n_estimators=50;, score=-2844.940 total time=   4.8s\n",
      "[CV 3/5] END ..max_depth=3, n_estimators=50;, score=-2863.996 total time=   5.1s\n",
      "[CV 4/5] END ..max_depth=3, n_estimators=50;, score=-2860.030 total time=   5.0s\n",
      "[CV 5/5] END ..max_depth=3, n_estimators=50;, score=-2831.253 total time=   5.1s\n",
      "[CV 1/5] END ..max_depth=3, n_estimators=60;, score=-2873.206 total time=   6.0s\n",
      "[CV 2/5] END ..max_depth=3, n_estimators=60;, score=-2842.512 total time=   6.1s\n",
      "[CV 3/5] END ..max_depth=3, n_estimators=60;, score=-2865.217 total time=   5.8s\n",
      "[CV 4/5] END ..max_depth=3, n_estimators=60;, score=-2859.873 total time=   5.9s\n",
      "[CV 5/5] END ..max_depth=3, n_estimators=60;, score=-2830.810 total time=   5.9s\n",
      "[CV 1/5] END ..max_depth=3, n_estimators=70;, score=-2871.619 total time=   7.1s\n",
      "[CV 2/5] END ..max_depth=3, n_estimators=70;, score=-2841.907 total time=   6.9s\n",
      "[CV 3/5] END ..max_depth=3, n_estimators=70;, score=-2865.718 total time=   6.9s\n",
      "[CV 4/5] END ..max_depth=3, n_estimators=70;, score=-2860.877 total time=   6.9s\n",
      "[CV 5/5] END ..max_depth=3, n_estimators=70;, score=-2828.930 total time=   7.0s\n",
      "[CV 1/5] END ..max_depth=3, n_estimators=80;, score=-2871.693 total time=   8.5s\n",
      "[CV 2/5] END ..max_depth=3, n_estimators=80;, score=-2841.882 total time=   8.2s\n",
      "[CV 3/5] END ..max_depth=3, n_estimators=80;, score=-2865.512 total time=   8.0s\n",
      "[CV 4/5] END ..max_depth=3, n_estimators=80;, score=-2861.239 total time=   8.0s\n",
      "[CV 5/5] END ..max_depth=3, n_estimators=80;, score=-2829.281 total time=   7.9s\n",
      "[CV 1/5] END ..max_depth=4, n_estimators=50;, score=-2509.540 total time=   6.5s\n",
      "[CV 2/5] END ..max_depth=4, n_estimators=50;, score=-2470.366 total time=   6.6s\n",
      "[CV 3/5] END ..max_depth=4, n_estimators=50;, score=-2497.089 total time=   6.9s\n",
      "[CV 4/5] END ..max_depth=4, n_estimators=50;, score=-2512.054 total time=   7.2s\n",
      "[CV 5/5] END ..max_depth=4, n_estimators=50;, score=-2477.351 total time=   7.0s\n",
      "[CV 1/5] END ..max_depth=4, n_estimators=60;, score=-2509.228 total time=   7.8s\n",
      "[CV 2/5] END ..max_depth=4, n_estimators=60;, score=-2467.645 total time=   7.6s\n",
      "[CV 3/5] END ..max_depth=4, n_estimators=60;, score=-2496.748 total time=   7.9s\n",
      "[CV 4/5] END ..max_depth=4, n_estimators=60;, score=-2512.808 total time=   7.9s\n",
      "[CV 5/5] END ..max_depth=4, n_estimators=60;, score=-2477.892 total time=   7.8s\n",
      "[CV 1/5] END ..max_depth=4, n_estimators=70;, score=-2505.881 total time=   9.1s\n",
      "[CV 2/5] END ..max_depth=4, n_estimators=70;, score=-2466.389 total time=   9.0s\n",
      "[CV 3/5] END ..max_depth=4, n_estimators=70;, score=-2496.876 total time=   9.2s\n",
      "[CV 4/5] END ..max_depth=4, n_estimators=70;, score=-2513.818 total time=   9.2s\n",
      "[CV 5/5] END ..max_depth=4, n_estimators=70;, score=-2475.986 total time=   9.2s\n",
      "[CV 1/5] END ..max_depth=4, n_estimators=80;, score=-2506.649 total time=  10.4s\n",
      "[CV 2/5] END ..max_depth=4, n_estimators=80;, score=-2466.618 total time=  10.0s\n",
      "[CV 3/5] END ..max_depth=4, n_estimators=80;, score=-2495.037 total time=  10.3s\n",
      "[CV 4/5] END ..max_depth=4, n_estimators=80;, score=-2513.205 total time=  11.5s\n",
      "[CV 5/5] END ..max_depth=4, n_estimators=80;, score=-2476.100 total time=  10.6s\n",
      "RandomForestRegressor(max_depth=4, n_estimators=80, random_state=12378)\n",
      "Время обучения на тренировочной выборке составило  13.771007537841797\n",
      "Время предсказания на тренировочной выборке составило  0.6680014133453369\n",
      "оценка RMSE на кросс валидации =  2491.5217515578006\n"
     ]
    }
   ],
   "source": [
    "model = RandomForestRegressor(random_state= 12378)\n",
    "parametrs = {'n_estimators': range (50, 81, 10), 'max_depth': range (3,5)}\n",
    "\n",
    "score, finish1, finish2 = model_training(model, parametrs, x_train = ordinal_train)"
   ]
  },
  {
   "cell_type": "code",
   "execution_count": 49,
   "metadata": {},
   "outputs": [
    {
     "data": {
      "text/html": [
       "<div>\n",
       "<style scoped>\n",
       "    .dataframe tbody tr th:only-of-type {\n",
       "        vertical-align: middle;\n",
       "    }\n",
       "\n",
       "    .dataframe tbody tr th {\n",
       "        vertical-align: top;\n",
       "    }\n",
       "\n",
       "    .dataframe thead th {\n",
       "        text-align: right;\n",
       "    }\n",
       "</style>\n",
       "<table border=\"1\" class=\"dataframe\">\n",
       "  <thead>\n",
       "    <tr style=\"text-align: right;\">\n",
       "      <th></th>\n",
       "      <th>модель</th>\n",
       "      <th>rmse</th>\n",
       "      <th>время обучения</th>\n",
       "      <th>время предсказания</th>\n",
       "    </tr>\n",
       "  </thead>\n",
       "  <tbody>\n",
       "    <tr>\n",
       "      <th>0</th>\n",
       "      <td>Линейная регрессия</td>\n",
       "      <td>2218.182690</td>\n",
       "      <td>8.121455</td>\n",
       "      <td>0.377461</td>\n",
       "    </tr>\n",
       "    <tr>\n",
       "      <th>1</th>\n",
       "      <td>Градиентный бустинг</td>\n",
       "      <td>1729.870244</td>\n",
       "      <td>122.120802</td>\n",
       "      <td>1.276011</td>\n",
       "    </tr>\n",
       "    <tr>\n",
       "      <th>2</th>\n",
       "      <td>LightGBM</td>\n",
       "      <td>1542.058381</td>\n",
       "      <td>2.355690</td>\n",
       "      <td>1.286999</td>\n",
       "    </tr>\n",
       "    <tr>\n",
       "      <th>3</th>\n",
       "      <td>Catboost</td>\n",
       "      <td>1644.865966</td>\n",
       "      <td>15.976156</td>\n",
       "      <td>0.053992</td>\n",
       "    </tr>\n",
       "    <tr>\n",
       "      <th>4</th>\n",
       "      <td>Случайный лес</td>\n",
       "      <td>2491.521752</td>\n",
       "      <td>13.771008</td>\n",
       "      <td>0.668001</td>\n",
       "    </tr>\n",
       "  </tbody>\n",
       "</table>\n",
       "</div>"
      ],
      "text/plain": [
       "                модель         rmse  время обучения  время предсказания\n",
       "0   Линейная регрессия  2218.182690        8.121455            0.377461\n",
       "1  Градиентный бустинг  1729.870244      122.120802            1.276011\n",
       "2             LightGBM  1542.058381        2.355690            1.286999\n",
       "3             Catboost  1644.865966       15.976156            0.053992\n",
       "4        Случайный лес  2491.521752       13.771008            0.668001"
      ]
     },
     "execution_count": 49,
     "metadata": {},
     "output_type": "execute_result"
    }
   ],
   "source": [
    "result1 = pd.DataFrame({'модель':['Случайный лес'], 'rmse': [score], 'время обучения': [finish1], \n",
    "                        'время предсказания': [finish2]})\n",
    "result = pd.concat([result, result1], axis = 0)\n",
    "result.reset_index(drop=True, inplace=True)\n",
    "result"
   ]
  },
  {
   "cell_type": "markdown",
   "metadata": {},
   "source": [
    "## Анализ моделей"
   ]
  },
  {
   "cell_type": "markdown",
   "metadata": {},
   "source": [
    "В таблице `result` предоставленны результаты с оценкой, временем обучения и временем предсказания.    \n",
    "Самое быстрое время и качество обучения у `lightGBM`    \n",
    "В то время как время предсказания лучше всего у `Сatboost`   \n",
    "Попробуем применить модели  `lightGBM` и `Catboost` на тестовой выборке"
   ]
  },
  {
   "cell_type": "markdown",
   "metadata": {},
   "source": [
    "**LightGBM**"
   ]
  },
  {
   "cell_type": "code",
   "execution_count": 50,
   "metadata": {},
   "outputs": [
    {
     "data": {
      "text/html": [
       "<style>#sk-container-id-2 {color: black;background-color: white;}#sk-container-id-2 pre{padding: 0;}#sk-container-id-2 div.sk-toggleable {background-color: white;}#sk-container-id-2 label.sk-toggleable__label {cursor: pointer;display: block;width: 100%;margin-bottom: 0;padding: 0.3em;box-sizing: border-box;text-align: center;}#sk-container-id-2 label.sk-toggleable__label-arrow:before {content: \"▸\";float: left;margin-right: 0.25em;color: #696969;}#sk-container-id-2 label.sk-toggleable__label-arrow:hover:before {color: black;}#sk-container-id-2 div.sk-estimator:hover label.sk-toggleable__label-arrow:before {color: black;}#sk-container-id-2 div.sk-toggleable__content {max-height: 0;max-width: 0;overflow: hidden;text-align: left;background-color: #f0f8ff;}#sk-container-id-2 div.sk-toggleable__content pre {margin: 0.2em;color: black;border-radius: 0.25em;background-color: #f0f8ff;}#sk-container-id-2 input.sk-toggleable__control:checked~div.sk-toggleable__content {max-height: 200px;max-width: 100%;overflow: auto;}#sk-container-id-2 input.sk-toggleable__control:checked~label.sk-toggleable__label-arrow:before {content: \"▾\";}#sk-container-id-2 div.sk-estimator input.sk-toggleable__control:checked~label.sk-toggleable__label {background-color: #d4ebff;}#sk-container-id-2 div.sk-label input.sk-toggleable__control:checked~label.sk-toggleable__label {background-color: #d4ebff;}#sk-container-id-2 input.sk-hidden--visually {border: 0;clip: rect(1px 1px 1px 1px);clip: rect(1px, 1px, 1px, 1px);height: 1px;margin: -1px;overflow: hidden;padding: 0;position: absolute;width: 1px;}#sk-container-id-2 div.sk-estimator {font-family: monospace;background-color: #f0f8ff;border: 1px dotted black;border-radius: 0.25em;box-sizing: border-box;margin-bottom: 0.5em;}#sk-container-id-2 div.sk-estimator:hover {background-color: #d4ebff;}#sk-container-id-2 div.sk-parallel-item::after {content: \"\";width: 100%;border-bottom: 1px solid gray;flex-grow: 1;}#sk-container-id-2 div.sk-label:hover label.sk-toggleable__label {background-color: #d4ebff;}#sk-container-id-2 div.sk-serial::before {content: \"\";position: absolute;border-left: 1px solid gray;box-sizing: border-box;top: 0;bottom: 0;left: 50%;z-index: 0;}#sk-container-id-2 div.sk-serial {display: flex;flex-direction: column;align-items: center;background-color: white;padding-right: 0.2em;padding-left: 0.2em;position: relative;}#sk-container-id-2 div.sk-item {position: relative;z-index: 1;}#sk-container-id-2 div.sk-parallel {display: flex;align-items: stretch;justify-content: center;background-color: white;position: relative;}#sk-container-id-2 div.sk-item::before, #sk-container-id-2 div.sk-parallel-item::before {content: \"\";position: absolute;border-left: 1px solid gray;box-sizing: border-box;top: 0;bottom: 0;left: 50%;z-index: -1;}#sk-container-id-2 div.sk-parallel-item {display: flex;flex-direction: column;z-index: 1;position: relative;background-color: white;}#sk-container-id-2 div.sk-parallel-item:first-child::after {align-self: flex-end;width: 50%;}#sk-container-id-2 div.sk-parallel-item:last-child::after {align-self: flex-start;width: 50%;}#sk-container-id-2 div.sk-parallel-item:only-child::after {width: 0;}#sk-container-id-2 div.sk-dashed-wrapped {border: 1px dashed gray;margin: 0 0.4em 0.5em 0.4em;box-sizing: border-box;padding-bottom: 0.4em;background-color: white;}#sk-container-id-2 div.sk-label label {font-family: monospace;font-weight: bold;display: inline-block;line-height: 1.2em;}#sk-container-id-2 div.sk-label-container {text-align: center;}#sk-container-id-2 div.sk-container {/* jupyter's `normalize.less` sets `[hidden] { display: none; }` but bootstrap.min.css set `[hidden] { display: none !important; }` so we also need the `!important` here to be able to override the default hidden behavior on the sphinx rendered scikit-learn.org. See: https://github.com/scikit-learn/scikit-learn/issues/21755 */display: inline-block !important;position: relative;}#sk-container-id-2 div.sk-text-repr-fallback {display: none;}</style><div id=\"sk-container-id-2\" class=\"sk-top-container\"><div class=\"sk-text-repr-fallback\"><pre>LGBMRegressor(n_estimators=130, num_leaves=41, random_state=45648741)</pre><b>In a Jupyter environment, please rerun this cell to show the HTML representation or trust the notebook. <br />On GitHub, the HTML representation is unable to render, please try loading this page with nbviewer.org.</b></div><div class=\"sk-container\" hidden><div class=\"sk-item\"><div class=\"sk-estimator sk-toggleable\"><input class=\"sk-toggleable__control sk-hidden--visually\" id=\"sk-estimator-id-4\" type=\"checkbox\" checked><label for=\"sk-estimator-id-4\" class=\"sk-toggleable__label sk-toggleable__label-arrow\">LGBMRegressor</label><div class=\"sk-toggleable__content\"><pre>LGBMRegressor(n_estimators=130, num_leaves=41, random_state=45648741)</pre></div></div></div></div></div>"
      ],
      "text/plain": [
       "LGBMRegressor(n_estimators=130, num_leaves=41, random_state=45648741)"
      ]
     },
     "execution_count": 50,
     "metadata": {},
     "output_type": "execute_result"
    }
   ],
   "source": [
    "model = LGBMRegressor(n_estimators=130, num_leaves=41, random_state=45648741) #наилучшие параметры модели\n",
    "model.fit(train_one, target_train)"
   ]
  },
  {
   "cell_type": "code",
   "execution_count": 51,
   "metadata": {},
   "outputs": [
    {
     "name": "stdout",
     "output_type": "stream",
     "text": [
      "RMSE на тестовой выборке =  1540.464754581676\n",
      "CPU times: total: 3.83 s\n",
      "Wall time: 820 ms\n"
     ]
    }
   ],
   "source": [
    "%%time\n",
    "score = rmse(target_test, model.predict(test_one))\n",
    "\n",
    "print('RMSE на тестовой выборке = ', score)"
   ]
  },
  {
   "cell_type": "markdown",
   "metadata": {},
   "source": [
    "**Catboost**"
   ]
  },
  {
   "cell_type": "code",
   "execution_count": 52,
   "metadata": {},
   "outputs": [
    {
     "name": "stdout",
     "output_type": "stream",
     "text": [
      "RMSE на тестовой выборке =  1646.0209840062325\n",
      "CPU times: total: 172 ms\n",
      "Wall time: 36 ms\n"
     ]
    }
   ],
   "source": [
    "%%time\n",
    "score = rmse(target_test, ml_cat.predict(ordinal_test))\n",
    "\n",
    "print('RMSE на тестовой выборке = ', score)"
   ]
  },
  {
   "cell_type": "markdown",
   "metadata": {},
   "source": [
    "## Вывод \n",
    "\n",
    "Заказчику рекомендуется использовать на выбор `LightGBM` и `Catboost`   \n",
    "Если ему важно качество предсказание и время обучения то используется первая модель. RMSE достигает `1542.058381` против `1644.865966` у `Сatboost`.       \n",
    "\n",
    "В случае того, если будет сделан упор на время предсказания то `Сatboost` безусловный лидер. \n",
    "`0.053992` против `1.286999`"
   ]
  }
 ],
 "metadata": {
  "ExecuteTimeLog": [
   {
    "duration": 1331,
    "start_time": "2022-08-16T12:56:03.764Z"
   },
   {
    "duration": 3225,
    "start_time": "2022-08-16T12:56:19.880Z"
   },
   {
    "duration": 38,
    "start_time": "2022-08-16T12:56:29.651Z"
   },
   {
    "duration": 100,
    "start_time": "2022-08-16T12:56:43.961Z"
   },
   {
    "duration": 112,
    "start_time": "2022-08-16T12:56:57.330Z"
   },
   {
    "duration": 33,
    "start_time": "2022-08-16T12:57:40.631Z"
   },
   {
    "duration": 16,
    "start_time": "2022-08-16T12:58:09.476Z"
   },
   {
    "duration": 171,
    "start_time": "2022-08-16T12:58:23.056Z"
   },
   {
    "duration": 167,
    "start_time": "2022-08-16T12:58:29.330Z"
   },
   {
    "duration": 141,
    "start_time": "2022-08-16T12:58:34.299Z"
   },
   {
    "duration": 241,
    "start_time": "2022-08-16T13:00:06.446Z"
   },
   {
    "duration": 135,
    "start_time": "2022-08-16T13:00:13.489Z"
   },
   {
    "duration": 5,
    "start_time": "2022-08-16T13:00:20.202Z"
   },
   {
    "duration": 193,
    "start_time": "2022-08-16T13:03:14.527Z"
   },
   {
    "duration": 120,
    "start_time": "2022-08-16T13:03:18.484Z"
   },
   {
    "duration": 96,
    "start_time": "2022-08-16T13:05:44.266Z"
   },
   {
    "duration": 5,
    "start_time": "2022-08-16T13:05:49.522Z"
   },
   {
    "duration": 12,
    "start_time": "2022-08-16T13:06:41.067Z"
   },
   {
    "duration": 116,
    "start_time": "2022-08-16T13:06:46.428Z"
   },
   {
    "duration": 5,
    "start_time": "2022-08-16T13:08:30.922Z"
   },
   {
    "duration": 6,
    "start_time": "2022-08-16T13:08:46.106Z"
   },
   {
    "duration": 28,
    "start_time": "2022-08-16T13:09:30.140Z"
   },
   {
    "duration": 14,
    "start_time": "2022-08-16T13:10:06.397Z"
   },
   {
    "duration": 1323,
    "start_time": "2022-08-16T13:10:14.269Z"
   },
   {
    "duration": 21,
    "start_time": "2022-08-16T13:10:28.246Z"
   },
   {
    "duration": 18,
    "start_time": "2022-08-16T13:10:38.348Z"
   },
   {
    "duration": 17,
    "start_time": "2022-08-16T13:12:07.994Z"
   },
   {
    "duration": 125,
    "start_time": "2022-08-16T13:14:57.206Z"
   },
   {
    "duration": 3366,
    "start_time": "2022-08-16T13:15:01.616Z"
   },
   {
    "duration": 3581,
    "start_time": "2022-08-16T13:15:16.902Z"
   },
   {
    "duration": 3578,
    "start_time": "2022-08-16T13:16:01.733Z"
   },
   {
    "duration": 3649,
    "start_time": "2022-08-16T13:16:32.445Z"
   },
   {
    "duration": 3576,
    "start_time": "2022-08-16T13:16:42.645Z"
   },
   {
    "duration": 4,
    "start_time": "2022-08-16T13:17:40.461Z"
   },
   {
    "duration": 3554,
    "start_time": "2022-08-16T13:17:43.990Z"
   },
   {
    "duration": 1810,
    "start_time": "2022-08-16T21:05:09.153Z"
   },
   {
    "duration": 4824,
    "start_time": "2022-08-16T21:05:12.944Z"
   },
   {
    "duration": 7,
    "start_time": "2022-08-16T21:05:17.771Z"
   },
   {
    "duration": 33,
    "start_time": "2022-08-16T21:05:17.780Z"
   },
   {
    "duration": 203,
    "start_time": "2022-08-16T21:05:22.963Z"
   },
   {
    "duration": 212,
    "start_time": "2022-08-16T21:05:29.830Z"
   },
   {
    "duration": 191,
    "start_time": "2022-08-16T21:05:46.425Z"
   },
   {
    "duration": 207,
    "start_time": "2022-08-16T21:05:50.936Z"
   },
   {
    "duration": 15,
    "start_time": "2022-08-16T21:07:28.838Z"
   },
   {
    "duration": 187,
    "start_time": "2022-08-16T21:08:44.095Z"
   },
   {
    "duration": 176,
    "start_time": "2022-08-16T21:08:53.617Z"
   },
   {
    "duration": 196,
    "start_time": "2022-08-16T21:09:00.809Z"
   },
   {
    "duration": 1514,
    "start_time": "2022-08-16T21:12:54.312Z"
   },
   {
    "duration": 1200,
    "start_time": "2022-08-16T21:12:55.831Z"
   },
   {
    "duration": 6,
    "start_time": "2022-08-16T21:12:57.033Z"
   },
   {
    "duration": 19,
    "start_time": "2022-08-16T21:12:57.041Z"
   },
   {
    "duration": 212,
    "start_time": "2022-08-16T21:12:57.062Z"
   },
   {
    "duration": 192,
    "start_time": "2022-08-16T21:12:57.276Z"
   },
   {
    "duration": 4,
    "start_time": "2022-08-16T21:13:05.770Z"
   },
   {
    "duration": 175,
    "start_time": "2022-08-16T21:13:54.618Z"
   },
   {
    "duration": 5,
    "start_time": "2022-08-16T21:13:56.423Z"
   },
   {
    "duration": 178,
    "start_time": "2022-08-16T21:14:36.134Z"
   },
   {
    "duration": 34,
    "start_time": "2022-08-16T21:15:42.155Z"
   },
   {
    "duration": 263,
    "start_time": "2022-08-16T21:15:53.769Z"
   },
   {
    "duration": 269,
    "start_time": "2022-08-16T21:16:14.069Z"
   },
   {
    "duration": 50,
    "start_time": "2022-08-16T21:20:06.217Z"
   },
   {
    "duration": 69976,
    "start_time": "2022-08-16T21:23:12.398Z"
   },
   {
    "duration": 766,
    "start_time": "2022-08-16T21:27:43.635Z"
   },
   {
    "duration": 699,
    "start_time": "2022-08-16T21:28:32.340Z"
   },
   {
    "duration": 1188,
    "start_time": "2022-08-16T22:22:27.529Z"
   },
   {
    "duration": 908,
    "start_time": "2022-08-16T22:22:29.260Z"
   },
   {
    "duration": 5,
    "start_time": "2022-08-16T22:22:30.170Z"
   },
   {
    "duration": 20,
    "start_time": "2022-08-16T22:22:30.191Z"
   },
   {
    "duration": 140,
    "start_time": "2022-08-16T22:22:30.223Z"
   },
   {
    "duration": 141,
    "start_time": "2022-08-16T22:22:30.593Z"
   },
   {
    "duration": 3941,
    "start_time": "2022-08-16T22:22:31.074Z"
   },
   {
    "duration": 49,
    "start_time": "2022-08-16T22:22:35.018Z"
   },
   {
    "duration": 644,
    "start_time": "2022-08-16T22:22:35.069Z"
   },
   {
    "duration": 8,
    "start_time": "2022-08-16T22:22:50.169Z"
   },
   {
    "duration": 9,
    "start_time": "2022-08-16T22:23:13.448Z"
   },
   {
    "duration": 485,
    "start_time": "2022-08-16T22:23:19.474Z"
   },
   {
    "duration": 496,
    "start_time": "2022-08-16T22:23:39.039Z"
   },
   {
    "duration": 7,
    "start_time": "2022-08-16T22:25:32.848Z"
   },
   {
    "duration": 94,
    "start_time": "2022-08-16T22:26:14.548Z"
   },
   {
    "duration": 39,
    "start_time": "2022-08-16T22:26:24.434Z"
   },
   {
    "duration": 1168,
    "start_time": "2022-08-16T22:26:34.439Z"
   },
   {
    "duration": 910,
    "start_time": "2022-08-16T22:26:36.193Z"
   },
   {
    "duration": 6,
    "start_time": "2022-08-16T22:26:37.105Z"
   },
   {
    "duration": 17,
    "start_time": "2022-08-16T22:26:37.180Z"
   },
   {
    "duration": 130,
    "start_time": "2022-08-16T22:26:40.430Z"
   },
   {
    "duration": 486,
    "start_time": "2022-08-16T22:26:42.771Z"
   },
   {
    "duration": 7,
    "start_time": "2022-08-16T22:26:45.230Z"
   },
   {
    "duration": 42,
    "start_time": "2022-08-16T22:26:45.710Z"
   },
   {
    "duration": 1248,
    "start_time": "2022-08-16T22:27:44.160Z"
   },
   {
    "duration": 912,
    "start_time": "2022-08-16T22:27:45.410Z"
   },
   {
    "duration": 6,
    "start_time": "2022-08-16T22:27:46.324Z"
   },
   {
    "duration": 19,
    "start_time": "2022-08-16T22:27:46.332Z"
   },
   {
    "duration": 158,
    "start_time": "2022-08-16T22:27:46.352Z"
   },
   {
    "duration": 565,
    "start_time": "2022-08-16T22:27:46.512Z"
   },
   {
    "duration": 15,
    "start_time": "2022-08-16T22:27:47.080Z"
   },
   {
    "duration": 44,
    "start_time": "2022-08-16T22:27:47.096Z"
   },
   {
    "duration": 134,
    "start_time": "2022-08-16T22:27:47.234Z"
   },
   {
    "duration": 4029,
    "start_time": "2022-08-16T22:27:47.430Z"
   },
   {
    "duration": 46,
    "start_time": "2022-08-16T22:27:51.461Z"
   },
   {
    "duration": 754,
    "start_time": "2022-08-16T22:27:51.509Z"
   },
   {
    "duration": 1306,
    "start_time": "2022-08-19T15:30:41.821Z"
   },
   {
    "duration": 1170,
    "start_time": "2022-08-19T15:30:43.130Z"
   },
   {
    "duration": 5,
    "start_time": "2022-08-19T15:30:44.301Z"
   },
   {
    "duration": 22,
    "start_time": "2022-08-19T15:30:44.308Z"
   },
   {
    "duration": 104,
    "start_time": "2022-08-19T15:30:47.830Z"
   },
   {
    "duration": 485,
    "start_time": "2022-08-19T15:31:05.386Z"
   },
   {
    "duration": 8,
    "start_time": "2022-08-19T15:31:11.571Z"
   },
   {
    "duration": 42,
    "start_time": "2022-08-19T15:31:43.511Z"
   },
   {
    "duration": 101,
    "start_time": "2022-08-19T15:31:46.583Z"
   },
   {
    "duration": 3485,
    "start_time": "2022-08-19T15:31:48.717Z"
   },
   {
    "duration": 39,
    "start_time": "2022-08-19T15:31:59.520Z"
   },
   {
    "duration": 771,
    "start_time": "2022-08-19T15:32:01.064Z"
   },
   {
    "duration": 539,
    "start_time": "2022-08-19T15:33:26.721Z"
   },
   {
    "duration": 408,
    "start_time": "2022-08-19T15:33:36.328Z"
   },
   {
    "duration": 425,
    "start_time": "2022-08-19T15:33:48.643Z"
   },
   {
    "duration": 443,
    "start_time": "2022-08-19T15:36:23.033Z"
   },
   {
    "duration": 411,
    "start_time": "2022-08-19T15:36:37.016Z"
   },
   {
    "duration": 33,
    "start_time": "2022-08-19T15:38:40.982Z"
   },
   {
    "duration": 20,
    "start_time": "2022-08-19T15:38:52.864Z"
   },
   {
    "duration": 1172,
    "start_time": "2022-08-19T15:45:02.720Z"
   },
   {
    "duration": 799,
    "start_time": "2022-08-19T15:45:04.728Z"
   },
   {
    "duration": 5,
    "start_time": "2022-08-19T15:45:05.529Z"
   },
   {
    "duration": 96,
    "start_time": "2022-08-19T15:45:14.983Z"
   },
   {
    "duration": 99,
    "start_time": "2022-08-19T15:55:44.354Z"
   },
   {
    "duration": 1072,
    "start_time": "2022-08-19T15:56:29.144Z"
   },
   {
    "duration": 797,
    "start_time": "2022-08-19T15:56:30.219Z"
   },
   {
    "duration": 6,
    "start_time": "2022-08-19T15:56:31.018Z"
   },
   {
    "duration": 98,
    "start_time": "2022-08-19T15:56:31.120Z"
   },
   {
    "duration": 95,
    "start_time": "2022-08-19T15:56:32.765Z"
   },
   {
    "duration": 53,
    "start_time": "2022-08-19T15:56:43.327Z"
   },
   {
    "duration": 13,
    "start_time": "2022-08-19T15:56:51.247Z"
   },
   {
    "duration": 54,
    "start_time": "2022-08-19T15:59:34.915Z"
   },
   {
    "duration": 54,
    "start_time": "2022-08-19T15:59:39.152Z"
   },
   {
    "duration": 1141,
    "start_time": "2022-08-19T16:00:35.633Z"
   },
   {
    "duration": 803,
    "start_time": "2022-08-19T16:00:36.776Z"
   },
   {
    "duration": 5,
    "start_time": "2022-08-19T16:00:37.581Z"
   },
   {
    "duration": 104,
    "start_time": "2022-08-19T16:00:37.587Z"
   },
   {
    "duration": 63,
    "start_time": "2022-08-19T16:00:40.231Z"
   },
   {
    "duration": 98,
    "start_time": "2022-08-19T16:01:01.951Z"
   },
   {
    "duration": 65,
    "start_time": "2022-08-19T16:01:51.266Z"
   },
   {
    "duration": 1299,
    "start_time": "2022-08-19T16:02:06.509Z"
   },
   {
    "duration": 1336,
    "start_time": "2022-08-19T16:02:30.635Z"
   },
   {
    "duration": 16,
    "start_time": "2022-08-19T16:02:46.426Z"
   },
   {
    "duration": 17,
    "start_time": "2022-08-19T16:06:06.572Z"
   },
   {
    "duration": 902,
    "start_time": "2022-08-19T16:24:45.180Z"
   },
   {
    "duration": 9,
    "start_time": "2022-08-19T16:25:09.938Z"
   },
   {
    "duration": 222,
    "start_time": "2022-08-19T16:28:15.591Z"
   },
   {
    "duration": 194,
    "start_time": "2022-08-19T16:28:31.616Z"
   },
   {
    "duration": 20,
    "start_time": "2022-08-19T17:19:55.369Z"
   },
   {
    "duration": 101,
    "start_time": "2022-08-19T17:20:01.883Z"
   },
   {
    "duration": 3599,
    "start_time": "2022-08-19T17:20:03.199Z"
   },
   {
    "duration": 544,
    "start_time": "2022-08-19T17:20:21.617Z"
   },
   {
    "duration": 202,
    "start_time": "2022-08-19T17:20:56.005Z"
   },
   {
    "duration": 1205,
    "start_time": "2022-08-19T17:23:33.341Z"
   },
   {
    "duration": 987,
    "start_time": "2022-08-19T17:23:34.549Z"
   },
   {
    "duration": 5,
    "start_time": "2022-08-19T17:23:35.538Z"
   },
   {
    "duration": 91,
    "start_time": "2022-08-19T17:23:36.297Z"
   },
   {
    "duration": 55,
    "start_time": "2022-08-19T17:23:39.176Z"
   },
   {
    "duration": 212,
    "start_time": "2022-08-19T17:23:41.096Z"
   },
   {
    "duration": 213,
    "start_time": "2022-08-19T17:23:49.989Z"
   },
   {
    "duration": 531,
    "start_time": "2022-08-19T17:28:02.824Z"
   },
   {
    "duration": 486,
    "start_time": "2022-08-19T17:28:12.773Z"
   },
   {
    "duration": 13,
    "start_time": "2022-08-19T17:33:39.001Z"
   },
   {
    "duration": 13,
    "start_time": "2022-08-19T17:33:45.969Z"
   },
   {
    "duration": 13,
    "start_time": "2022-08-19T17:33:50.185Z"
   },
   {
    "duration": 15,
    "start_time": "2022-08-19T17:33:53.520Z"
   },
   {
    "duration": 14,
    "start_time": "2022-08-19T17:33:56.236Z"
   },
   {
    "duration": 17,
    "start_time": "2022-08-19T17:33:59.002Z"
   },
   {
    "duration": 14,
    "start_time": "2022-08-19T17:34:02.172Z"
   },
   {
    "duration": 15,
    "start_time": "2022-08-19T17:34:06.234Z"
   },
   {
    "duration": 102,
    "start_time": "2022-08-19T17:37:54.007Z"
   },
   {
    "duration": 15,
    "start_time": "2022-08-19T17:39:05.007Z"
   },
   {
    "duration": 14,
    "start_time": "2022-08-19T17:39:20.159Z"
   },
   {
    "duration": 15,
    "start_time": "2022-08-19T17:39:23.447Z"
   },
   {
    "duration": 14,
    "start_time": "2022-08-19T17:39:26.415Z"
   },
   {
    "duration": 14,
    "start_time": "2022-08-19T17:39:59.958Z"
   },
   {
    "duration": 13,
    "start_time": "2022-08-19T17:48:46.909Z"
   },
   {
    "duration": 109,
    "start_time": "2022-08-19T17:50:30.447Z"
   },
   {
    "duration": 12,
    "start_time": "2022-08-19T17:50:57.600Z"
   },
   {
    "duration": 101,
    "start_time": "2022-08-19T17:51:04.529Z"
   },
   {
    "duration": 4,
    "start_time": "2022-08-19T17:53:57.757Z"
   },
   {
    "duration": 26,
    "start_time": "2022-08-19T17:57:49.804Z"
   },
   {
    "duration": 23,
    "start_time": "2022-08-19T18:02:59.964Z"
   },
   {
    "duration": 25,
    "start_time": "2022-08-19T18:03:37.749Z"
   },
   {
    "duration": 269,
    "start_time": "2022-08-19T18:04:46.006Z"
   },
   {
    "duration": 1023,
    "start_time": "2022-08-19T18:04:57.055Z"
   },
   {
    "duration": 784,
    "start_time": "2022-08-19T18:04:58.079Z"
   },
   {
    "duration": 5,
    "start_time": "2022-08-19T18:04:58.865Z"
   },
   {
    "duration": 16,
    "start_time": "2022-08-19T18:04:59.643Z"
   },
   {
    "duration": 105,
    "start_time": "2022-08-19T18:05:00.633Z"
   },
   {
    "duration": 4,
    "start_time": "2022-08-19T18:05:02.625Z"
   },
   {
    "duration": 309,
    "start_time": "2022-08-19T18:05:08.748Z"
   },
   {
    "duration": 72,
    "start_time": "2022-08-19T18:05:18.729Z"
   },
   {
    "duration": 97,
    "start_time": "2022-08-19T18:13:39.572Z"
   },
   {
    "duration": 15,
    "start_time": "2022-08-19T18:13:44.993Z"
   },
   {
    "duration": 16,
    "start_time": "2022-08-19T18:13:46.976Z"
   },
   {
    "duration": 15,
    "start_time": "2022-08-19T18:14:39.191Z"
   },
   {
    "duration": 84,
    "start_time": "2022-08-19T18:14:46.380Z"
   },
   {
    "duration": 14,
    "start_time": "2022-08-19T18:16:54.763Z"
   },
   {
    "duration": 33,
    "start_time": "2022-08-19T18:18:04.264Z"
   },
   {
    "duration": 33,
    "start_time": "2022-08-19T18:18:06.669Z"
   },
   {
    "duration": 30,
    "start_time": "2022-08-19T18:18:31.931Z"
   },
   {
    "duration": 32,
    "start_time": "2022-08-19T18:19:07.433Z"
   },
   {
    "duration": 36,
    "start_time": "2022-08-19T18:19:17.188Z"
   },
   {
    "duration": 78,
    "start_time": "2022-08-19T18:19:25.545Z"
   },
   {
    "duration": 1129,
    "start_time": "2022-08-19T18:19:56.947Z"
   },
   {
    "duration": 3,
    "start_time": "2022-08-19T18:19:58.483Z"
   },
   {
    "duration": 1154,
    "start_time": "2022-08-19T18:20:09.963Z"
   },
   {
    "duration": 756,
    "start_time": "2022-08-19T18:20:11.764Z"
   },
   {
    "duration": 5,
    "start_time": "2022-08-19T18:20:13.490Z"
   },
   {
    "duration": 14,
    "start_time": "2022-08-19T18:20:14.932Z"
   },
   {
    "duration": 108,
    "start_time": "2022-08-19T18:20:18.170Z"
   },
   {
    "duration": 287,
    "start_time": "2022-08-19T18:20:19.793Z"
   },
   {
    "duration": 101,
    "start_time": "2022-08-19T18:20:31.317Z"
   },
   {
    "duration": 28,
    "start_time": "2022-08-19T18:20:34.759Z"
   },
   {
    "duration": 219,
    "start_time": "2022-08-19T18:20:39.429Z"
   },
   {
    "duration": 174,
    "start_time": "2022-08-19T18:21:05.027Z"
   },
   {
    "duration": 82,
    "start_time": "2022-08-19T18:23:17.395Z"
   },
   {
    "duration": 64,
    "start_time": "2022-08-19T18:23:44.644Z"
   },
   {
    "duration": 1201,
    "start_time": "2022-08-19T18:24:09.991Z"
   },
   {
    "duration": 790,
    "start_time": "2022-08-19T18:24:11.783Z"
   },
   {
    "duration": 5,
    "start_time": "2022-08-19T18:24:13.214Z"
   },
   {
    "duration": 15,
    "start_time": "2022-08-19T18:24:14.367Z"
   },
   {
    "duration": 109,
    "start_time": "2022-08-19T18:24:16.031Z"
   },
   {
    "duration": 300,
    "start_time": "2022-08-19T18:24:19.448Z"
   },
   {
    "duration": 119,
    "start_time": "2022-08-19T18:24:22.853Z"
   },
   {
    "duration": 30,
    "start_time": "2022-08-19T18:24:25.736Z"
   },
   {
    "duration": 64,
    "start_time": "2022-08-19T18:25:27.638Z"
   },
   {
    "duration": 196,
    "start_time": "2022-08-19T18:29:22.449Z"
   },
   {
    "duration": 222,
    "start_time": "2022-08-19T18:29:51.654Z"
   },
   {
    "duration": 6,
    "start_time": "2022-08-19T18:33:25.348Z"
   },
   {
    "duration": 99,
    "start_time": "2022-08-19T18:33:30.059Z"
   },
   {
    "duration": 11,
    "start_time": "2022-08-19T18:33:34.565Z"
   },
   {
    "duration": 7,
    "start_time": "2022-08-19T18:33:41.375Z"
   },
   {
    "duration": 9,
    "start_time": "2022-08-19T18:33:52.694Z"
   },
   {
    "duration": 65,
    "start_time": "2022-08-19T18:37:22.677Z"
   },
   {
    "duration": 3494,
    "start_time": "2022-08-19T18:37:23.676Z"
   },
   {
    "duration": 482,
    "start_time": "2022-08-19T18:37:46.045Z"
   },
   {
    "duration": 54,
    "start_time": "2022-08-19T18:41:03.864Z"
   },
   {
    "duration": 560,
    "start_time": "2022-08-19T18:41:42.956Z"
   },
   {
    "duration": 128,
    "start_time": "2022-08-19T18:41:50.805Z"
   },
   {
    "duration": 124,
    "start_time": "2022-08-19T18:42:32.658Z"
   },
   {
    "duration": 254,
    "start_time": "2022-08-19T18:48:00.239Z"
   },
   {
    "duration": 131,
    "start_time": "2022-08-19T18:48:32.343Z"
   },
   {
    "duration": 1191,
    "start_time": "2022-08-19T18:48:47.298Z"
   },
   {
    "duration": 846,
    "start_time": "2022-08-19T18:48:48.491Z"
   },
   {
    "duration": 7,
    "start_time": "2022-08-19T18:48:49.339Z"
   },
   {
    "duration": 17,
    "start_time": "2022-08-19T18:48:49.804Z"
   },
   {
    "duration": 136,
    "start_time": "2022-08-19T18:48:51.445Z"
   },
   {
    "duration": 282,
    "start_time": "2022-08-19T18:48:52.503Z"
   },
   {
    "duration": 92,
    "start_time": "2022-08-19T18:48:53.574Z"
   },
   {
    "duration": 27,
    "start_time": "2022-08-19T18:48:55.329Z"
   },
   {
    "duration": 63,
    "start_time": "2022-08-19T18:48:56.361Z"
   },
   {
    "duration": 245,
    "start_time": "2022-08-19T18:48:57.295Z"
   },
   {
    "duration": 131,
    "start_time": "2022-08-19T18:48:58.705Z"
   },
   {
    "duration": 486,
    "start_time": "2022-08-19T18:49:09.118Z"
   },
   {
    "duration": 1241,
    "start_time": "2022-08-20T07:09:48.551Z"
   },
   {
    "duration": 1109,
    "start_time": "2022-08-20T07:09:50.116Z"
   },
   {
    "duration": 5,
    "start_time": "2022-08-20T07:09:51.227Z"
   },
   {
    "duration": 16,
    "start_time": "2022-08-20T07:09:54.971Z"
   },
   {
    "duration": 108,
    "start_time": "2022-08-20T07:09:56.827Z"
   },
   {
    "duration": 1043,
    "start_time": "2022-08-20T07:11:37.029Z"
   },
   {
    "duration": 832,
    "start_time": "2022-08-20T07:11:39.749Z"
   },
   {
    "duration": 5,
    "start_time": "2022-08-20T07:11:41.259Z"
   },
   {
    "duration": 14,
    "start_time": "2022-08-20T07:11:42.644Z"
   },
   {
    "duration": 111,
    "start_time": "2022-08-20T07:11:44.234Z"
   },
   {
    "duration": 285,
    "start_time": "2022-08-20T07:11:47.829Z"
   },
   {
    "duration": 103,
    "start_time": "2022-08-20T07:11:50.369Z"
   },
   {
    "duration": 29,
    "start_time": "2022-08-20T07:12:03.389Z"
   },
   {
    "duration": 68,
    "start_time": "2022-08-20T07:24:30.591Z"
   },
   {
    "duration": 310,
    "start_time": "2022-08-20T07:24:41.329Z"
   },
   {
    "duration": 145,
    "start_time": "2022-08-20T07:25:00.832Z"
   },
   {
    "duration": 521,
    "start_time": "2022-08-20T07:25:40.841Z"
   },
   {
    "duration": 8,
    "start_time": "2022-08-20T07:36:16.940Z"
   },
   {
    "duration": 8,
    "start_time": "2022-08-20T07:36:29.600Z"
   },
   {
    "duration": 1313,
    "start_time": "2022-08-30T21:01:33.782Z"
   },
   {
    "duration": 1466,
    "start_time": "2022-08-30T21:01:35.752Z"
   },
   {
    "duration": 5,
    "start_time": "2022-08-30T21:01:37.761Z"
   },
   {
    "duration": 17,
    "start_time": "2022-08-30T21:01:42.857Z"
   },
   {
    "duration": 210,
    "start_time": "2022-08-30T21:01:46.299Z"
   },
   {
    "duration": 313,
    "start_time": "2022-08-30T21:05:15.761Z"
   },
   {
    "duration": 97,
    "start_time": "2022-08-30T21:05:16.916Z"
   },
   {
    "duration": 19,
    "start_time": "2022-08-30T21:14:19.730Z"
   },
   {
    "duration": 55,
    "start_time": "2022-08-30T21:14:50.830Z"
   },
   {
    "duration": 307,
    "start_time": "2022-08-30T21:16:19.350Z"
   },
   {
    "duration": 149,
    "start_time": "2022-08-30T21:17:07.321Z"
   },
   {
    "duration": 439,
    "start_time": "2022-08-30T21:19:44.930Z"
   },
   {
    "duration": 480,
    "start_time": "2022-08-30T21:19:56.124Z"
   },
   {
    "duration": 425,
    "start_time": "2022-08-30T21:20:08.140Z"
   },
   {
    "duration": 347,
    "start_time": "2022-08-30T21:34:27.905Z"
   },
   {
    "duration": 103,
    "start_time": "2022-08-30T21:39:40.834Z"
   },
   {
    "duration": 77,
    "start_time": "2022-08-30T21:39:44.649Z"
   },
   {
    "duration": 4062,
    "start_time": "2022-08-30T21:39:45.420Z"
   },
   {
    "duration": 56,
    "start_time": "2022-08-30T21:59:56.701Z"
   },
   {
    "duration": 4,
    "start_time": "2022-08-30T22:00:01.024Z"
   },
   {
    "duration": 5,
    "start_time": "2022-08-30T22:00:03.000Z"
   },
   {
    "duration": 5,
    "start_time": "2022-08-30T22:00:06.406Z"
   },
   {
    "duration": 4,
    "start_time": "2022-08-30T22:00:09.659Z"
   },
   {
    "duration": 4,
    "start_time": "2022-08-30T22:00:13.339Z"
   },
   {
    "duration": 5,
    "start_time": "2022-08-30T22:00:16.011Z"
   },
   {
    "duration": 22,
    "start_time": "2022-08-30T22:02:46.402Z"
   },
   {
    "duration": 17,
    "start_time": "2022-08-30T22:02:49.879Z"
   },
   {
    "duration": 10,
    "start_time": "2022-08-30T22:02:57.876Z"
   },
   {
    "duration": 61,
    "start_time": "2022-08-30T22:03:02.116Z"
   },
   {
    "duration": 1173,
    "start_time": "2022-08-30T22:03:11.210Z"
   },
   {
    "duration": 885,
    "start_time": "2022-08-30T22:03:12.385Z"
   },
   {
    "duration": 5,
    "start_time": "2022-08-30T22:03:20.301Z"
   },
   {
    "duration": 153,
    "start_time": "2022-08-30T22:03:27.875Z"
   },
   {
    "duration": 335,
    "start_time": "2022-08-30T22:03:28.030Z"
   },
   {
    "duration": 102,
    "start_time": "2022-08-30T22:03:28.367Z"
   },
   {
    "duration": 24,
    "start_time": "2022-08-30T22:03:31.635Z"
   },
   {
    "duration": 61,
    "start_time": "2022-08-30T22:03:33.732Z"
   },
   {
    "duration": 324,
    "start_time": "2022-08-30T22:03:36.391Z"
   },
   {
    "duration": 154,
    "start_time": "2022-08-30T22:03:39.751Z"
   },
   {
    "duration": 384,
    "start_time": "2022-08-30T22:03:40.961Z"
   },
   {
    "duration": 1091,
    "start_time": "2022-08-30T22:16:59.750Z"
   },
   {
    "duration": 873,
    "start_time": "2022-08-30T22:17:00.843Z"
   },
   {
    "duration": 5,
    "start_time": "2022-08-30T22:17:01.718Z"
   },
   {
    "duration": 22,
    "start_time": "2022-08-30T22:17:01.725Z"
   },
   {
    "duration": 158,
    "start_time": "2022-08-30T22:17:08.550Z"
   },
   {
    "duration": 290,
    "start_time": "2022-08-30T22:17:09.316Z"
   },
   {
    "duration": 105,
    "start_time": "2022-08-30T22:17:09.961Z"
   },
   {
    "duration": 25,
    "start_time": "2022-08-30T22:17:12.106Z"
   },
   {
    "duration": 54,
    "start_time": "2022-08-30T22:17:12.851Z"
   },
   {
    "duration": 245,
    "start_time": "2022-08-30T22:17:14.666Z"
   },
   {
    "duration": 139,
    "start_time": "2022-08-30T22:17:16.596Z"
   },
   {
    "duration": 378,
    "start_time": "2022-08-30T22:18:18.525Z"
   },
   {
    "duration": 124,
    "start_time": "2022-08-30T22:18:44.436Z"
   },
   {
    "duration": 115,
    "start_time": "2022-08-30T22:18:51.316Z"
   },
   {
    "duration": 116,
    "start_time": "2022-08-30T22:19:00.541Z"
   },
   {
    "duration": 113,
    "start_time": "2022-08-30T22:19:07.406Z"
   },
   {
    "duration": 13,
    "start_time": "2022-08-30T22:19:12.465Z"
   },
   {
    "duration": 383,
    "start_time": "2022-08-30T22:19:22.461Z"
   },
   {
    "duration": 292,
    "start_time": "2022-08-30T22:19:41.451Z"
   },
   {
    "duration": 43,
    "start_time": "2022-08-30T22:19:54.596Z"
   },
   {
    "duration": 0,
    "start_time": "2022-08-30T22:20:17.294Z"
   },
   {
    "duration": 991,
    "start_time": "2022-08-30T22:20:19.706Z"
   },
   {
    "duration": 1078,
    "start_time": "2022-08-30T22:20:30.589Z"
   },
   {
    "duration": 777,
    "start_time": "2022-08-30T22:20:31.669Z"
   },
   {
    "duration": 6,
    "start_time": "2022-08-30T22:20:32.447Z"
   },
   {
    "duration": 40,
    "start_time": "2022-08-30T22:20:32.454Z"
   },
   {
    "duration": 151,
    "start_time": "2022-08-30T22:20:32.495Z"
   },
   {
    "duration": 284,
    "start_time": "2022-08-30T22:20:32.647Z"
   },
   {
    "duration": 99,
    "start_time": "2022-08-30T22:20:32.932Z"
   },
   {
    "duration": 22,
    "start_time": "2022-08-30T22:20:33.033Z"
   },
   {
    "duration": 55,
    "start_time": "2022-08-30T22:20:33.344Z"
   },
   {
    "duration": 271,
    "start_time": "2022-08-30T22:20:34.015Z"
   },
   {
    "duration": 142,
    "start_time": "2022-08-30T22:20:35.184Z"
   },
   {
    "duration": 351,
    "start_time": "2022-08-30T22:20:36.564Z"
   },
   {
    "duration": 277,
    "start_time": "2022-08-30T22:21:23.254Z"
   },
   {
    "duration": 225,
    "start_time": "2022-08-30T22:21:31.579Z"
   },
   {
    "duration": 1586,
    "start_time": "2022-08-30T22:21:35.694Z"
   },
   {
    "duration": 33222,
    "start_time": "2022-08-30T22:21:52.590Z"
   },
   {
    "duration": 1347,
    "start_time": "2022-08-30T22:24:33.104Z"
   },
   {
    "duration": 276,
    "start_time": "2022-08-30T22:24:49.664Z"
   },
   {
    "duration": 281,
    "start_time": "2022-08-30T22:24:54.454Z"
   },
   {
    "duration": 32,
    "start_time": "2022-08-30T22:35:53.475Z"
   },
   {
    "duration": 294,
    "start_time": "2022-08-30T22:36:05.429Z"
   },
   {
    "duration": 293,
    "start_time": "2022-08-30T22:36:32.375Z"
   },
   {
    "duration": 265,
    "start_time": "2022-08-30T22:36:57.884Z"
   },
   {
    "duration": 1078,
    "start_time": "2022-08-30T22:37:09.450Z"
   },
   {
    "duration": 806,
    "start_time": "2022-08-30T22:37:10.530Z"
   },
   {
    "duration": 5,
    "start_time": "2022-08-30T22:37:11.338Z"
   },
   {
    "duration": 16,
    "start_time": "2022-08-30T22:37:11.345Z"
   },
   {
    "duration": 165,
    "start_time": "2022-08-30T22:37:11.364Z"
   },
   {
    "duration": 295,
    "start_time": "2022-08-30T22:37:11.531Z"
   },
   {
    "duration": 104,
    "start_time": "2022-08-30T22:37:11.828Z"
   },
   {
    "duration": 23,
    "start_time": "2022-08-30T22:37:11.934Z"
   },
   {
    "duration": 71,
    "start_time": "2022-08-30T22:37:11.959Z"
   },
   {
    "duration": 252,
    "start_time": "2022-08-30T22:37:12.032Z"
   },
   {
    "duration": 143,
    "start_time": "2022-08-30T22:37:12.964Z"
   },
   {
    "duration": 380,
    "start_time": "2022-08-30T22:37:13.818Z"
   },
   {
    "duration": 260,
    "start_time": "2022-08-30T22:37:14.714Z"
   },
   {
    "duration": 30,
    "start_time": "2022-08-30T22:37:15.684Z"
   },
   {
    "duration": 7,
    "start_time": "2022-08-30T22:38:01.509Z"
   },
   {
    "duration": 7,
    "start_time": "2022-08-30T22:38:12.099Z"
   },
   {
    "duration": 9,
    "start_time": "2022-08-30T22:38:26.249Z"
   },
   {
    "duration": 6,
    "start_time": "2022-08-30T22:45:08.603Z"
   },
   {
    "duration": 136,
    "start_time": "2022-08-30T22:50:00.755Z"
   },
   {
    "duration": 129,
    "start_time": "2022-08-30T22:50:21.019Z"
   },
   {
    "duration": 134,
    "start_time": "2022-08-30T22:50:38.668Z"
   },
   {
    "duration": 157,
    "start_time": "2022-08-30T22:50:52.878Z"
   },
   {
    "duration": 153,
    "start_time": "2022-08-30T22:50:59.263Z"
   },
   {
    "duration": 177,
    "start_time": "2022-08-30T22:51:02.808Z"
   },
   {
    "duration": 167,
    "start_time": "2022-08-30T22:51:16.018Z"
   },
   {
    "duration": 22,
    "start_time": "2022-08-30T22:59:53.494Z"
   },
   {
    "duration": 29,
    "start_time": "2022-08-30T22:59:58.853Z"
   },
   {
    "duration": 22,
    "start_time": "2022-08-30T23:00:07.438Z"
   },
   {
    "duration": 53,
    "start_time": "2022-08-30T23:06:31.567Z"
   },
   {
    "duration": 1120,
    "start_time": "2022-08-30T23:06:44.858Z"
   },
   {
    "duration": 832,
    "start_time": "2022-08-30T23:06:45.979Z"
   },
   {
    "duration": 5,
    "start_time": "2022-08-30T23:06:46.813Z"
   },
   {
    "duration": 16,
    "start_time": "2022-08-30T23:06:46.820Z"
   },
   {
    "duration": 126,
    "start_time": "2022-08-30T23:06:47.018Z"
   },
   {
    "duration": 282,
    "start_time": "2022-08-30T23:06:49.899Z"
   },
   {
    "duration": 91,
    "start_time": "2022-08-30T23:06:50.728Z"
   },
   {
    "duration": 287,
    "start_time": "2022-08-30T23:07:31.458Z"
   },
   {
    "duration": 1060,
    "start_time": "2022-08-30T23:07:38.205Z"
   },
   {
    "duration": 784,
    "start_time": "2022-08-30T23:07:39.267Z"
   },
   {
    "duration": 7,
    "start_time": "2022-08-30T23:07:40.052Z"
   },
   {
    "duration": 24,
    "start_time": "2022-08-30T23:07:40.061Z"
   },
   {
    "duration": 132,
    "start_time": "2022-08-30T23:07:40.087Z"
   },
   {
    "duration": 294,
    "start_time": "2022-08-30T23:07:40.221Z"
   },
   {
    "duration": 96,
    "start_time": "2022-08-30T23:07:43.895Z"
   },
   {
    "duration": 266,
    "start_time": "2022-08-30T23:07:55.614Z"
   },
   {
    "duration": 1115,
    "start_time": "2022-08-30T23:08:37.657Z"
   },
   {
    "duration": 845,
    "start_time": "2022-08-30T23:08:38.774Z"
   },
   {
    "duration": 5,
    "start_time": "2022-08-30T23:08:39.621Z"
   },
   {
    "duration": 16,
    "start_time": "2022-08-30T23:08:40.327Z"
   },
   {
    "duration": 125,
    "start_time": "2022-08-30T23:08:42.138Z"
   },
   {
    "duration": 277,
    "start_time": "2022-08-30T23:08:43.037Z"
   },
   {
    "duration": 101,
    "start_time": "2022-08-30T23:08:43.988Z"
   },
   {
    "duration": 260,
    "start_time": "2022-08-30T23:08:46.592Z"
   },
   {
    "duration": 292,
    "start_time": "2022-08-30T23:08:47.552Z"
   },
   {
    "duration": 25,
    "start_time": "2022-08-30T23:08:49.338Z"
   },
   {
    "duration": 50,
    "start_time": "2022-08-30T23:08:50.658Z"
   },
   {
    "duration": 236,
    "start_time": "2022-08-30T23:08:52.578Z"
   },
   {
    "duration": 133,
    "start_time": "2022-08-30T23:08:54.728Z"
   },
   {
    "duration": 391,
    "start_time": "2022-08-30T23:08:56.237Z"
   },
   {
    "duration": 260,
    "start_time": "2022-08-30T23:08:57.827Z"
   },
   {
    "duration": 23,
    "start_time": "2022-08-30T23:08:59.598Z"
   },
   {
    "duration": 7,
    "start_time": "2022-08-30T23:09:00.928Z"
   },
   {
    "duration": 161,
    "start_time": "2022-08-30T23:09:02.283Z"
   },
   {
    "duration": 20,
    "start_time": "2022-08-30T23:09:04.443Z"
   },
   {
    "duration": 60,
    "start_time": "2022-08-30T23:09:32.008Z"
   },
   {
    "duration": 31,
    "start_time": "2022-08-30T23:10:02.612Z"
   },
   {
    "duration": 22,
    "start_time": "2022-08-30T23:10:09.372Z"
   },
   {
    "duration": 28,
    "start_time": "2022-08-30T23:10:25.697Z"
   },
   {
    "duration": 3428,
    "start_time": "2022-08-30T23:14:42.082Z"
   },
   {
    "duration": 3645,
    "start_time": "2022-08-30T23:15:20.292Z"
   },
   {
    "duration": 3913,
    "start_time": "2022-08-30T23:15:39.557Z"
   },
   {
    "duration": 61,
    "start_time": "2022-08-30T23:15:48.116Z"
   },
   {
    "duration": 1331,
    "start_time": "2022-08-31T00:18:16.324Z"
   },
   {
    "duration": 106,
    "start_time": "2022-08-31T00:19:30.294Z"
   },
   {
    "duration": 102,
    "start_time": "2022-08-31T00:19:32.828Z"
   },
   {
    "duration": 119,
    "start_time": "2022-08-31T00:20:03.339Z"
   },
   {
    "duration": 116,
    "start_time": "2022-08-31T00:20:14.199Z"
   },
   {
    "duration": 1145,
    "start_time": "2022-08-31T00:20:38.374Z"
   },
   {
    "duration": 807,
    "start_time": "2022-08-31T00:20:39.521Z"
   },
   {
    "duration": 5,
    "start_time": "2022-08-31T00:20:40.330Z"
   },
   {
    "duration": 17,
    "start_time": "2022-08-31T00:20:40.337Z"
   },
   {
    "duration": 146,
    "start_time": "2022-08-31T00:20:40.356Z"
   },
   {
    "duration": 296,
    "start_time": "2022-08-31T00:20:40.504Z"
   },
   {
    "duration": 99,
    "start_time": "2022-08-31T00:20:40.802Z"
   },
   {
    "duration": 276,
    "start_time": "2022-08-31T00:20:41.383Z"
   },
   {
    "duration": 307,
    "start_time": "2022-08-31T00:20:41.791Z"
   },
   {
    "duration": 26,
    "start_time": "2022-08-31T00:20:42.548Z"
   },
   {
    "duration": 52,
    "start_time": "2022-08-31T00:20:43.391Z"
   },
   {
    "duration": 250,
    "start_time": "2022-08-31T00:20:44.278Z"
   },
   {
    "duration": 145,
    "start_time": "2022-08-31T00:20:45.318Z"
   },
   {
    "duration": 388,
    "start_time": "2022-08-31T00:20:46.502Z"
   },
   {
    "duration": 276,
    "start_time": "2022-08-31T00:20:47.688Z"
   },
   {
    "duration": 25,
    "start_time": "2022-08-31T00:20:48.388Z"
   },
   {
    "duration": 7,
    "start_time": "2022-08-31T00:20:48.688Z"
   },
   {
    "duration": 158,
    "start_time": "2022-08-31T00:20:49.151Z"
   },
   {
    "duration": 20,
    "start_time": "2022-08-31T00:20:54.566Z"
   },
   {
    "duration": 60,
    "start_time": "2022-08-31T00:20:55.436Z"
   },
   {
    "duration": 3723,
    "start_time": "2022-08-31T00:20:57.223Z"
   },
   {
    "duration": 4,
    "start_time": "2022-08-31T00:47:49.178Z"
   },
   {
    "duration": 1478,
    "start_time": "2022-08-31T00:47:56.048Z"
   },
   {
    "duration": 850,
    "start_time": "2022-08-31T00:48:00.378Z"
   },
   {
    "duration": 6,
    "start_time": "2022-08-31T00:48:01.230Z"
   },
   {
    "duration": 25,
    "start_time": "2022-08-31T00:48:01.237Z"
   },
   {
    "duration": 145,
    "start_time": "2022-08-31T00:48:01.469Z"
   },
   {
    "duration": 308,
    "start_time": "2022-08-31T00:48:01.659Z"
   },
   {
    "duration": 104,
    "start_time": "2022-08-31T00:48:02.079Z"
   },
   {
    "duration": 300,
    "start_time": "2022-08-31T00:48:02.629Z"
   },
   {
    "duration": 325,
    "start_time": "2022-08-31T00:48:02.931Z"
   },
   {
    "duration": 22,
    "start_time": "2022-08-31T00:48:03.389Z"
   },
   {
    "duration": 69,
    "start_time": "2022-08-31T00:48:03.859Z"
   },
   {
    "duration": 255,
    "start_time": "2022-08-31T00:48:04.339Z"
   },
   {
    "duration": 148,
    "start_time": "2022-08-31T00:48:04.999Z"
   },
   {
    "duration": 477,
    "start_time": "2022-08-31T00:48:05.789Z"
   },
   {
    "duration": 273,
    "start_time": "2022-08-31T00:48:06.668Z"
   },
   {
    "duration": 25,
    "start_time": "2022-08-31T00:48:07.363Z"
   },
   {
    "duration": 8,
    "start_time": "2022-08-31T00:48:07.744Z"
   },
   {
    "duration": 167,
    "start_time": "2022-08-31T00:48:07.939Z"
   },
   {
    "duration": 19,
    "start_time": "2022-08-31T00:48:08.914Z"
   },
   {
    "duration": 63,
    "start_time": "2022-08-31T00:48:09.538Z"
   },
   {
    "duration": 3776,
    "start_time": "2022-08-31T00:48:10.074Z"
   },
   {
    "duration": 12,
    "start_time": "2022-08-31T01:09:22.268Z"
   },
   {
    "duration": 144,
    "start_time": "2022-08-31T01:09:56.933Z"
   },
   {
    "duration": 162,
    "start_time": "2022-08-31T01:11:18.829Z"
   },
   {
    "duration": 265,
    "start_time": "2022-08-31T01:11:23.683Z"
   },
   {
    "duration": 150,
    "start_time": "2022-08-31T01:11:28.349Z"
   },
   {
    "duration": 387,
    "start_time": "2022-08-31T01:11:32.363Z"
   },
   {
    "duration": 255,
    "start_time": "2022-08-31T01:11:45.073Z"
   },
   {
    "duration": 272,
    "start_time": "2022-08-31T01:11:48.453Z"
   },
   {
    "duration": 271,
    "start_time": "2022-08-31T01:11:53.789Z"
   },
   {
    "duration": 184,
    "start_time": "2022-08-31T01:12:03.483Z"
   },
   {
    "duration": 205,
    "start_time": "2022-08-31T01:12:08.989Z"
   },
   {
    "duration": 11,
    "start_time": "2022-08-31T01:23:37.068Z"
   },
   {
    "duration": 1584,
    "start_time": "2022-09-01T09:45:56.886Z"
   },
   {
    "duration": 3007,
    "start_time": "2022-09-01T09:45:59.134Z"
   },
   {
    "duration": 5,
    "start_time": "2022-09-01T09:46:02.143Z"
   },
   {
    "duration": 29,
    "start_time": "2022-09-01T09:46:02.149Z"
   },
   {
    "duration": 109,
    "start_time": "2022-09-01T09:46:02.180Z"
   },
   {
    "duration": 261,
    "start_time": "2022-09-01T09:46:02.386Z"
   },
   {
    "duration": 90,
    "start_time": "2022-09-01T09:46:03.541Z"
   },
   {
    "duration": 237,
    "start_time": "2022-09-01T09:46:05.288Z"
   },
   {
    "duration": 269,
    "start_time": "2022-09-01T09:46:06.070Z"
   },
   {
    "duration": 19,
    "start_time": "2022-09-01T09:46:08.587Z"
   },
   {
    "duration": 65,
    "start_time": "2022-09-01T09:46:09.702Z"
   },
   {
    "duration": 247,
    "start_time": "2022-09-01T09:46:11.602Z"
   },
   {
    "duration": 144,
    "start_time": "2022-09-01T09:46:13.286Z"
   },
   {
    "duration": 467,
    "start_time": "2022-09-01T09:46:15.471Z"
   },
   {
    "duration": 372,
    "start_time": "2022-09-01T09:46:17.311Z"
   },
   {
    "duration": 1355,
    "start_time": "2022-09-01T09:46:30.901Z"
   },
   {
    "duration": 723,
    "start_time": "2022-09-01T09:46:33.366Z"
   },
   {
    "duration": 5,
    "start_time": "2022-09-01T09:46:34.516Z"
   },
   {
    "duration": 22,
    "start_time": "2022-09-01T09:46:35.246Z"
   },
   {
    "duration": 114,
    "start_time": "2022-09-01T09:46:36.771Z"
   },
   {
    "duration": 280,
    "start_time": "2022-09-01T09:46:37.803Z"
   },
   {
    "duration": 93,
    "start_time": "2022-09-01T09:46:38.581Z"
   },
   {
    "duration": 244,
    "start_time": "2022-09-01T09:46:40.503Z"
   },
   {
    "duration": 286,
    "start_time": "2022-09-01T09:46:41.193Z"
   },
   {
    "duration": 18,
    "start_time": "2022-09-01T09:46:43.034Z"
   },
   {
    "duration": 62,
    "start_time": "2022-09-01T09:46:44.234Z"
   },
   {
    "duration": 244,
    "start_time": "2022-09-01T09:46:45.485Z"
   },
   {
    "duration": 130,
    "start_time": "2022-09-01T09:46:47.094Z"
   },
   {
    "duration": 427,
    "start_time": "2022-09-01T09:46:48.252Z"
   },
   {
    "duration": 270,
    "start_time": "2022-09-01T09:46:49.625Z"
   },
   {
    "duration": 29,
    "start_time": "2022-09-01T09:46:50.774Z"
   },
   {
    "duration": 7,
    "start_time": "2022-09-01T09:46:51.646Z"
   },
   {
    "duration": 158,
    "start_time": "2022-09-01T09:46:52.643Z"
   },
   {
    "duration": 18,
    "start_time": "2022-09-01T09:46:54.676Z"
   },
   {
    "duration": 56,
    "start_time": "2022-09-01T09:47:02.234Z"
   },
   {
    "duration": 3591,
    "start_time": "2022-09-01T09:47:03.522Z"
   },
   {
    "duration": 196,
    "start_time": "2022-09-01T09:47:09.672Z"
   },
   {
    "duration": 14,
    "start_time": "2022-09-01T09:47:26.213Z"
   },
   {
    "duration": 48,
    "start_time": "2022-09-01T09:49:31.692Z"
   },
   {
    "duration": 1306,
    "start_time": "2022-09-01T09:51:45.493Z"
   },
   {
    "duration": 698,
    "start_time": "2022-09-01T09:51:46.893Z"
   },
   {
    "duration": 5,
    "start_time": "2022-09-01T09:51:47.703Z"
   },
   {
    "duration": 15,
    "start_time": "2022-09-01T09:51:49.931Z"
   },
   {
    "duration": 100,
    "start_time": "2022-09-01T09:51:51.134Z"
   },
   {
    "duration": 261,
    "start_time": "2022-09-01T09:51:52.626Z"
   },
   {
    "duration": 90,
    "start_time": "2022-09-01T09:51:53.387Z"
   },
   {
    "duration": 228,
    "start_time": "2022-09-01T09:51:54.843Z"
   },
   {
    "duration": 258,
    "start_time": "2022-09-01T09:51:55.484Z"
   },
   {
    "duration": 19,
    "start_time": "2022-09-01T09:51:57.173Z"
   },
   {
    "duration": 60,
    "start_time": "2022-09-01T09:51:58.501Z"
   },
   {
    "duration": 227,
    "start_time": "2022-09-01T09:51:59.691Z"
   },
   {
    "duration": 132,
    "start_time": "2022-09-01T09:52:01.233Z"
   },
   {
    "duration": 440,
    "start_time": "2022-09-01T09:52:02.443Z"
   },
   {
    "duration": 243,
    "start_time": "2022-09-01T09:52:03.813Z"
   },
   {
    "duration": 24,
    "start_time": "2022-09-01T09:52:05.416Z"
   },
   {
    "duration": 7,
    "start_time": "2022-09-01T09:52:06.226Z"
   },
   {
    "duration": 162,
    "start_time": "2022-09-01T09:52:06.913Z"
   },
   {
    "duration": 19,
    "start_time": "2022-09-01T09:52:08.592Z"
   },
   {
    "duration": 51,
    "start_time": "2022-09-01T09:52:09.702Z"
   },
   {
    "duration": 3375,
    "start_time": "2022-09-01T09:52:10.786Z"
   },
   {
    "duration": 46,
    "start_time": "2022-09-01T09:52:16.284Z"
   },
   {
    "duration": 193,
    "start_time": "2022-09-01T09:52:17.134Z"
   },
   {
    "duration": 52,
    "start_time": "2022-09-01T09:52:36.627Z"
   },
   {
    "duration": 19,
    "start_time": "2022-09-01T09:53:00.923Z"
   },
   {
    "duration": 45,
    "start_time": "2022-09-01T09:53:04.778Z"
   },
   {
    "duration": 15,
    "start_time": "2022-09-01T09:53:07.094Z"
   },
   {
    "duration": 50,
    "start_time": "2022-09-01T09:53:17.788Z"
   },
   {
    "duration": 72,
    "start_time": "2022-09-01T09:53:38.332Z"
   },
   {
    "duration": 17,
    "start_time": "2022-09-01T09:53:40.330Z"
   },
   {
    "duration": 47,
    "start_time": "2022-09-01T09:53:41.540Z"
   },
   {
    "duration": 7,
    "start_time": "2022-09-01T09:57:41.673Z"
   },
   {
    "duration": 5,
    "start_time": "2022-09-01T09:57:48.515Z"
   },
   {
    "duration": 7,
    "start_time": "2022-09-01T10:05:48.194Z"
   },
   {
    "duration": 7,
    "start_time": "2022-09-01T10:05:54.224Z"
   },
   {
    "duration": 8,
    "start_time": "2022-09-01T10:06:09.110Z"
   },
   {
    "duration": 8,
    "start_time": "2022-09-01T10:06:12.334Z"
   },
   {
    "duration": 1708,
    "start_time": "2022-09-01T12:41:05.092Z"
   },
   {
    "duration": 1084,
    "start_time": "2022-09-01T12:41:06.802Z"
   },
   {
    "duration": 6,
    "start_time": "2022-09-01T12:41:07.888Z"
   },
   {
    "duration": 16,
    "start_time": "2022-09-01T12:41:09.912Z"
   },
   {
    "duration": 139,
    "start_time": "2022-09-01T12:41:11.521Z"
   },
   {
    "duration": 285,
    "start_time": "2022-09-01T12:41:12.587Z"
   },
   {
    "duration": 94,
    "start_time": "2022-09-01T12:41:13.332Z"
   },
   {
    "duration": 278,
    "start_time": "2022-09-01T12:41:15.072Z"
   },
   {
    "duration": 304,
    "start_time": "2022-09-01T12:41:15.780Z"
   },
   {
    "duration": 22,
    "start_time": "2022-09-01T12:41:17.300Z"
   },
   {
    "duration": 64,
    "start_time": "2022-09-01T12:41:20.705Z"
   },
   {
    "duration": 244,
    "start_time": "2022-09-01T12:41:20.771Z"
   },
   {
    "duration": 146,
    "start_time": "2022-09-01T12:41:23.185Z"
   },
   {
    "duration": 477,
    "start_time": "2022-09-01T12:41:24.988Z"
   },
   {
    "duration": 285,
    "start_time": "2022-09-01T12:41:26.987Z"
   },
   {
    "duration": 24,
    "start_time": "2022-09-01T12:41:28.477Z"
   },
   {
    "duration": 8,
    "start_time": "2022-09-01T12:41:29.401Z"
   },
   {
    "duration": 158,
    "start_time": "2022-09-01T12:41:30.145Z"
   },
   {
    "duration": 18,
    "start_time": "2022-09-01T12:41:37.744Z"
   },
   {
    "duration": 7,
    "start_time": "2022-09-01T12:41:37.805Z"
   },
   {
    "duration": 117,
    "start_time": "2022-09-01T12:41:37.814Z"
   },
   {
    "duration": 3913,
    "start_time": "2022-09-01T12:41:40.085Z"
   },
   {
    "duration": 81,
    "start_time": "2022-09-01T12:41:46.625Z"
   },
   {
    "duration": 201,
    "start_time": "2022-09-01T12:41:48.085Z"
   },
   {
    "duration": 196,
    "start_time": "2022-09-01T12:42:30.376Z"
   },
   {
    "duration": 9,
    "start_time": "2022-09-01T12:43:41.083Z"
   },
   {
    "duration": 34,
    "start_time": "2022-09-01T12:44:08.770Z"
   },
   {
    "duration": 27,
    "start_time": "2022-09-01T12:44:16.419Z"
   },
   {
    "duration": 1370,
    "start_time": "2022-09-01T12:44:34.314Z"
   },
   {
    "duration": 849,
    "start_time": "2022-09-01T12:44:35.685Z"
   },
   {
    "duration": 5,
    "start_time": "2022-09-01T12:44:36.536Z"
   },
   {
    "duration": 28,
    "start_time": "2022-09-01T12:44:36.543Z"
   },
   {
    "duration": 172,
    "start_time": "2022-09-01T12:44:36.572Z"
   },
   {
    "duration": 301,
    "start_time": "2022-09-01T12:44:36.745Z"
   },
   {
    "duration": 99,
    "start_time": "2022-09-01T12:44:37.047Z"
   },
   {
    "duration": 281,
    "start_time": "2022-09-01T12:44:37.148Z"
   },
   {
    "duration": 313,
    "start_time": "2022-09-01T12:44:37.430Z"
   },
   {
    "duration": 22,
    "start_time": "2022-09-01T12:44:37.745Z"
   },
   {
    "duration": 75,
    "start_time": "2022-09-01T12:44:37.768Z"
   },
   {
    "duration": 270,
    "start_time": "2022-09-01T12:44:37.844Z"
   },
   {
    "duration": 145,
    "start_time": "2022-09-01T12:44:38.116Z"
   },
   {
    "duration": 481,
    "start_time": "2022-09-01T12:44:38.262Z"
   },
   {
    "duration": 280,
    "start_time": "2022-09-01T12:44:38.744Z"
   },
   {
    "duration": 24,
    "start_time": "2022-09-01T12:44:39.026Z"
   },
   {
    "duration": 8,
    "start_time": "2022-09-01T12:44:39.052Z"
   },
   {
    "duration": 172,
    "start_time": "2022-09-01T12:44:39.061Z"
   },
   {
    "duration": 23,
    "start_time": "2022-09-01T12:44:39.235Z"
   },
   {
    "duration": 5,
    "start_time": "2022-09-01T12:44:39.260Z"
   },
   {
    "duration": 75,
    "start_time": "2022-09-01T12:44:39.266Z"
   },
   {
    "duration": 3664,
    "start_time": "2022-09-01T12:44:39.342Z"
   },
   {
    "duration": 75,
    "start_time": "2022-09-01T12:44:43.008Z"
   },
   {
    "duration": 203,
    "start_time": "2022-09-01T12:44:43.084Z"
   },
   {
    "duration": 21,
    "start_time": "2022-09-01T12:44:43.289Z"
   },
   {
    "duration": 4,
    "start_time": "2022-09-01T12:44:54.599Z"
   },
   {
    "duration": 4,
    "start_time": "2022-09-01T12:46:21.459Z"
   },
   {
    "duration": 1305,
    "start_time": "2022-09-01T12:46:51.148Z"
   },
   {
    "duration": 790,
    "start_time": "2022-09-01T12:46:52.516Z"
   },
   {
    "duration": 5,
    "start_time": "2022-09-01T12:46:54.434Z"
   },
   {
    "duration": 16,
    "start_time": "2022-09-01T12:46:57.555Z"
   },
   {
    "duration": 132,
    "start_time": "2022-09-01T12:46:58.802Z"
   },
   {
    "duration": 304,
    "start_time": "2022-09-01T12:47:00.053Z"
   },
   {
    "duration": 96,
    "start_time": "2022-09-01T12:47:01.042Z"
   },
   {
    "duration": 283,
    "start_time": "2022-09-01T12:47:03.333Z"
   },
   {
    "duration": 305,
    "start_time": "2022-09-01T12:47:04.428Z"
   },
   {
    "duration": 24,
    "start_time": "2022-09-01T12:47:06.042Z"
   },
   {
    "duration": 67,
    "start_time": "2022-09-01T12:47:08.588Z"
   },
   {
    "duration": 264,
    "start_time": "2022-09-01T12:47:09.722Z"
   },
   {
    "duration": 148,
    "start_time": "2022-09-01T12:47:11.482Z"
   },
   {
    "duration": 480,
    "start_time": "2022-09-01T12:47:12.962Z"
   },
   {
    "duration": 268,
    "start_time": "2022-09-01T12:47:14.952Z"
   },
   {
    "duration": 26,
    "start_time": "2022-09-01T12:47:16.542Z"
   },
   {
    "duration": 7,
    "start_time": "2022-09-01T12:47:17.403Z"
   },
   {
    "duration": 157,
    "start_time": "2022-09-01T12:47:18.341Z"
   },
   {
    "duration": 19,
    "start_time": "2022-09-01T12:47:19.923Z"
   },
   {
    "duration": 5,
    "start_time": "2022-09-01T12:47:20.701Z"
   },
   {
    "duration": 62,
    "start_time": "2022-09-01T12:47:21.795Z"
   },
   {
    "duration": 3782,
    "start_time": "2022-09-01T12:47:23.236Z"
   },
   {
    "duration": 78,
    "start_time": "2022-09-01T12:47:30.349Z"
   },
   {
    "duration": 205,
    "start_time": "2022-09-01T12:47:31.739Z"
   },
   {
    "duration": 21,
    "start_time": "2022-09-01T12:47:33.443Z"
   },
   {
    "duration": 4,
    "start_time": "2022-09-01T12:47:34.348Z"
   },
   {
    "duration": 4,
    "start_time": "2022-09-01T12:47:47.083Z"
   },
   {
    "duration": 3,
    "start_time": "2022-09-01T12:47:53.993Z"
   },
   {
    "duration": 4,
    "start_time": "2022-09-01T12:48:02.943Z"
   },
   {
    "duration": 1429,
    "start_time": "2022-09-01T12:50:12.355Z"
   },
   {
    "duration": 833,
    "start_time": "2022-09-01T12:50:13.785Z"
   },
   {
    "duration": 5,
    "start_time": "2022-09-01T12:50:14.620Z"
   },
   {
    "duration": 29,
    "start_time": "2022-09-01T12:50:14.626Z"
   },
   {
    "duration": 152,
    "start_time": "2022-09-01T12:50:14.658Z"
   },
   {
    "duration": 305,
    "start_time": "2022-09-01T12:50:14.812Z"
   },
   {
    "duration": 104,
    "start_time": "2022-09-01T12:50:15.119Z"
   },
   {
    "duration": 296,
    "start_time": "2022-09-01T12:50:15.224Z"
   },
   {
    "duration": 305,
    "start_time": "2022-09-01T12:50:15.522Z"
   },
   {
    "duration": 22,
    "start_time": "2022-09-01T12:50:15.828Z"
   },
   {
    "duration": 80,
    "start_time": "2022-09-01T12:50:15.851Z"
   },
   {
    "duration": 276,
    "start_time": "2022-09-01T12:50:15.932Z"
   },
   {
    "duration": 197,
    "start_time": "2022-09-01T12:50:16.210Z"
   },
   {
    "duration": 475,
    "start_time": "2022-09-01T12:50:16.412Z"
   },
   {
    "duration": 279,
    "start_time": "2022-09-01T12:50:16.888Z"
   },
   {
    "duration": 34,
    "start_time": "2022-09-01T12:50:17.168Z"
   },
   {
    "duration": 7,
    "start_time": "2022-09-01T12:50:17.203Z"
   },
   {
    "duration": 170,
    "start_time": "2022-09-01T12:50:17.212Z"
   },
   {
    "duration": 23,
    "start_time": "2022-09-01T12:50:17.387Z"
   },
   {
    "duration": 5,
    "start_time": "2022-09-01T12:50:17.412Z"
   },
   {
    "duration": 82,
    "start_time": "2022-09-01T12:50:17.418Z"
   },
   {
    "duration": 3733,
    "start_time": "2022-09-01T12:50:17.501Z"
   },
   {
    "duration": 75,
    "start_time": "2022-09-01T12:50:21.236Z"
   },
   {
    "duration": 197,
    "start_time": "2022-09-01T12:50:21.313Z"
   },
   {
    "duration": 21,
    "start_time": "2022-09-01T12:50:21.512Z"
   },
   {
    "duration": 4,
    "start_time": "2022-09-01T12:50:21.535Z"
   },
   {
    "duration": 7,
    "start_time": "2022-09-01T12:50:21.541Z"
   },
   {
    "duration": 15,
    "start_time": "2022-09-01T12:50:21.549Z"
   },
   {
    "duration": 61,
    "start_time": "2022-09-01T12:51:54.121Z"
   },
   {
    "duration": 64,
    "start_time": "2022-09-01T12:52:11.387Z"
   },
   {
    "duration": 113,
    "start_time": "2022-09-01T12:53:13.394Z"
   },
   {
    "duration": 10,
    "start_time": "2022-09-01T12:53:15.707Z"
   },
   {
    "duration": 11,
    "start_time": "2022-09-01T12:53:25.536Z"
   },
   {
    "duration": 11,
    "start_time": "2022-09-01T12:53:28.507Z"
   },
   {
    "duration": 11,
    "start_time": "2022-09-01T12:53:37.719Z"
   },
   {
    "duration": 4,
    "start_time": "2022-09-01T12:54:12.715Z"
   },
   {
    "duration": 4,
    "start_time": "2022-09-01T12:54:20.932Z"
   },
   {
    "duration": 4,
    "start_time": "2022-09-01T12:54:46.463Z"
   },
   {
    "duration": 4,
    "start_time": "2022-09-01T12:55:00.907Z"
   },
   {
    "duration": 13,
    "start_time": "2022-09-01T12:55:12.601Z"
   },
   {
    "duration": 67,
    "start_time": "2022-09-01T12:55:20.783Z"
   },
   {
    "duration": 3,
    "start_time": "2022-09-01T12:56:54.748Z"
   },
   {
    "duration": 400,
    "start_time": "2022-09-01T13:03:48.594Z"
   },
   {
    "duration": 26,
    "start_time": "2022-09-01T13:03:52.026Z"
   },
   {
    "duration": 1436,
    "start_time": "2022-09-01T13:07:39.265Z"
   },
   {
    "duration": 796,
    "start_time": "2022-09-01T13:07:40.702Z"
   },
   {
    "duration": 5,
    "start_time": "2022-09-01T13:07:41.499Z"
   },
   {
    "duration": 17,
    "start_time": "2022-09-01T13:07:41.505Z"
   },
   {
    "duration": 142,
    "start_time": "2022-09-01T13:07:41.524Z"
   },
   {
    "duration": 297,
    "start_time": "2022-09-01T13:07:41.667Z"
   },
   {
    "duration": 107,
    "start_time": "2022-09-01T13:07:41.965Z"
   },
   {
    "duration": 302,
    "start_time": "2022-09-01T13:07:42.074Z"
   },
   {
    "duration": 310,
    "start_time": "2022-09-01T13:07:42.378Z"
   },
   {
    "duration": 22,
    "start_time": "2022-09-01T13:07:42.690Z"
   },
   {
    "duration": 75,
    "start_time": "2022-09-01T13:07:42.714Z"
   },
   {
    "duration": 265,
    "start_time": "2022-09-01T13:07:42.791Z"
   },
   {
    "duration": 149,
    "start_time": "2022-09-01T13:07:43.057Z"
   },
   {
    "duration": 416,
    "start_time": "2022-09-01T13:07:43.209Z"
   },
   {
    "duration": 268,
    "start_time": "2022-09-01T13:07:43.627Z"
   },
   {
    "duration": 24,
    "start_time": "2022-09-01T13:07:43.896Z"
   },
   {
    "duration": 7,
    "start_time": "2022-09-01T13:07:43.921Z"
   },
   {
    "duration": 196,
    "start_time": "2022-09-01T13:07:43.930Z"
   },
   {
    "duration": 24,
    "start_time": "2022-09-01T13:07:44.128Z"
   },
   {
    "duration": 5,
    "start_time": "2022-09-01T13:07:44.154Z"
   },
   {
    "duration": 82,
    "start_time": "2022-09-01T13:07:44.160Z"
   },
   {
    "duration": 3791,
    "start_time": "2022-09-01T13:07:44.243Z"
   },
   {
    "duration": 77,
    "start_time": "2022-09-01T13:07:48.036Z"
   },
   {
    "duration": 213,
    "start_time": "2022-09-01T13:07:48.115Z"
   },
   {
    "duration": 21,
    "start_time": "2022-09-01T13:07:48.330Z"
   },
   {
    "duration": 4,
    "start_time": "2022-09-01T13:07:48.352Z"
   },
   {
    "duration": 6,
    "start_time": "2022-09-01T13:07:48.358Z"
   },
   {
    "duration": 28,
    "start_time": "2022-09-01T13:07:48.365Z"
   },
   {
    "duration": 62,
    "start_time": "2022-09-01T13:07:48.395Z"
   },
   {
    "duration": 3,
    "start_time": "2022-09-01T13:07:48.459Z"
   },
   {
    "duration": 1474,
    "start_time": "2022-09-01T13:12:13.295Z"
   },
   {
    "duration": 931,
    "start_time": "2022-09-01T13:12:14.771Z"
   },
   {
    "duration": 5,
    "start_time": "2022-09-01T13:12:15.704Z"
   },
   {
    "duration": 24,
    "start_time": "2022-09-01T13:12:15.711Z"
   },
   {
    "duration": 157,
    "start_time": "2022-09-01T13:12:15.737Z"
   },
   {
    "duration": 318,
    "start_time": "2022-09-01T13:12:15.896Z"
   },
   {
    "duration": 129,
    "start_time": "2022-09-01T13:12:16.216Z"
   },
   {
    "duration": 419,
    "start_time": "2022-09-01T13:12:16.347Z"
   },
   {
    "duration": 473,
    "start_time": "2022-09-01T13:12:16.770Z"
   },
   {
    "duration": 27,
    "start_time": "2022-09-01T13:12:17.245Z"
   },
   {
    "duration": 81,
    "start_time": "2022-09-01T13:12:17.274Z"
   },
   {
    "duration": 349,
    "start_time": "2022-09-01T13:12:17.358Z"
   },
   {
    "duration": 157,
    "start_time": "2022-09-01T13:12:17.708Z"
   },
   {
    "duration": 475,
    "start_time": "2022-09-01T13:12:17.869Z"
   },
   {
    "duration": 309,
    "start_time": "2022-09-01T13:12:18.347Z"
   },
   {
    "duration": 35,
    "start_time": "2022-09-01T13:12:18.658Z"
   },
   {
    "duration": 10,
    "start_time": "2022-09-01T13:12:18.695Z"
   },
   {
    "duration": 205,
    "start_time": "2022-09-01T13:12:18.707Z"
   },
   {
    "duration": 24,
    "start_time": "2022-09-01T13:12:18.914Z"
   },
   {
    "duration": 6,
    "start_time": "2022-09-01T13:12:18.940Z"
   },
   {
    "duration": 104,
    "start_time": "2022-09-01T13:12:18.948Z"
   },
   {
    "duration": 3996,
    "start_time": "2022-09-01T13:12:19.054Z"
   },
   {
    "duration": 118,
    "start_time": "2022-09-01T13:12:23.053Z"
   },
   {
    "duration": 206,
    "start_time": "2022-09-01T13:12:23.173Z"
   },
   {
    "duration": 22,
    "start_time": "2022-09-01T13:12:23.386Z"
   },
   {
    "duration": 4,
    "start_time": "2022-09-01T13:12:23.411Z"
   },
   {
    "duration": 13,
    "start_time": "2022-09-01T13:12:23.417Z"
   },
   {
    "duration": 30,
    "start_time": "2022-09-01T13:12:23.431Z"
   },
   {
    "duration": 72,
    "start_time": "2022-09-01T13:12:23.463Z"
   },
   {
    "duration": 3,
    "start_time": "2022-09-01T13:12:23.538Z"
   },
   {
    "duration": 32,
    "start_time": "2022-09-01T13:13:56.091Z"
   },
   {
    "duration": 30,
    "start_time": "2022-09-01T13:14:22.802Z"
   },
   {
    "duration": 30,
    "start_time": "2022-09-01T13:15:28.634Z"
   },
   {
    "duration": 147,
    "start_time": "2022-09-01T13:15:31.877Z"
   },
   {
    "duration": 31,
    "start_time": "2022-09-01T13:15:33.742Z"
   },
   {
    "duration": 36,
    "start_time": "2022-09-01T13:15:37.282Z"
   },
   {
    "duration": 37,
    "start_time": "2022-09-01T13:16:04.477Z"
   },
   {
    "duration": 27,
    "start_time": "2022-09-01T13:16:47.541Z"
   },
   {
    "duration": 24,
    "start_time": "2022-09-01T13:18:20.810Z"
   },
   {
    "duration": 23,
    "start_time": "2022-09-01T13:18:24.601Z"
   },
   {
    "duration": 30,
    "start_time": "2022-09-01T13:18:29.344Z"
   },
   {
    "duration": 61,
    "start_time": "2022-09-01T13:20:04.140Z"
   },
   {
    "duration": 14,
    "start_time": "2022-09-01T13:20:08.225Z"
   },
   {
    "duration": 34,
    "start_time": "2022-09-01T13:20:38.352Z"
   },
   {
    "duration": 12,
    "start_time": "2022-09-01T13:20:41.751Z"
   },
   {
    "duration": 1427,
    "start_time": "2022-09-01T13:21:03.561Z"
   },
   {
    "duration": 857,
    "start_time": "2022-09-01T13:21:04.990Z"
   },
   {
    "duration": 5,
    "start_time": "2022-09-01T13:21:05.849Z"
   },
   {
    "duration": 35,
    "start_time": "2022-09-01T13:21:05.856Z"
   },
   {
    "duration": 170,
    "start_time": "2022-09-01T13:21:05.892Z"
   },
   {
    "duration": 360,
    "start_time": "2022-09-01T13:21:06.064Z"
   },
   {
    "duration": 127,
    "start_time": "2022-09-01T13:21:06.427Z"
   },
   {
    "duration": 326,
    "start_time": "2022-09-01T13:21:06.556Z"
   },
   {
    "duration": 320,
    "start_time": "2022-09-01T13:21:06.883Z"
   },
   {
    "duration": 24,
    "start_time": "2022-09-01T13:21:07.206Z"
   },
   {
    "duration": 87,
    "start_time": "2022-09-01T13:21:07.231Z"
   },
   {
    "duration": 303,
    "start_time": "2022-09-01T13:21:07.320Z"
   },
   {
    "duration": 163,
    "start_time": "2022-09-01T13:21:07.625Z"
   },
   {
    "duration": 487,
    "start_time": "2022-09-01T13:21:07.790Z"
   },
   {
    "duration": 291,
    "start_time": "2022-09-01T13:21:08.278Z"
   },
   {
    "duration": 34,
    "start_time": "2022-09-01T13:21:08.571Z"
   },
   {
    "duration": 7,
    "start_time": "2022-09-01T13:21:08.607Z"
   },
   {
    "duration": 184,
    "start_time": "2022-09-01T13:21:08.617Z"
   },
   {
    "duration": 25,
    "start_time": "2022-09-01T13:21:08.802Z"
   },
   {
    "duration": 6,
    "start_time": "2022-09-01T13:21:08.828Z"
   },
   {
    "duration": 89,
    "start_time": "2022-09-01T13:21:08.835Z"
   },
   {
    "duration": 3992,
    "start_time": "2022-09-01T13:21:08.926Z"
   },
   {
    "duration": 79,
    "start_time": "2022-09-01T13:21:12.920Z"
   },
   {
    "duration": 205,
    "start_time": "2022-09-01T13:21:13.001Z"
   },
   {
    "duration": 21,
    "start_time": "2022-09-01T13:21:13.208Z"
   },
   {
    "duration": 11,
    "start_time": "2022-09-01T13:21:13.230Z"
   },
   {
    "duration": 16,
    "start_time": "2022-09-01T13:21:13.242Z"
   },
   {
    "duration": 27,
    "start_time": "2022-09-01T13:21:13.262Z"
   },
   {
    "duration": 104,
    "start_time": "2022-09-01T13:21:13.290Z"
   },
   {
    "duration": 3,
    "start_time": "2022-09-01T13:21:13.396Z"
   },
   {
    "duration": 131,
    "start_time": "2022-09-01T13:21:13.401Z"
   },
   {
    "duration": 13,
    "start_time": "2022-09-01T13:21:13.534Z"
   },
   {
    "duration": 66,
    "start_time": "2022-09-01T13:21:39.798Z"
   },
   {
    "duration": 108,
    "start_time": "2022-09-01T13:50:57.821Z"
   },
   {
    "duration": 3243,
    "start_time": "2022-09-01T13:51:09.130Z"
   },
   {
    "duration": 26,
    "start_time": "2022-09-01T13:51:18.493Z"
   },
   {
    "duration": 1487,
    "start_time": "2022-09-01T13:53:22.014Z"
   },
   {
    "duration": 815,
    "start_time": "2022-09-01T13:53:23.503Z"
   },
   {
    "duration": 6,
    "start_time": "2022-09-01T13:53:24.320Z"
   },
   {
    "duration": 17,
    "start_time": "2022-09-01T13:53:24.328Z"
   },
   {
    "duration": 154,
    "start_time": "2022-09-01T13:53:24.348Z"
   },
   {
    "duration": 314,
    "start_time": "2022-09-01T13:53:24.504Z"
   },
   {
    "duration": 122,
    "start_time": "2022-09-01T13:53:24.820Z"
   },
   {
    "duration": 299,
    "start_time": "2022-09-01T13:53:24.944Z"
   },
   {
    "duration": 317,
    "start_time": "2022-09-01T13:53:25.245Z"
   },
   {
    "duration": 26,
    "start_time": "2022-09-01T13:53:25.564Z"
   },
   {
    "duration": 64,
    "start_time": "2022-09-01T13:53:25.592Z"
   },
   {
    "duration": 271,
    "start_time": "2022-09-01T13:53:25.658Z"
   },
   {
    "duration": 166,
    "start_time": "2022-09-01T13:53:25.930Z"
   },
   {
    "duration": 494,
    "start_time": "2022-09-01T13:53:26.099Z"
   },
   {
    "duration": 307,
    "start_time": "2022-09-01T13:53:26.595Z"
   },
   {
    "duration": 25,
    "start_time": "2022-09-01T13:53:26.904Z"
   },
   {
    "duration": 7,
    "start_time": "2022-09-01T13:53:26.931Z"
   },
   {
    "duration": 177,
    "start_time": "2022-09-01T13:53:26.940Z"
   },
   {
    "duration": 22,
    "start_time": "2022-09-01T13:53:27.119Z"
   },
   {
    "duration": 5,
    "start_time": "2022-09-01T13:53:27.143Z"
   },
   {
    "duration": 79,
    "start_time": "2022-09-01T13:53:27.150Z"
   },
   {
    "duration": 3828,
    "start_time": "2022-09-01T13:53:27.230Z"
   },
   {
    "duration": 77,
    "start_time": "2022-09-01T13:53:31.060Z"
   },
   {
    "duration": 205,
    "start_time": "2022-09-01T13:53:31.139Z"
   },
   {
    "duration": 21,
    "start_time": "2022-09-01T13:53:31.346Z"
   },
   {
    "duration": 20,
    "start_time": "2022-09-01T13:53:31.369Z"
   },
   {
    "duration": 24,
    "start_time": "2022-09-01T13:53:31.391Z"
   },
   {
    "duration": 40,
    "start_time": "2022-09-01T13:53:31.417Z"
   },
   {
    "duration": 85,
    "start_time": "2022-09-01T13:53:31.460Z"
   },
   {
    "duration": 92,
    "start_time": "2022-09-01T13:53:31.546Z"
   },
   {
    "duration": 12,
    "start_time": "2022-09-01T13:53:31.639Z"
   },
   {
    "duration": 9929,
    "start_time": "2022-09-01T13:53:31.652Z"
   },
   {
    "duration": 16,
    "start_time": "2022-09-01T13:53:41.582Z"
   },
   {
    "duration": 125,
    "start_time": "2022-09-01T13:53:51.454Z"
   },
   {
    "duration": 1402,
    "start_time": "2022-09-01T13:53:56.400Z"
   },
   {
    "duration": 817,
    "start_time": "2022-09-01T13:53:57.804Z"
   },
   {
    "duration": 5,
    "start_time": "2022-09-01T13:53:58.623Z"
   },
   {
    "duration": 16,
    "start_time": "2022-09-01T13:53:58.629Z"
   },
   {
    "duration": 142,
    "start_time": "2022-09-01T13:53:58.647Z"
   },
   {
    "duration": 307,
    "start_time": "2022-09-01T13:53:58.791Z"
   },
   {
    "duration": 100,
    "start_time": "2022-09-01T13:53:59.100Z"
   },
   {
    "duration": 271,
    "start_time": "2022-09-01T13:53:59.202Z"
   },
   {
    "duration": 300,
    "start_time": "2022-09-01T13:53:59.474Z"
   },
   {
    "duration": 23,
    "start_time": "2022-09-01T13:53:59.775Z"
   },
   {
    "duration": 64,
    "start_time": "2022-09-01T13:53:59.799Z"
   },
   {
    "duration": 280,
    "start_time": "2022-09-01T13:53:59.865Z"
   },
   {
    "duration": 160,
    "start_time": "2022-09-01T13:54:00.146Z"
   },
   {
    "duration": 426,
    "start_time": "2022-09-01T13:54:00.308Z"
   },
   {
    "duration": 302,
    "start_time": "2022-09-01T13:54:00.735Z"
   },
   {
    "duration": 25,
    "start_time": "2022-09-01T13:54:01.039Z"
   },
   {
    "duration": 8,
    "start_time": "2022-09-01T13:54:01.066Z"
   },
   {
    "duration": 188,
    "start_time": "2022-09-01T13:54:01.075Z"
   },
   {
    "duration": 23,
    "start_time": "2022-09-01T13:54:01.265Z"
   },
   {
    "duration": 17,
    "start_time": "2022-09-01T13:54:01.290Z"
   },
   {
    "duration": 75,
    "start_time": "2022-09-01T13:54:01.309Z"
   },
   {
    "duration": 4097,
    "start_time": "2022-09-01T13:54:01.385Z"
   },
   {
    "duration": 79,
    "start_time": "2022-09-01T13:54:05.484Z"
   },
   {
    "duration": 213,
    "start_time": "2022-09-01T13:54:05.565Z"
   },
   {
    "duration": 22,
    "start_time": "2022-09-01T13:54:05.780Z"
   },
   {
    "duration": 4,
    "start_time": "2022-09-01T13:54:05.804Z"
   },
   {
    "duration": 13,
    "start_time": "2022-09-01T13:54:05.811Z"
   },
   {
    "duration": 20,
    "start_time": "2022-09-01T13:54:05.827Z"
   },
   {
    "duration": 106,
    "start_time": "2022-09-01T13:54:05.850Z"
   },
   {
    "duration": 103,
    "start_time": "2022-09-01T13:54:05.958Z"
   },
   {
    "duration": 12,
    "start_time": "2022-09-01T13:54:06.063Z"
   },
   {
    "duration": 3258,
    "start_time": "2022-09-01T13:54:06.076Z"
   },
   {
    "duration": 25,
    "start_time": "2022-09-01T13:54:09.335Z"
   },
   {
    "duration": 1385,
    "start_time": "2022-09-01T13:54:22.611Z"
   },
   {
    "duration": 810,
    "start_time": "2022-09-01T13:54:23.998Z"
   },
   {
    "duration": 5,
    "start_time": "2022-09-01T13:54:24.810Z"
   },
   {
    "duration": 30,
    "start_time": "2022-09-01T13:54:24.816Z"
   },
   {
    "duration": 139,
    "start_time": "2022-09-01T13:54:24.848Z"
   },
   {
    "duration": 298,
    "start_time": "2022-09-01T13:54:24.989Z"
   },
   {
    "duration": 103,
    "start_time": "2022-09-01T13:54:25.288Z"
   },
   {
    "duration": 281,
    "start_time": "2022-09-01T13:54:25.393Z"
   },
   {
    "duration": 325,
    "start_time": "2022-09-01T13:54:25.676Z"
   },
   {
    "duration": 32,
    "start_time": "2022-09-01T13:54:26.004Z"
   },
   {
    "duration": 66,
    "start_time": "2022-09-01T13:54:26.038Z"
   },
   {
    "duration": 322,
    "start_time": "2022-09-01T13:54:26.106Z"
   },
   {
    "duration": 175,
    "start_time": "2022-09-01T13:54:26.430Z"
   },
   {
    "duration": 436,
    "start_time": "2022-09-01T13:54:26.608Z"
   },
   {
    "duration": 283,
    "start_time": "2022-09-01T13:54:27.045Z"
   },
   {
    "duration": 25,
    "start_time": "2022-09-01T13:54:27.330Z"
   },
   {
    "duration": 9,
    "start_time": "2022-09-01T13:54:27.358Z"
   },
   {
    "duration": 213,
    "start_time": "2022-09-01T13:54:27.368Z"
   },
   {
    "duration": 22,
    "start_time": "2022-09-01T13:54:27.582Z"
   },
   {
    "duration": 6,
    "start_time": "2022-09-01T13:54:27.607Z"
   },
   {
    "duration": 87,
    "start_time": "2022-09-01T13:54:27.615Z"
   },
   {
    "duration": 3784,
    "start_time": "2022-09-01T13:54:27.706Z"
   },
   {
    "duration": 74,
    "start_time": "2022-09-01T13:54:31.492Z"
   },
   {
    "duration": 206,
    "start_time": "2022-09-01T13:54:31.568Z"
   },
   {
    "duration": 26,
    "start_time": "2022-09-01T13:54:31.775Z"
   },
   {
    "duration": 4,
    "start_time": "2022-09-01T13:54:31.802Z"
   },
   {
    "duration": 8,
    "start_time": "2022-09-01T13:54:31.807Z"
   },
   {
    "duration": 17,
    "start_time": "2022-09-01T13:54:31.816Z"
   },
   {
    "duration": 78,
    "start_time": "2022-09-01T13:54:31.835Z"
   },
   {
    "duration": 97,
    "start_time": "2022-09-01T13:54:31.914Z"
   },
   {
    "duration": 12,
    "start_time": "2022-09-01T13:54:32.013Z"
   },
   {
    "duration": 729,
    "start_time": "2022-09-01T13:54:32.027Z"
   },
   {
    "duration": 11,
    "start_time": "2022-09-01T13:54:32.758Z"
   },
   {
    "duration": 12,
    "start_time": "2022-09-01T13:54:43.130Z"
   },
   {
    "duration": 158,
    "start_time": "2022-09-01T13:55:08.988Z"
   },
   {
    "duration": 14,
    "start_time": "2022-09-01T13:55:20.898Z"
   },
   {
    "duration": 7,
    "start_time": "2022-09-01T13:55:32.920Z"
   },
   {
    "duration": 1351,
    "start_time": "2022-09-01T13:58:52.204Z"
   },
   {
    "duration": 804,
    "start_time": "2022-09-01T13:58:53.558Z"
   },
   {
    "duration": 5,
    "start_time": "2022-09-01T13:58:54.364Z"
   },
   {
    "duration": 22,
    "start_time": "2022-09-01T13:58:54.371Z"
   },
   {
    "duration": 144,
    "start_time": "2022-09-01T13:58:54.395Z"
   },
   {
    "duration": 289,
    "start_time": "2022-09-01T13:58:54.541Z"
   },
   {
    "duration": 105,
    "start_time": "2022-09-01T13:58:54.832Z"
   },
   {
    "duration": 285,
    "start_time": "2022-09-01T13:58:54.938Z"
   },
   {
    "duration": 341,
    "start_time": "2022-09-01T13:58:55.225Z"
   },
   {
    "duration": 27,
    "start_time": "2022-09-01T13:58:55.568Z"
   },
   {
    "duration": 66,
    "start_time": "2022-09-01T13:58:55.597Z"
   },
   {
    "duration": 278,
    "start_time": "2022-09-01T13:58:55.666Z"
   },
   {
    "duration": 167,
    "start_time": "2022-09-01T13:58:55.946Z"
   },
   {
    "duration": 542,
    "start_time": "2022-09-01T13:58:56.116Z"
   },
   {
    "duration": 290,
    "start_time": "2022-09-01T13:58:56.660Z"
   },
   {
    "duration": 35,
    "start_time": "2022-09-01T13:58:56.952Z"
   },
   {
    "duration": 9,
    "start_time": "2022-09-01T13:58:56.988Z"
   },
   {
    "duration": 166,
    "start_time": "2022-09-01T13:58:56.999Z"
   },
   {
    "duration": 33,
    "start_time": "2022-09-01T13:58:57.167Z"
   },
   {
    "duration": 5,
    "start_time": "2022-09-01T13:58:57.201Z"
   },
   {
    "duration": 61,
    "start_time": "2022-09-01T13:58:57.208Z"
   },
   {
    "duration": 3772,
    "start_time": "2022-09-01T13:58:57.286Z"
   },
   {
    "duration": 81,
    "start_time": "2022-09-01T13:59:01.061Z"
   },
   {
    "duration": 226,
    "start_time": "2022-09-01T13:59:01.144Z"
   },
   {
    "duration": 31,
    "start_time": "2022-09-01T13:59:01.372Z"
   },
   {
    "duration": 4,
    "start_time": "2022-09-01T13:59:01.405Z"
   },
   {
    "duration": 27,
    "start_time": "2022-09-01T13:59:01.410Z"
   },
   {
    "duration": 39,
    "start_time": "2022-09-01T13:59:01.439Z"
   },
   {
    "duration": 101,
    "start_time": "2022-09-01T13:59:01.479Z"
   },
   {
    "duration": 101,
    "start_time": "2022-09-01T13:59:01.582Z"
   },
   {
    "duration": 119,
    "start_time": "2022-09-01T13:59:01.685Z"
   },
   {
    "duration": 0,
    "start_time": "2022-09-01T13:59:01.806Z"
   },
   {
    "duration": 10,
    "start_time": "2022-09-01T13:59:23.903Z"
   },
   {
    "duration": 13,
    "start_time": "2022-09-01T13:59:27.072Z"
   },
   {
    "duration": 19,
    "start_time": "2022-09-01T13:59:36.333Z"
   },
   {
    "duration": 12,
    "start_time": "2022-09-01T13:59:42.327Z"
   },
   {
    "duration": 33,
    "start_time": "2022-09-01T13:59:44.568Z"
   },
   {
    "duration": 17,
    "start_time": "2022-09-01T13:59:46.248Z"
   },
   {
    "duration": 38,
    "start_time": "2022-09-01T13:59:50.912Z"
   },
   {
    "duration": 3,
    "start_time": "2022-09-01T14:01:29.813Z"
   },
   {
    "duration": 12,
    "start_time": "2022-09-01T14:01:39.973Z"
   },
   {
    "duration": 1386,
    "start_time": "2022-09-01T14:01:49.205Z"
   },
   {
    "duration": 804,
    "start_time": "2022-09-01T14:01:50.593Z"
   },
   {
    "duration": 6,
    "start_time": "2022-09-01T14:01:51.398Z"
   },
   {
    "duration": 17,
    "start_time": "2022-09-01T14:01:51.405Z"
   },
   {
    "duration": 145,
    "start_time": "2022-09-01T14:01:51.424Z"
   },
   {
    "duration": 295,
    "start_time": "2022-09-01T14:01:51.571Z"
   },
   {
    "duration": 112,
    "start_time": "2022-09-01T14:01:51.868Z"
   },
   {
    "duration": 301,
    "start_time": "2022-09-01T14:01:51.986Z"
   },
   {
    "duration": 346,
    "start_time": "2022-09-01T14:01:52.289Z"
   },
   {
    "duration": 26,
    "start_time": "2022-09-01T14:01:52.636Z"
   },
   {
    "duration": 69,
    "start_time": "2022-09-01T14:01:52.664Z"
   },
   {
    "duration": 273,
    "start_time": "2022-09-01T14:01:52.734Z"
   },
   {
    "duration": 154,
    "start_time": "2022-09-01T14:01:53.009Z"
   },
   {
    "duration": 477,
    "start_time": "2022-09-01T14:01:53.166Z"
   },
   {
    "duration": 284,
    "start_time": "2022-09-01T14:01:53.645Z"
   },
   {
    "duration": 25,
    "start_time": "2022-09-01T14:01:53.930Z"
   },
   {
    "duration": 8,
    "start_time": "2022-09-01T14:01:53.956Z"
   },
   {
    "duration": 223,
    "start_time": "2022-09-01T14:01:53.965Z"
   },
   {
    "duration": 20,
    "start_time": "2022-09-01T14:01:54.190Z"
   },
   {
    "duration": 7,
    "start_time": "2022-09-01T14:01:54.212Z"
   },
   {
    "duration": 76,
    "start_time": "2022-09-01T14:01:54.220Z"
   },
   {
    "duration": 3884,
    "start_time": "2022-09-01T14:01:54.298Z"
   },
   {
    "duration": 81,
    "start_time": "2022-09-01T14:01:58.185Z"
   },
   {
    "duration": 200,
    "start_time": "2022-09-01T14:01:58.268Z"
   },
   {
    "duration": 33,
    "start_time": "2022-09-01T14:01:58.469Z"
   },
   {
    "duration": 4,
    "start_time": "2022-09-01T14:01:58.504Z"
   },
   {
    "duration": 7,
    "start_time": "2022-09-01T14:01:58.510Z"
   },
   {
    "duration": 15,
    "start_time": "2022-09-01T14:01:58.519Z"
   },
   {
    "duration": 72,
    "start_time": "2022-09-01T14:01:58.535Z"
   },
   {
    "duration": 89,
    "start_time": "2022-09-01T14:01:58.609Z"
   },
   {
    "duration": 3,
    "start_time": "2022-09-01T14:01:58.699Z"
   },
   {
    "duration": 15,
    "start_time": "2022-09-01T14:01:58.703Z"
   },
   {
    "duration": 3175,
    "start_time": "2022-09-01T14:01:58.719Z"
   },
   {
    "duration": 14,
    "start_time": "2022-09-01T14:02:14.595Z"
   },
   {
    "duration": 4,
    "start_time": "2022-09-01T14:02:21.765Z"
   },
   {
    "duration": 4,
    "start_time": "2022-09-01T14:02:44.819Z"
   },
   {
    "duration": 1445,
    "start_time": "2022-09-01T14:04:24.605Z"
   },
   {
    "duration": 876,
    "start_time": "2022-09-01T14:04:26.052Z"
   },
   {
    "duration": 5,
    "start_time": "2022-09-01T14:04:26.930Z"
   },
   {
    "duration": 21,
    "start_time": "2022-09-01T14:04:26.937Z"
   },
   {
    "duration": 145,
    "start_time": "2022-09-01T14:04:26.959Z"
   },
   {
    "duration": 291,
    "start_time": "2022-09-01T14:04:27.105Z"
   },
   {
    "duration": 99,
    "start_time": "2022-09-01T14:04:27.398Z"
   },
   {
    "duration": 330,
    "start_time": "2022-09-01T14:04:27.498Z"
   },
   {
    "duration": 328,
    "start_time": "2022-09-01T14:04:27.830Z"
   },
   {
    "duration": 30,
    "start_time": "2022-09-01T14:04:28.161Z"
   },
   {
    "duration": 67,
    "start_time": "2022-09-01T14:04:28.192Z"
   },
   {
    "duration": 269,
    "start_time": "2022-09-01T14:04:28.261Z"
   },
   {
    "duration": 153,
    "start_time": "2022-09-01T14:04:28.532Z"
   },
   {
    "duration": 439,
    "start_time": "2022-09-01T14:04:28.687Z"
   },
   {
    "duration": 278,
    "start_time": "2022-09-01T14:04:29.127Z"
   },
   {
    "duration": 25,
    "start_time": "2022-09-01T14:04:29.408Z"
   },
   {
    "duration": 9,
    "start_time": "2022-09-01T14:04:29.434Z"
   },
   {
    "duration": 174,
    "start_time": "2022-09-01T14:04:29.445Z"
   },
   {
    "duration": 23,
    "start_time": "2022-09-01T14:04:29.621Z"
   },
   {
    "duration": 6,
    "start_time": "2022-09-01T14:04:29.646Z"
   },
   {
    "duration": 84,
    "start_time": "2022-09-01T14:04:29.653Z"
   },
   {
    "duration": 3675,
    "start_time": "2022-09-01T14:04:29.739Z"
   },
   {
    "duration": 77,
    "start_time": "2022-09-01T14:04:33.416Z"
   },
   {
    "duration": 197,
    "start_time": "2022-09-01T14:04:33.494Z"
   },
   {
    "duration": 21,
    "start_time": "2022-09-01T14:04:33.693Z"
   },
   {
    "duration": 4,
    "start_time": "2022-09-01T14:04:33.716Z"
   },
   {
    "duration": 5,
    "start_time": "2022-09-01T14:04:33.722Z"
   },
   {
    "duration": 12,
    "start_time": "2022-09-01T14:04:33.730Z"
   },
   {
    "duration": 90,
    "start_time": "2022-09-01T14:04:33.743Z"
   },
   {
    "duration": 93,
    "start_time": "2022-09-01T14:04:33.835Z"
   },
   {
    "duration": 3,
    "start_time": "2022-09-01T14:04:33.930Z"
   },
   {
    "duration": 23,
    "start_time": "2022-09-01T14:04:33.934Z"
   },
   {
    "duration": 3553,
    "start_time": "2022-09-01T14:04:33.959Z"
   },
   {
    "duration": 1343,
    "start_time": "2022-09-01T14:04:56.201Z"
   },
   {
    "duration": 0,
    "start_time": "2022-09-01T14:04:57.549Z"
   },
   {
    "duration": 0,
    "start_time": "2022-09-01T14:04:57.550Z"
   },
   {
    "duration": 0,
    "start_time": "2022-09-01T14:04:57.552Z"
   },
   {
    "duration": 0,
    "start_time": "2022-09-01T14:04:57.553Z"
   },
   {
    "duration": 0,
    "start_time": "2022-09-01T14:04:57.555Z"
   },
   {
    "duration": 0,
    "start_time": "2022-09-01T14:04:57.557Z"
   },
   {
    "duration": 0,
    "start_time": "2022-09-01T14:04:57.558Z"
   },
   {
    "duration": 0,
    "start_time": "2022-09-01T14:04:57.560Z"
   },
   {
    "duration": 0,
    "start_time": "2022-09-01T14:04:57.561Z"
   },
   {
    "duration": 0,
    "start_time": "2022-09-01T14:04:57.562Z"
   },
   {
    "duration": 0,
    "start_time": "2022-09-01T14:04:57.563Z"
   },
   {
    "duration": 0,
    "start_time": "2022-09-01T14:04:57.564Z"
   },
   {
    "duration": 0,
    "start_time": "2022-09-01T14:04:57.587Z"
   },
   {
    "duration": 0,
    "start_time": "2022-09-01T14:04:57.589Z"
   },
   {
    "duration": 0,
    "start_time": "2022-09-01T14:04:57.590Z"
   },
   {
    "duration": 0,
    "start_time": "2022-09-01T14:04:57.591Z"
   },
   {
    "duration": 0,
    "start_time": "2022-09-01T14:04:57.593Z"
   },
   {
    "duration": 0,
    "start_time": "2022-09-01T14:04:57.594Z"
   },
   {
    "duration": 0,
    "start_time": "2022-09-01T14:04:57.596Z"
   },
   {
    "duration": 0,
    "start_time": "2022-09-01T14:04:57.597Z"
   },
   {
    "duration": 0,
    "start_time": "2022-09-01T14:04:57.599Z"
   },
   {
    "duration": 0,
    "start_time": "2022-09-01T14:04:57.600Z"
   },
   {
    "duration": 0,
    "start_time": "2022-09-01T14:04:57.602Z"
   },
   {
    "duration": 0,
    "start_time": "2022-09-01T14:04:57.604Z"
   },
   {
    "duration": 0,
    "start_time": "2022-09-01T14:04:57.606Z"
   },
   {
    "duration": 0,
    "start_time": "2022-09-01T14:04:57.607Z"
   },
   {
    "duration": 0,
    "start_time": "2022-09-01T14:04:57.609Z"
   },
   {
    "duration": 0,
    "start_time": "2022-09-01T14:04:57.610Z"
   },
   {
    "duration": 0,
    "start_time": "2022-09-01T14:04:57.611Z"
   },
   {
    "duration": 0,
    "start_time": "2022-09-01T14:04:57.613Z"
   },
   {
    "duration": 0,
    "start_time": "2022-09-01T14:04:57.614Z"
   },
   {
    "duration": 0,
    "start_time": "2022-09-01T14:04:57.617Z"
   },
   {
    "duration": 1459,
    "start_time": "2022-09-01T14:05:03.420Z"
   },
   {
    "duration": 818,
    "start_time": "2022-09-01T14:05:04.881Z"
   },
   {
    "duration": 5,
    "start_time": "2022-09-01T14:05:05.700Z"
   },
   {
    "duration": 19,
    "start_time": "2022-09-01T14:05:05.707Z"
   },
   {
    "duration": 145,
    "start_time": "2022-09-01T14:05:05.728Z"
   },
   {
    "duration": 337,
    "start_time": "2022-09-01T14:05:05.874Z"
   },
   {
    "duration": 125,
    "start_time": "2022-09-01T14:05:06.213Z"
   },
   {
    "duration": 364,
    "start_time": "2022-09-01T14:05:06.339Z"
   },
   {
    "duration": 323,
    "start_time": "2022-09-01T14:05:06.704Z"
   },
   {
    "duration": 23,
    "start_time": "2022-09-01T14:05:07.029Z"
   },
   {
    "duration": 85,
    "start_time": "2022-09-01T14:05:07.054Z"
   },
   {
    "duration": 265,
    "start_time": "2022-09-01T14:05:07.142Z"
   },
   {
    "duration": 148,
    "start_time": "2022-09-01T14:05:07.410Z"
   },
   {
    "duration": 466,
    "start_time": "2022-09-01T14:05:07.562Z"
   },
   {
    "duration": 287,
    "start_time": "2022-09-01T14:05:08.030Z"
   },
   {
    "duration": 26,
    "start_time": "2022-09-01T14:05:08.319Z"
   },
   {
    "duration": 8,
    "start_time": "2022-09-01T14:05:08.346Z"
   },
   {
    "duration": 181,
    "start_time": "2022-09-01T14:05:08.356Z"
   },
   {
    "duration": 25,
    "start_time": "2022-09-01T14:05:08.539Z"
   },
   {
    "duration": 23,
    "start_time": "2022-09-01T14:05:08.565Z"
   },
   {
    "duration": 62,
    "start_time": "2022-09-01T14:05:08.590Z"
   },
   {
    "duration": 3861,
    "start_time": "2022-09-01T14:05:08.653Z"
   },
   {
    "duration": 75,
    "start_time": "2022-09-01T14:05:12.516Z"
   },
   {
    "duration": 209,
    "start_time": "2022-09-01T14:05:12.593Z"
   },
   {
    "duration": 21,
    "start_time": "2022-09-01T14:05:12.804Z"
   },
   {
    "duration": 4,
    "start_time": "2022-09-01T14:05:12.827Z"
   },
   {
    "duration": 7,
    "start_time": "2022-09-01T14:05:12.833Z"
   },
   {
    "duration": 18,
    "start_time": "2022-09-01T14:05:12.842Z"
   },
   {
    "duration": 85,
    "start_time": "2022-09-01T14:05:12.862Z"
   },
   {
    "duration": 94,
    "start_time": "2022-09-01T14:05:12.949Z"
   },
   {
    "duration": 3,
    "start_time": "2022-09-01T14:05:13.045Z"
   },
   {
    "duration": 26,
    "start_time": "2022-09-01T14:05:13.049Z"
   },
   {
    "duration": 3441,
    "start_time": "2022-09-01T14:05:13.077Z"
   },
   {
    "duration": 13,
    "start_time": "2022-09-01T14:05:55.468Z"
   },
   {
    "duration": 4,
    "start_time": "2022-09-01T14:06:03.250Z"
   },
   {
    "duration": 718,
    "start_time": "2022-09-01T14:13:11.766Z"
   },
   {
    "duration": 4,
    "start_time": "2022-09-01T14:15:09.868Z"
   },
   {
    "duration": 1585,
    "start_time": "2022-09-01T14:17:22.771Z"
   },
   {
    "duration": 827,
    "start_time": "2022-09-01T14:17:24.358Z"
   },
   {
    "duration": 5,
    "start_time": "2022-09-01T14:17:25.186Z"
   },
   {
    "duration": 15,
    "start_time": "2022-09-01T14:17:25.194Z"
   },
   {
    "duration": 156,
    "start_time": "2022-09-01T14:17:25.211Z"
   },
   {
    "duration": 310,
    "start_time": "2022-09-01T14:17:25.369Z"
   },
   {
    "duration": 106,
    "start_time": "2022-09-01T14:17:25.681Z"
   },
   {
    "duration": 303,
    "start_time": "2022-09-01T14:17:25.789Z"
   },
   {
    "duration": 372,
    "start_time": "2022-09-01T14:17:26.094Z"
   },
   {
    "duration": 29,
    "start_time": "2022-09-01T14:17:26.469Z"
   },
   {
    "duration": 68,
    "start_time": "2022-09-01T14:17:26.500Z"
   },
   {
    "duration": 278,
    "start_time": "2022-09-01T14:17:26.570Z"
   },
   {
    "duration": 151,
    "start_time": "2022-09-01T14:17:26.850Z"
   },
   {
    "duration": 423,
    "start_time": "2022-09-01T14:17:27.003Z"
   },
   {
    "duration": 279,
    "start_time": "2022-09-01T14:17:27.428Z"
   },
   {
    "duration": 24,
    "start_time": "2022-09-01T14:17:27.708Z"
   },
   {
    "duration": 7,
    "start_time": "2022-09-01T14:17:27.734Z"
   },
   {
    "duration": 169,
    "start_time": "2022-09-01T14:17:27.742Z"
   },
   {
    "duration": 23,
    "start_time": "2022-09-01T14:17:27.912Z"
   },
   {
    "duration": 5,
    "start_time": "2022-09-01T14:17:27.937Z"
   },
   {
    "duration": 80,
    "start_time": "2022-09-01T14:17:27.943Z"
   },
   {
    "duration": 3653,
    "start_time": "2022-09-01T14:17:28.025Z"
   },
   {
    "duration": 77,
    "start_time": "2022-09-01T14:17:31.680Z"
   },
   {
    "duration": 204,
    "start_time": "2022-09-01T14:17:31.759Z"
   },
   {
    "duration": 26,
    "start_time": "2022-09-01T14:17:31.965Z"
   },
   {
    "duration": 5,
    "start_time": "2022-09-01T14:17:31.993Z"
   },
   {
    "duration": 8,
    "start_time": "2022-09-01T14:17:31.999Z"
   },
   {
    "duration": 22,
    "start_time": "2022-09-01T14:17:32.011Z"
   },
   {
    "duration": 76,
    "start_time": "2022-09-01T14:17:32.035Z"
   },
   {
    "duration": 94,
    "start_time": "2022-09-01T14:17:32.113Z"
   },
   {
    "duration": 2,
    "start_time": "2022-09-01T14:17:32.209Z"
   },
   {
    "duration": 16,
    "start_time": "2022-09-01T14:17:32.213Z"
   },
   {
    "duration": 3229,
    "start_time": "2022-09-01T14:17:32.230Z"
   },
   {
    "duration": 1515,
    "start_time": "2022-09-01T14:17:35.460Z"
   },
   {
    "duration": 73,
    "start_time": "2022-09-01T14:18:53.817Z"
   },
   {
    "duration": 372,
    "start_time": "2022-09-01T14:18:57.250Z"
   },
   {
    "duration": 228,
    "start_time": "2022-09-01T14:19:03.429Z"
   },
   {
    "duration": 1045,
    "start_time": "2022-09-01T14:19:09.110Z"
   },
   {
    "duration": 747,
    "start_time": "2022-09-01T14:19:16.109Z"
   },
   {
    "duration": 240,
    "start_time": "2022-09-01T14:19:20.949Z"
   },
   {
    "duration": 1561,
    "start_time": "2022-09-01T14:19:39.392Z"
   },
   {
    "duration": 815,
    "start_time": "2022-09-01T14:19:40.955Z"
   },
   {
    "duration": 6,
    "start_time": "2022-09-01T14:19:41.772Z"
   },
   {
    "duration": 15,
    "start_time": "2022-09-01T14:19:41.786Z"
   },
   {
    "duration": 156,
    "start_time": "2022-09-01T14:19:41.804Z"
   },
   {
    "duration": 309,
    "start_time": "2022-09-01T14:19:41.962Z"
   },
   {
    "duration": 100,
    "start_time": "2022-09-01T14:19:42.272Z"
   },
   {
    "duration": 283,
    "start_time": "2022-09-01T14:19:42.374Z"
   },
   {
    "duration": 301,
    "start_time": "2022-09-01T14:19:42.659Z"
   },
   {
    "duration": 31,
    "start_time": "2022-09-01T14:19:42.962Z"
   },
   {
    "duration": 66,
    "start_time": "2022-09-01T14:19:42.995Z"
   },
   {
    "duration": 258,
    "start_time": "2022-09-01T14:19:43.063Z"
   },
   {
    "duration": 151,
    "start_time": "2022-09-01T14:19:43.323Z"
   },
   {
    "duration": 460,
    "start_time": "2022-09-01T14:19:43.477Z"
   },
   {
    "duration": 280,
    "start_time": "2022-09-01T14:19:43.939Z"
   },
   {
    "duration": 24,
    "start_time": "2022-09-01T14:19:44.221Z"
   },
   {
    "duration": 7,
    "start_time": "2022-09-01T14:19:44.247Z"
   },
   {
    "duration": 166,
    "start_time": "2022-09-01T14:19:44.256Z"
   },
   {
    "duration": 23,
    "start_time": "2022-09-01T14:19:44.424Z"
   },
   {
    "duration": 5,
    "start_time": "2022-09-01T14:19:44.448Z"
   },
   {
    "duration": 74,
    "start_time": "2022-09-01T14:19:44.455Z"
   },
   {
    "duration": 3911,
    "start_time": "2022-09-01T14:19:44.531Z"
   },
   {
    "duration": 81,
    "start_time": "2022-09-01T14:19:48.444Z"
   },
   {
    "duration": 197,
    "start_time": "2022-09-01T14:19:48.526Z"
   },
   {
    "duration": 22,
    "start_time": "2022-09-01T14:19:48.725Z"
   },
   {
    "duration": 4,
    "start_time": "2022-09-01T14:19:48.749Z"
   },
   {
    "duration": 14,
    "start_time": "2022-09-01T14:19:48.755Z"
   },
   {
    "duration": 21,
    "start_time": "2022-09-01T14:19:48.771Z"
   },
   {
    "duration": 65,
    "start_time": "2022-09-01T14:19:48.794Z"
   },
   {
    "duration": 98,
    "start_time": "2022-09-01T14:19:48.861Z"
   },
   {
    "duration": 3,
    "start_time": "2022-09-01T14:19:48.961Z"
   },
   {
    "duration": 26,
    "start_time": "2022-09-01T14:19:48.965Z"
   },
   {
    "duration": 4035,
    "start_time": "2022-09-01T14:19:48.993Z"
   },
   {
    "duration": 1437,
    "start_time": "2022-09-01T14:19:53.029Z"
   },
   {
    "duration": 4,
    "start_time": "2022-09-01T14:21:07.310Z"
   },
   {
    "duration": 5,
    "start_time": "2022-09-01T14:26:12.422Z"
   },
   {
    "duration": 4,
    "start_time": "2022-09-01T14:33:27.926Z"
   },
   {
    "duration": 4,
    "start_time": "2022-09-01T14:33:36.761Z"
   },
   {
    "duration": 1572,
    "start_time": "2022-09-01T14:34:39.192Z"
   },
   {
    "duration": 4,
    "start_time": "2022-09-01T14:34:48.289Z"
   },
   {
    "duration": 4,
    "start_time": "2022-09-01T14:34:49.148Z"
   },
   {
    "duration": 1489,
    "start_time": "2022-09-01T14:35:08.974Z"
   },
   {
    "duration": 803,
    "start_time": "2022-09-01T14:35:10.465Z"
   },
   {
    "duration": 5,
    "start_time": "2022-09-01T14:35:11.270Z"
   },
   {
    "duration": 21,
    "start_time": "2022-09-01T14:35:11.276Z"
   },
   {
    "duration": 142,
    "start_time": "2022-09-01T14:35:11.299Z"
   },
   {
    "duration": 319,
    "start_time": "2022-09-01T14:35:11.442Z"
   },
   {
    "duration": 97,
    "start_time": "2022-09-01T14:35:11.762Z"
   },
   {
    "duration": 289,
    "start_time": "2022-09-01T14:35:11.861Z"
   },
   {
    "duration": 303,
    "start_time": "2022-09-01T14:35:12.151Z"
   },
   {
    "duration": 32,
    "start_time": "2022-09-01T14:35:12.456Z"
   },
   {
    "duration": 53,
    "start_time": "2022-09-01T14:35:12.490Z"
   },
   {
    "duration": 261,
    "start_time": "2022-09-01T14:35:12.545Z"
   },
   {
    "duration": 142,
    "start_time": "2022-09-01T14:35:12.808Z"
   },
   {
    "duration": 484,
    "start_time": "2022-09-01T14:35:12.953Z"
   },
   {
    "duration": 279,
    "start_time": "2022-09-01T14:35:13.439Z"
   },
   {
    "duration": 23,
    "start_time": "2022-09-01T14:35:13.720Z"
   },
   {
    "duration": 17,
    "start_time": "2022-09-01T14:35:13.745Z"
   },
   {
    "duration": 165,
    "start_time": "2022-09-01T14:35:13.764Z"
   },
   {
    "duration": 20,
    "start_time": "2022-09-01T14:35:13.930Z"
   },
   {
    "duration": 5,
    "start_time": "2022-09-01T14:35:13.952Z"
   },
   {
    "duration": 82,
    "start_time": "2022-09-01T14:35:13.959Z"
   },
   {
    "duration": 3839,
    "start_time": "2022-09-01T14:35:14.043Z"
   },
   {
    "duration": 79,
    "start_time": "2022-09-01T14:35:17.884Z"
   },
   {
    "duration": 210,
    "start_time": "2022-09-01T14:35:17.964Z"
   },
   {
    "duration": 25,
    "start_time": "2022-09-01T14:35:18.176Z"
   },
   {
    "duration": 4,
    "start_time": "2022-09-01T14:35:18.203Z"
   },
   {
    "duration": 10,
    "start_time": "2022-09-01T14:35:18.208Z"
   },
   {
    "duration": 20,
    "start_time": "2022-09-01T14:35:18.220Z"
   },
   {
    "duration": 70,
    "start_time": "2022-09-01T14:35:18.241Z"
   },
   {
    "duration": 89,
    "start_time": "2022-09-01T14:35:18.313Z"
   },
   {
    "duration": 3,
    "start_time": "2022-09-01T14:35:18.403Z"
   },
   {
    "duration": 15,
    "start_time": "2022-09-01T14:35:18.407Z"
   },
   {
    "duration": 3686,
    "start_time": "2022-09-01T14:35:18.424Z"
   },
   {
    "duration": 1405,
    "start_time": "2022-09-01T14:35:22.112Z"
   },
   {
    "duration": 1539,
    "start_time": "2022-09-01T14:35:23.519Z"
   },
   {
    "duration": 4,
    "start_time": "2022-09-01T14:35:25.059Z"
   },
   {
    "duration": 7,
    "start_time": "2022-09-01T14:35:25.065Z"
   },
   {
    "duration": 1440,
    "start_time": "2022-09-01T14:35:40.527Z"
   },
   {
    "duration": 757,
    "start_time": "2022-09-01T14:35:41.969Z"
   },
   {
    "duration": 5,
    "start_time": "2022-09-01T14:35:42.728Z"
   },
   {
    "duration": 17,
    "start_time": "2022-09-01T14:35:42.734Z"
   },
   {
    "duration": 147,
    "start_time": "2022-09-01T14:35:42.753Z"
   },
   {
    "duration": 281,
    "start_time": "2022-09-01T14:35:42.902Z"
   },
   {
    "duration": 90,
    "start_time": "2022-09-01T14:35:43.185Z"
   },
   {
    "duration": 287,
    "start_time": "2022-09-01T14:35:43.277Z"
   },
   {
    "duration": 304,
    "start_time": "2022-09-01T14:35:43.565Z"
   },
   {
    "duration": 33,
    "start_time": "2022-09-01T14:35:43.871Z"
   },
   {
    "duration": 56,
    "start_time": "2022-09-01T14:35:43.906Z"
   },
   {
    "duration": 261,
    "start_time": "2022-09-01T14:35:43.964Z"
   },
   {
    "duration": 139,
    "start_time": "2022-09-01T14:35:44.226Z"
   },
   {
    "duration": 446,
    "start_time": "2022-09-01T14:35:44.367Z"
   },
   {
    "duration": 269,
    "start_time": "2022-09-01T14:35:44.815Z"
   },
   {
    "duration": 26,
    "start_time": "2022-09-01T14:35:45.085Z"
   },
   {
    "duration": 8,
    "start_time": "2022-09-01T14:35:45.112Z"
   },
   {
    "duration": 174,
    "start_time": "2022-09-01T14:35:45.121Z"
   },
   {
    "duration": 20,
    "start_time": "2022-09-01T14:35:45.296Z"
   },
   {
    "duration": 5,
    "start_time": "2022-09-01T14:35:45.317Z"
   },
   {
    "duration": 80,
    "start_time": "2022-09-01T14:35:45.324Z"
   },
   {
    "duration": 3789,
    "start_time": "2022-09-01T14:35:45.405Z"
   },
   {
    "duration": 76,
    "start_time": "2022-09-01T14:35:49.196Z"
   },
   {
    "duration": 191,
    "start_time": "2022-09-01T14:35:49.273Z"
   },
   {
    "duration": 30,
    "start_time": "2022-09-01T14:35:49.465Z"
   },
   {
    "duration": 4,
    "start_time": "2022-09-01T14:35:49.496Z"
   },
   {
    "duration": 6,
    "start_time": "2022-09-01T14:35:49.501Z"
   },
   {
    "duration": 12,
    "start_time": "2022-09-01T14:35:49.509Z"
   },
   {
    "duration": 79,
    "start_time": "2022-09-01T14:35:49.523Z"
   },
   {
    "duration": 83,
    "start_time": "2022-09-01T14:35:49.603Z"
   },
   {
    "duration": 3,
    "start_time": "2022-09-01T14:35:49.688Z"
   },
   {
    "duration": 15,
    "start_time": "2022-09-01T14:35:49.692Z"
   },
   {
    "duration": 3718,
    "start_time": "2022-09-01T14:35:49.708Z"
   },
   {
    "duration": 1347,
    "start_time": "2022-09-01T14:36:20.130Z"
   },
   {
    "duration": 834,
    "start_time": "2022-09-01T14:36:21.480Z"
   },
   {
    "duration": 5,
    "start_time": "2022-09-01T14:36:22.315Z"
   },
   {
    "duration": 22,
    "start_time": "2022-09-01T14:36:22.322Z"
   },
   {
    "duration": 134,
    "start_time": "2022-09-01T14:36:22.347Z"
   },
   {
    "duration": 289,
    "start_time": "2022-09-01T14:36:22.483Z"
   },
   {
    "duration": 106,
    "start_time": "2022-09-01T14:36:22.774Z"
   },
   {
    "duration": 298,
    "start_time": "2022-09-01T14:36:22.882Z"
   },
   {
    "duration": 326,
    "start_time": "2022-09-01T14:36:23.186Z"
   },
   {
    "duration": 27,
    "start_time": "2022-09-01T14:36:23.514Z"
   },
   {
    "duration": 66,
    "start_time": "2022-09-01T14:36:23.542Z"
   },
   {
    "duration": 267,
    "start_time": "2022-09-01T14:36:23.609Z"
   },
   {
    "duration": 148,
    "start_time": "2022-09-01T14:36:23.878Z"
   },
   {
    "duration": 445,
    "start_time": "2022-09-01T14:36:24.029Z"
   },
   {
    "duration": 266,
    "start_time": "2022-09-01T14:36:24.475Z"
   },
   {
    "duration": 24,
    "start_time": "2022-09-01T14:36:24.743Z"
   },
   {
    "duration": 18,
    "start_time": "2022-09-01T14:36:24.769Z"
   },
   {
    "duration": 157,
    "start_time": "2022-09-01T14:36:24.789Z"
   },
   {
    "duration": 20,
    "start_time": "2022-09-01T14:36:24.947Z"
   },
   {
    "duration": 6,
    "start_time": "2022-09-01T14:36:24.968Z"
   },
   {
    "duration": 70,
    "start_time": "2022-09-01T14:36:24.986Z"
   },
   {
    "duration": 3853,
    "start_time": "2022-09-01T14:36:25.057Z"
   },
   {
    "duration": 77,
    "start_time": "2022-09-01T14:36:28.912Z"
   },
   {
    "duration": 198,
    "start_time": "2022-09-01T14:36:28.991Z"
   },
   {
    "duration": 21,
    "start_time": "2022-09-01T14:36:29.190Z"
   },
   {
    "duration": 4,
    "start_time": "2022-09-01T14:36:29.213Z"
   },
   {
    "duration": 14,
    "start_time": "2022-09-01T14:36:29.218Z"
   },
   {
    "duration": 41,
    "start_time": "2022-09-01T14:36:29.233Z"
   },
   {
    "duration": 78,
    "start_time": "2022-09-01T14:36:29.275Z"
   },
   {
    "duration": 86,
    "start_time": "2022-09-01T14:36:29.355Z"
   },
   {
    "duration": 3,
    "start_time": "2022-09-01T14:36:29.442Z"
   },
   {
    "duration": 25,
    "start_time": "2022-09-01T14:36:29.446Z"
   },
   {
    "duration": 3630,
    "start_time": "2022-09-01T14:36:29.473Z"
   },
   {
    "duration": 1436,
    "start_time": "2022-09-01T14:36:33.104Z"
   },
   {
    "duration": 1575,
    "start_time": "2022-09-01T14:36:34.542Z"
   },
   {
    "duration": 4,
    "start_time": "2022-09-01T14:36:36.119Z"
   },
   {
    "duration": 24,
    "start_time": "2022-09-01T14:36:36.124Z"
   },
   {
    "duration": 62,
    "start_time": "2022-09-01T14:37:26.849Z"
   },
   {
    "duration": 1329,
    "start_time": "2022-09-01T14:40:34.847Z"
   },
   {
    "duration": 865,
    "start_time": "2022-09-01T14:40:36.178Z"
   },
   {
    "duration": 6,
    "start_time": "2022-09-01T14:40:37.044Z"
   },
   {
    "duration": 18,
    "start_time": "2022-09-01T14:40:37.051Z"
   },
   {
    "duration": 148,
    "start_time": "2022-09-01T14:40:37.071Z"
   },
   {
    "duration": 299,
    "start_time": "2022-09-01T14:40:37.221Z"
   },
   {
    "duration": 113,
    "start_time": "2022-09-01T14:40:37.522Z"
   },
   {
    "duration": 288,
    "start_time": "2022-09-01T14:40:37.637Z"
   },
   {
    "duration": 309,
    "start_time": "2022-09-01T14:40:37.927Z"
   },
   {
    "duration": 23,
    "start_time": "2022-09-01T14:40:38.238Z"
   },
   {
    "duration": 81,
    "start_time": "2022-09-01T14:40:38.262Z"
   },
   {
    "duration": 260,
    "start_time": "2022-09-01T14:40:38.345Z"
   },
   {
    "duration": 146,
    "start_time": "2022-09-01T14:40:38.607Z"
   },
   {
    "duration": 460,
    "start_time": "2022-09-01T14:40:38.757Z"
   },
   {
    "duration": 276,
    "start_time": "2022-09-01T14:40:39.219Z"
   },
   {
    "duration": 26,
    "start_time": "2022-09-01T14:40:39.497Z"
   },
   {
    "duration": 8,
    "start_time": "2022-09-01T14:40:39.524Z"
   },
   {
    "duration": 172,
    "start_time": "2022-09-01T14:40:39.534Z"
   },
   {
    "duration": 23,
    "start_time": "2022-09-01T14:40:39.708Z"
   },
   {
    "duration": 7,
    "start_time": "2022-09-01T14:40:39.733Z"
   },
   {
    "duration": 82,
    "start_time": "2022-09-01T14:40:39.742Z"
   },
   {
    "duration": 3787,
    "start_time": "2022-09-01T14:40:39.827Z"
   },
   {
    "duration": 76,
    "start_time": "2022-09-01T14:40:43.616Z"
   },
   {
    "duration": 196,
    "start_time": "2022-09-01T14:40:43.694Z"
   },
   {
    "duration": 20,
    "start_time": "2022-09-01T14:40:43.892Z"
   },
   {
    "duration": 4,
    "start_time": "2022-09-01T14:40:43.914Z"
   },
   {
    "duration": 7,
    "start_time": "2022-09-01T14:40:43.920Z"
   },
   {
    "duration": 14,
    "start_time": "2022-09-01T14:40:43.929Z"
   },
   {
    "duration": 87,
    "start_time": "2022-09-01T14:40:43.945Z"
   },
   {
    "duration": 103,
    "start_time": "2022-09-01T14:40:44.034Z"
   },
   {
    "duration": 3,
    "start_time": "2022-09-01T14:40:44.139Z"
   },
   {
    "duration": 15,
    "start_time": "2022-09-01T14:40:44.144Z"
   },
   {
    "duration": 3490,
    "start_time": "2022-09-01T14:40:44.161Z"
   },
   {
    "duration": 1422,
    "start_time": "2022-09-01T14:40:47.653Z"
   },
   {
    "duration": 1594,
    "start_time": "2022-09-01T14:40:49.076Z"
   },
   {
    "duration": 82,
    "start_time": "2022-09-01T14:40:50.672Z"
   },
   {
    "duration": 3,
    "start_time": "2022-09-01T14:40:50.756Z"
   },
   {
    "duration": 1499,
    "start_time": "2022-09-01T14:42:22.986Z"
   },
   {
    "duration": 787,
    "start_time": "2022-09-01T14:42:24.487Z"
   },
   {
    "duration": 10,
    "start_time": "2022-09-01T14:42:25.276Z"
   },
   {
    "duration": 15,
    "start_time": "2022-09-01T14:42:25.288Z"
   },
   {
    "duration": 157,
    "start_time": "2022-09-01T14:42:25.305Z"
   },
   {
    "duration": 303,
    "start_time": "2022-09-01T14:42:25.463Z"
   },
   {
    "duration": 105,
    "start_time": "2022-09-01T14:42:25.768Z"
   },
   {
    "duration": 290,
    "start_time": "2022-09-01T14:42:25.875Z"
   },
   {
    "duration": 373,
    "start_time": "2022-09-01T14:42:26.167Z"
   },
   {
    "duration": 22,
    "start_time": "2022-09-01T14:42:26.541Z"
   },
   {
    "duration": 78,
    "start_time": "2022-09-01T14:42:26.564Z"
   },
   {
    "duration": 252,
    "start_time": "2022-09-01T14:42:26.644Z"
   },
   {
    "duration": 141,
    "start_time": "2022-09-01T14:42:26.898Z"
   },
   {
    "duration": 449,
    "start_time": "2022-09-01T14:42:27.042Z"
   },
   {
    "duration": 278,
    "start_time": "2022-09-01T14:42:27.493Z"
   },
   {
    "duration": 33,
    "start_time": "2022-09-01T14:42:27.773Z"
   },
   {
    "duration": 7,
    "start_time": "2022-09-01T14:42:27.808Z"
   },
   {
    "duration": 155,
    "start_time": "2022-09-01T14:42:27.817Z"
   },
   {
    "duration": 32,
    "start_time": "2022-09-01T14:42:27.974Z"
   },
   {
    "duration": 6,
    "start_time": "2022-09-01T14:42:28.008Z"
   },
   {
    "duration": 72,
    "start_time": "2022-09-01T14:42:28.015Z"
   },
   {
    "duration": 3685,
    "start_time": "2022-09-01T14:42:28.089Z"
   },
   {
    "duration": 79,
    "start_time": "2022-09-01T14:42:31.776Z"
   },
   {
    "duration": 205,
    "start_time": "2022-09-01T14:42:31.857Z"
   },
   {
    "duration": 30,
    "start_time": "2022-09-01T14:42:32.063Z"
   },
   {
    "duration": 4,
    "start_time": "2022-09-01T14:42:32.095Z"
   },
   {
    "duration": 13,
    "start_time": "2022-09-01T14:42:32.100Z"
   },
   {
    "duration": 19,
    "start_time": "2022-09-01T14:42:32.115Z"
   },
   {
    "duration": 72,
    "start_time": "2022-09-01T14:42:32.136Z"
   },
   {
    "duration": 89,
    "start_time": "2022-09-01T14:42:32.209Z"
   },
   {
    "duration": 3,
    "start_time": "2022-09-01T14:42:32.300Z"
   },
   {
    "duration": 16,
    "start_time": "2022-09-01T14:42:32.304Z"
   },
   {
    "duration": 3559,
    "start_time": "2022-09-01T14:42:32.321Z"
   },
   {
    "duration": 1449,
    "start_time": "2022-09-01T14:42:35.882Z"
   },
   {
    "duration": 1570,
    "start_time": "2022-09-01T14:42:37.333Z"
   },
   {
    "duration": 74,
    "start_time": "2022-09-01T14:42:38.905Z"
   },
   {
    "duration": 3,
    "start_time": "2022-09-01T14:42:38.986Z"
   },
   {
    "duration": 1498,
    "start_time": "2022-09-01T14:43:18.396Z"
   },
   {
    "duration": 822,
    "start_time": "2022-09-01T14:43:19.896Z"
   },
   {
    "duration": 6,
    "start_time": "2022-09-01T14:43:20.719Z"
   },
   {
    "duration": 20,
    "start_time": "2022-09-01T14:43:20.726Z"
   },
   {
    "duration": 150,
    "start_time": "2022-09-01T14:43:20.749Z"
   },
   {
    "duration": 308,
    "start_time": "2022-09-01T14:43:20.901Z"
   },
   {
    "duration": 104,
    "start_time": "2022-09-01T14:43:21.211Z"
   },
   {
    "duration": 293,
    "start_time": "2022-09-01T14:43:21.317Z"
   },
   {
    "duration": 322,
    "start_time": "2022-09-01T14:43:21.612Z"
   },
   {
    "duration": 24,
    "start_time": "2022-09-01T14:43:21.936Z"
   },
   {
    "duration": 84,
    "start_time": "2022-09-01T14:43:21.962Z"
   },
   {
    "duration": 268,
    "start_time": "2022-09-01T14:43:22.048Z"
   },
   {
    "duration": 146,
    "start_time": "2022-09-01T14:43:22.318Z"
   },
   {
    "duration": 451,
    "start_time": "2022-09-01T14:43:22.467Z"
   },
   {
    "duration": 280,
    "start_time": "2022-09-01T14:43:22.920Z"
   },
   {
    "duration": 25,
    "start_time": "2022-09-01T14:43:23.202Z"
   },
   {
    "duration": 9,
    "start_time": "2022-09-01T14:43:23.229Z"
   },
   {
    "duration": 167,
    "start_time": "2022-09-01T14:43:23.239Z"
   },
   {
    "duration": 23,
    "start_time": "2022-09-01T14:43:23.408Z"
   },
   {
    "duration": 5,
    "start_time": "2022-09-01T14:43:23.432Z"
   },
   {
    "duration": 78,
    "start_time": "2022-09-01T14:43:23.439Z"
   },
   {
    "duration": 3751,
    "start_time": "2022-09-01T14:43:23.519Z"
   },
   {
    "duration": 75,
    "start_time": "2022-09-01T14:43:27.272Z"
   },
   {
    "duration": 199,
    "start_time": "2022-09-01T14:43:27.349Z"
   },
   {
    "duration": 23,
    "start_time": "2022-09-01T14:43:27.550Z"
   },
   {
    "duration": 13,
    "start_time": "2022-09-01T14:43:27.574Z"
   },
   {
    "duration": 4,
    "start_time": "2022-09-01T14:43:27.588Z"
   },
   {
    "duration": 18,
    "start_time": "2022-09-01T14:43:27.594Z"
   },
   {
    "duration": 84,
    "start_time": "2022-09-01T14:43:27.613Z"
   },
   {
    "duration": 88,
    "start_time": "2022-09-01T14:43:27.699Z"
   },
   {
    "duration": 3,
    "start_time": "2022-09-01T14:43:27.788Z"
   },
   {
    "duration": 21,
    "start_time": "2022-09-01T14:43:27.793Z"
   },
   {
    "duration": 3419,
    "start_time": "2022-09-01T14:43:27.816Z"
   },
   {
    "duration": 1413,
    "start_time": "2022-09-01T14:43:31.236Z"
   },
   {
    "duration": 1785,
    "start_time": "2022-09-01T14:43:32.650Z"
   },
   {
    "duration": 74,
    "start_time": "2022-09-01T14:43:34.437Z"
   },
   {
    "duration": 3,
    "start_time": "2022-09-01T14:43:34.513Z"
   },
   {
    "duration": 3,
    "start_time": "2022-09-01T14:51:47.305Z"
   },
   {
    "duration": 2,
    "start_time": "2022-09-01T14:53:42.268Z"
   },
   {
    "duration": 1450,
    "start_time": "2022-09-01T15:02:41.293Z"
   },
   {
    "duration": 798,
    "start_time": "2022-09-01T15:02:42.745Z"
   },
   {
    "duration": 5,
    "start_time": "2022-09-01T15:02:43.545Z"
   },
   {
    "duration": 16,
    "start_time": "2022-09-01T15:02:43.552Z"
   },
   {
    "duration": 146,
    "start_time": "2022-09-01T15:02:43.571Z"
   },
   {
    "duration": 306,
    "start_time": "2022-09-01T15:02:43.719Z"
   },
   {
    "duration": 101,
    "start_time": "2022-09-01T15:02:44.028Z"
   },
   {
    "duration": 276,
    "start_time": "2022-09-01T15:02:44.131Z"
   },
   {
    "duration": 308,
    "start_time": "2022-09-01T15:02:44.409Z"
   },
   {
    "duration": 21,
    "start_time": "2022-09-01T15:02:44.719Z"
   },
   {
    "duration": 75,
    "start_time": "2022-09-01T15:02:44.742Z"
   },
   {
    "duration": 253,
    "start_time": "2022-09-01T15:02:44.818Z"
   },
   {
    "duration": 146,
    "start_time": "2022-09-01T15:02:45.073Z"
   },
   {
    "duration": 439,
    "start_time": "2022-09-01T15:02:45.222Z"
   },
   {
    "duration": 265,
    "start_time": "2022-09-01T15:02:45.662Z"
   },
   {
    "duration": 25,
    "start_time": "2022-09-01T15:02:45.928Z"
   },
   {
    "duration": 7,
    "start_time": "2022-09-01T15:02:45.955Z"
   },
   {
    "duration": 191,
    "start_time": "2022-09-01T15:02:45.964Z"
   },
   {
    "duration": 31,
    "start_time": "2022-09-01T15:02:46.156Z"
   },
   {
    "duration": 6,
    "start_time": "2022-09-01T15:02:46.188Z"
   },
   {
    "duration": 84,
    "start_time": "2022-09-01T15:02:46.195Z"
   },
   {
    "duration": 3890,
    "start_time": "2022-09-01T15:02:46.288Z"
   },
   {
    "duration": 75,
    "start_time": "2022-09-01T15:02:50.180Z"
   },
   {
    "duration": 192,
    "start_time": "2022-09-01T15:02:50.257Z"
   },
   {
    "duration": 21,
    "start_time": "2022-09-01T15:02:50.450Z"
   },
   {
    "duration": 14,
    "start_time": "2022-09-01T15:02:50.472Z"
   },
   {
    "duration": 4,
    "start_time": "2022-09-01T15:02:50.488Z"
   },
   {
    "duration": 14,
    "start_time": "2022-09-01T15:02:50.493Z"
   },
   {
    "duration": 78,
    "start_time": "2022-09-01T15:02:50.509Z"
   },
   {
    "duration": 85,
    "start_time": "2022-09-01T15:02:50.588Z"
   },
   {
    "duration": 12,
    "start_time": "2022-09-01T15:02:50.675Z"
   },
   {
    "duration": 3423,
    "start_time": "2022-09-01T15:02:50.689Z"
   },
   {
    "duration": 1433,
    "start_time": "2022-09-01T15:02:54.114Z"
   },
   {
    "duration": 1871,
    "start_time": "2022-09-01T15:02:55.549Z"
   },
   {
    "duration": 16,
    "start_time": "2022-09-01T15:02:57.422Z"
   },
   {
    "duration": 2,
    "start_time": "2022-09-01T15:02:57.440Z"
   },
   {
    "duration": 8,
    "start_time": "2022-09-01T15:02:57.444Z"
   },
   {
    "duration": 1469,
    "start_time": "2022-09-01T15:03:25.245Z"
   },
   {
    "duration": 795,
    "start_time": "2022-09-01T15:03:26.716Z"
   },
   {
    "duration": 6,
    "start_time": "2022-09-01T15:03:27.512Z"
   },
   {
    "duration": 35,
    "start_time": "2022-09-01T15:03:27.519Z"
   },
   {
    "duration": 176,
    "start_time": "2022-09-01T15:03:27.557Z"
   },
   {
    "duration": 294,
    "start_time": "2022-09-01T15:03:27.734Z"
   },
   {
    "duration": 105,
    "start_time": "2022-09-01T15:03:28.030Z"
   },
   {
    "duration": 276,
    "start_time": "2022-09-01T15:03:28.137Z"
   },
   {
    "duration": 296,
    "start_time": "2022-09-01T15:03:28.415Z"
   },
   {
    "duration": 20,
    "start_time": "2022-09-01T15:03:28.713Z"
   },
   {
    "duration": 100,
    "start_time": "2022-09-01T15:03:28.735Z"
   },
   {
    "duration": 252,
    "start_time": "2022-09-01T15:03:28.837Z"
   },
   {
    "duration": 149,
    "start_time": "2022-09-01T15:03:29.091Z"
   },
   {
    "duration": 431,
    "start_time": "2022-09-01T15:03:29.243Z"
   },
   {
    "duration": 282,
    "start_time": "2022-09-01T15:03:29.676Z"
   },
   {
    "duration": 31,
    "start_time": "2022-09-01T15:03:29.960Z"
   },
   {
    "duration": 8,
    "start_time": "2022-09-01T15:03:29.993Z"
   },
   {
    "duration": 192,
    "start_time": "2022-09-01T15:03:30.002Z"
   },
   {
    "duration": 24,
    "start_time": "2022-09-01T15:03:30.196Z"
   },
   {
    "duration": 24,
    "start_time": "2022-09-01T15:03:30.222Z"
   },
   {
    "duration": 87,
    "start_time": "2022-09-01T15:03:30.248Z"
   },
   {
    "duration": 3761,
    "start_time": "2022-09-01T15:03:30.337Z"
   },
   {
    "duration": 74,
    "start_time": "2022-09-01T15:03:34.100Z"
   },
   {
    "duration": 198,
    "start_time": "2022-09-01T15:03:34.176Z"
   },
   {
    "duration": 29,
    "start_time": "2022-09-01T15:03:34.376Z"
   },
   {
    "duration": 5,
    "start_time": "2022-09-01T15:03:34.407Z"
   },
   {
    "duration": 7,
    "start_time": "2022-09-01T15:03:34.413Z"
   },
   {
    "duration": 18,
    "start_time": "2022-09-01T15:03:34.422Z"
   },
   {
    "duration": 83,
    "start_time": "2022-09-01T15:03:34.441Z"
   },
   {
    "duration": 99,
    "start_time": "2022-09-01T15:03:34.527Z"
   },
   {
    "duration": 3,
    "start_time": "2022-09-01T15:03:34.628Z"
   },
   {
    "duration": 3626,
    "start_time": "2022-09-01T15:03:34.633Z"
   },
   {
    "duration": 1448,
    "start_time": "2022-09-01T15:03:38.260Z"
   },
   {
    "duration": 1859,
    "start_time": "2022-09-01T15:03:39.709Z"
   },
   {
    "duration": 18,
    "start_time": "2022-09-01T15:03:41.569Z"
   },
   {
    "duration": 8,
    "start_time": "2022-09-01T15:03:41.589Z"
   },
   {
    "duration": 5,
    "start_time": "2022-09-01T15:03:41.599Z"
   },
   {
    "duration": 1358,
    "start_time": "2022-09-01T15:04:39.631Z"
   },
   {
    "duration": 778,
    "start_time": "2022-09-01T15:04:40.990Z"
   },
   {
    "duration": 5,
    "start_time": "2022-09-01T15:04:41.770Z"
   },
   {
    "duration": 21,
    "start_time": "2022-09-01T15:04:41.777Z"
   },
   {
    "duration": 137,
    "start_time": "2022-09-01T15:04:41.800Z"
   },
   {
    "duration": 300,
    "start_time": "2022-09-01T15:04:41.939Z"
   },
   {
    "duration": 97,
    "start_time": "2022-09-01T15:04:42.240Z"
   },
   {
    "duration": 291,
    "start_time": "2022-09-01T15:04:42.338Z"
   },
   {
    "duration": 297,
    "start_time": "2022-09-01T15:04:42.631Z"
   },
   {
    "duration": 22,
    "start_time": "2022-09-01T15:04:42.930Z"
   },
   {
    "duration": 85,
    "start_time": "2022-09-01T15:04:42.953Z"
   },
   {
    "duration": 255,
    "start_time": "2022-09-01T15:04:43.040Z"
   },
   {
    "duration": 147,
    "start_time": "2022-09-01T15:04:43.297Z"
   },
   {
    "duration": 439,
    "start_time": "2022-09-01T15:04:43.447Z"
   },
   {
    "duration": 278,
    "start_time": "2022-09-01T15:04:43.888Z"
   },
   {
    "duration": 30,
    "start_time": "2022-09-01T15:04:44.168Z"
   },
   {
    "duration": 8,
    "start_time": "2022-09-01T15:04:44.199Z"
   },
   {
    "duration": 152,
    "start_time": "2022-09-01T15:04:44.209Z"
   },
   {
    "duration": 33,
    "start_time": "2022-09-01T15:04:44.363Z"
   },
   {
    "duration": 5,
    "start_time": "2022-09-01T15:04:44.398Z"
   },
   {
    "duration": 63,
    "start_time": "2022-09-01T15:04:44.405Z"
   },
   {
    "duration": 3757,
    "start_time": "2022-09-01T15:04:44.469Z"
   },
   {
    "duration": 77,
    "start_time": "2022-09-01T15:04:48.227Z"
   },
   {
    "duration": 199,
    "start_time": "2022-09-01T15:04:48.306Z"
   },
   {
    "duration": 20,
    "start_time": "2022-09-01T15:04:48.507Z"
   },
   {
    "duration": 4,
    "start_time": "2022-09-01T15:04:48.528Z"
   },
   {
    "duration": 12,
    "start_time": "2022-09-01T15:04:48.533Z"
   },
   {
    "duration": 13,
    "start_time": "2022-09-01T15:04:48.548Z"
   },
   {
    "duration": 81,
    "start_time": "2022-09-01T15:04:48.562Z"
   },
   {
    "duration": 96,
    "start_time": "2022-09-01T15:04:48.645Z"
   },
   {
    "duration": 3,
    "start_time": "2022-09-01T15:04:48.743Z"
   },
   {
    "duration": 3837,
    "start_time": "2022-09-01T15:04:48.747Z"
   },
   {
    "duration": 1419,
    "start_time": "2022-09-01T15:04:52.586Z"
   },
   {
    "duration": 1774,
    "start_time": "2022-09-01T15:04:54.006Z"
   },
   {
    "duration": 20,
    "start_time": "2022-09-01T15:04:55.782Z"
   },
   {
    "duration": 7,
    "start_time": "2022-09-01T15:04:55.803Z"
   },
   {
    "duration": 6,
    "start_time": "2022-09-01T15:04:55.812Z"
   },
   {
    "duration": 1341,
    "start_time": "2022-09-01T15:06:18.629Z"
   },
   {
    "duration": 814,
    "start_time": "2022-09-01T15:06:19.972Z"
   },
   {
    "duration": 6,
    "start_time": "2022-09-01T15:06:20.787Z"
   },
   {
    "duration": 23,
    "start_time": "2022-09-01T15:06:20.795Z"
   },
   {
    "duration": 147,
    "start_time": "2022-09-01T15:06:20.820Z"
   },
   {
    "duration": 304,
    "start_time": "2022-09-01T15:06:20.970Z"
   },
   {
    "duration": 101,
    "start_time": "2022-09-01T15:06:21.276Z"
   },
   {
    "duration": 276,
    "start_time": "2022-09-01T15:06:21.378Z"
   },
   {
    "duration": 306,
    "start_time": "2022-09-01T15:06:21.656Z"
   },
   {
    "duration": 26,
    "start_time": "2022-09-01T15:06:21.964Z"
   },
   {
    "duration": 67,
    "start_time": "2022-09-01T15:06:21.992Z"
   },
   {
    "duration": 257,
    "start_time": "2022-09-01T15:06:22.060Z"
   },
   {
    "duration": 145,
    "start_time": "2022-09-01T15:06:22.319Z"
   },
   {
    "duration": 454,
    "start_time": "2022-09-01T15:06:22.467Z"
   },
   {
    "duration": 272,
    "start_time": "2022-09-01T15:06:22.923Z"
   },
   {
    "duration": 24,
    "start_time": "2022-09-01T15:06:23.196Z"
   },
   {
    "duration": 6,
    "start_time": "2022-09-01T15:06:23.222Z"
   },
   {
    "duration": 161,
    "start_time": "2022-09-01T15:06:23.230Z"
   },
   {
    "duration": 23,
    "start_time": "2022-09-01T15:06:23.393Z"
   },
   {
    "duration": 5,
    "start_time": "2022-09-01T15:06:23.418Z"
   },
   {
    "duration": 73,
    "start_time": "2022-09-01T15:06:23.424Z"
   },
   {
    "duration": 3767,
    "start_time": "2022-09-01T15:06:23.499Z"
   },
   {
    "duration": 74,
    "start_time": "2022-09-01T15:06:27.268Z"
   },
   {
    "duration": 188,
    "start_time": "2022-09-01T15:06:27.344Z"
   },
   {
    "duration": 21,
    "start_time": "2022-09-01T15:06:27.534Z"
   },
   {
    "duration": 4,
    "start_time": "2022-09-01T15:06:27.558Z"
   },
   {
    "duration": 23,
    "start_time": "2022-09-01T15:06:27.564Z"
   },
   {
    "duration": 12,
    "start_time": "2022-09-01T15:06:27.589Z"
   },
   {
    "duration": 84,
    "start_time": "2022-09-01T15:06:27.603Z"
   },
   {
    "duration": 83,
    "start_time": "2022-09-01T15:06:27.689Z"
   },
   {
    "duration": 12,
    "start_time": "2022-09-01T15:06:27.774Z"
   },
   {
    "duration": 3678,
    "start_time": "2022-09-01T15:06:27.788Z"
   },
   {
    "duration": 1418,
    "start_time": "2022-09-01T15:06:31.468Z"
   },
   {
    "duration": 1798,
    "start_time": "2022-09-01T15:06:32.887Z"
   },
   {
    "duration": 18,
    "start_time": "2022-09-01T15:06:34.686Z"
   },
   {
    "duration": 7,
    "start_time": "2022-09-01T15:06:34.706Z"
   },
   {
    "duration": 6,
    "start_time": "2022-09-01T15:06:34.715Z"
   },
   {
    "duration": 1435,
    "start_time": "2022-09-01T15:12:12.155Z"
   },
   {
    "duration": 821,
    "start_time": "2022-09-01T15:12:13.591Z"
   },
   {
    "duration": 6,
    "start_time": "2022-09-01T15:12:14.413Z"
   },
   {
    "duration": 15,
    "start_time": "2022-09-01T15:12:14.421Z"
   },
   {
    "duration": 155,
    "start_time": "2022-09-01T15:12:14.438Z"
   },
   {
    "duration": 300,
    "start_time": "2022-09-01T15:12:14.595Z"
   },
   {
    "duration": 101,
    "start_time": "2022-09-01T15:12:14.897Z"
   },
   {
    "duration": 285,
    "start_time": "2022-09-01T15:12:14.999Z"
   },
   {
    "duration": 315,
    "start_time": "2022-09-01T15:12:15.286Z"
   },
   {
    "duration": 21,
    "start_time": "2022-09-01T15:12:15.603Z"
   },
   {
    "duration": 76,
    "start_time": "2022-09-01T15:12:15.626Z"
   },
   {
    "duration": 270,
    "start_time": "2022-09-01T15:12:15.704Z"
   },
   {
    "duration": 165,
    "start_time": "2022-09-01T15:12:15.975Z"
   },
   {
    "duration": 507,
    "start_time": "2022-09-01T15:12:16.143Z"
   },
   {
    "duration": 292,
    "start_time": "2022-09-01T15:12:16.651Z"
   },
   {
    "duration": 25,
    "start_time": "2022-09-01T15:12:16.945Z"
   },
   {
    "duration": 17,
    "start_time": "2022-09-01T15:12:16.972Z"
   },
   {
    "duration": 166,
    "start_time": "2022-09-01T15:12:16.990Z"
   },
   {
    "duration": 32,
    "start_time": "2022-09-01T15:12:17.158Z"
   },
   {
    "duration": 6,
    "start_time": "2022-09-01T15:12:17.191Z"
   },
   {
    "duration": 63,
    "start_time": "2022-09-01T15:12:17.198Z"
   },
   {
    "duration": 3775,
    "start_time": "2022-09-01T15:12:17.263Z"
   },
   {
    "duration": 77,
    "start_time": "2022-09-01T15:12:21.040Z"
   },
   {
    "duration": 209,
    "start_time": "2022-09-01T15:12:21.119Z"
   },
   {
    "duration": 22,
    "start_time": "2022-09-01T15:12:21.329Z"
   },
   {
    "duration": 4,
    "start_time": "2022-09-01T15:12:21.353Z"
   },
   {
    "duration": 6,
    "start_time": "2022-09-01T15:12:21.358Z"
   },
   {
    "duration": 28,
    "start_time": "2022-09-01T15:12:21.366Z"
   },
   {
    "duration": 65,
    "start_time": "2022-09-01T15:12:21.396Z"
   },
   {
    "duration": 112,
    "start_time": "2022-09-01T15:12:21.463Z"
   },
   {
    "duration": 3,
    "start_time": "2022-09-01T15:12:21.577Z"
   },
   {
    "duration": 3509,
    "start_time": "2022-09-01T15:12:21.586Z"
   },
   {
    "duration": 1499,
    "start_time": "2022-09-01T15:12:25.096Z"
   },
   {
    "duration": 1875,
    "start_time": "2022-09-01T15:12:26.597Z"
   },
   {
    "duration": 21,
    "start_time": "2022-09-01T15:12:28.474Z"
   },
   {
    "duration": 9,
    "start_time": "2022-09-01T15:12:28.497Z"
   },
   {
    "duration": 7,
    "start_time": "2022-09-01T15:12:28.508Z"
   },
   {
    "duration": 1418,
    "start_time": "2022-09-01T15:22:32.208Z"
   },
   {
    "duration": 784,
    "start_time": "2022-09-01T15:22:33.628Z"
   },
   {
    "duration": 5,
    "start_time": "2022-09-01T15:22:34.413Z"
   },
   {
    "duration": 22,
    "start_time": "2022-09-01T15:22:34.420Z"
   },
   {
    "duration": 143,
    "start_time": "2022-09-01T15:22:34.444Z"
   },
   {
    "duration": 302,
    "start_time": "2022-09-01T15:22:34.589Z"
   },
   {
    "duration": 106,
    "start_time": "2022-09-01T15:22:34.893Z"
   },
   {
    "duration": 286,
    "start_time": "2022-09-01T15:22:35.001Z"
   },
   {
    "duration": 298,
    "start_time": "2022-09-01T15:22:35.289Z"
   },
   {
    "duration": 20,
    "start_time": "2022-09-01T15:22:35.589Z"
   },
   {
    "duration": 76,
    "start_time": "2022-09-01T15:22:35.611Z"
   },
   {
    "duration": 258,
    "start_time": "2022-09-01T15:22:35.689Z"
   },
   {
    "duration": 152,
    "start_time": "2022-09-01T15:22:35.948Z"
   },
   {
    "duration": 509,
    "start_time": "2022-09-01T15:22:36.104Z"
   },
   {
    "duration": 273,
    "start_time": "2022-09-01T15:22:36.615Z"
   },
   {
    "duration": 25,
    "start_time": "2022-09-01T15:22:36.890Z"
   },
   {
    "duration": 8,
    "start_time": "2022-09-01T15:22:36.917Z"
   },
   {
    "duration": 173,
    "start_time": "2022-09-01T15:22:36.926Z"
   },
   {
    "duration": 23,
    "start_time": "2022-09-01T15:22:37.101Z"
   },
   {
    "duration": 5,
    "start_time": "2022-09-01T15:22:37.126Z"
   },
   {
    "duration": 88,
    "start_time": "2022-09-01T15:22:37.132Z"
   },
   {
    "duration": 3793,
    "start_time": "2022-09-01T15:22:37.221Z"
   },
   {
    "duration": 73,
    "start_time": "2022-09-01T15:22:41.016Z"
   },
   {
    "duration": 207,
    "start_time": "2022-09-01T15:22:41.090Z"
   },
   {
    "duration": 24,
    "start_time": "2022-09-01T15:22:41.299Z"
   },
   {
    "duration": 4,
    "start_time": "2022-09-01T15:22:41.325Z"
   },
   {
    "duration": 9,
    "start_time": "2022-09-01T15:22:41.330Z"
   },
   {
    "duration": 13,
    "start_time": "2022-09-01T15:22:41.341Z"
   },
   {
    "duration": 83,
    "start_time": "2022-09-01T15:22:41.356Z"
   },
   {
    "duration": 102,
    "start_time": "2022-09-01T15:22:41.441Z"
   },
   {
    "duration": 4,
    "start_time": "2022-09-01T15:22:41.544Z"
   },
   {
    "duration": 3528,
    "start_time": "2022-09-01T15:22:41.550Z"
   },
   {
    "duration": 1529,
    "start_time": "2022-09-01T15:22:45.080Z"
   },
   {
    "duration": 1798,
    "start_time": "2022-09-01T15:22:46.610Z"
   },
   {
    "duration": 18,
    "start_time": "2022-09-01T15:22:48.410Z"
   },
   {
    "duration": 3,
    "start_time": "2022-09-01T15:22:48.430Z"
   },
   {
    "duration": 7,
    "start_time": "2022-09-01T15:22:48.435Z"
   },
   {
    "duration": 1376,
    "start_time": "2022-09-01T15:23:18.527Z"
   },
   {
    "duration": 829,
    "start_time": "2022-09-01T15:23:19.905Z"
   },
   {
    "duration": 5,
    "start_time": "2022-09-01T15:23:20.736Z"
   },
   {
    "duration": 16,
    "start_time": "2022-09-01T15:23:20.743Z"
   },
   {
    "duration": 152,
    "start_time": "2022-09-01T15:23:20.762Z"
   },
   {
    "duration": 326,
    "start_time": "2022-09-01T15:23:20.916Z"
   },
   {
    "duration": 106,
    "start_time": "2022-09-01T15:23:21.244Z"
   },
   {
    "duration": 308,
    "start_time": "2022-09-01T15:23:21.352Z"
   },
   {
    "duration": 310,
    "start_time": "2022-09-01T15:23:21.662Z"
   },
   {
    "duration": 28,
    "start_time": "2022-09-01T15:23:21.973Z"
   },
   {
    "duration": 60,
    "start_time": "2022-09-01T15:23:22.003Z"
   },
   {
    "duration": 260,
    "start_time": "2022-09-01T15:23:22.065Z"
   },
   {
    "duration": 144,
    "start_time": "2022-09-01T15:23:22.327Z"
   },
   {
    "duration": 446,
    "start_time": "2022-09-01T15:23:22.474Z"
   },
   {
    "duration": 296,
    "start_time": "2022-09-01T15:23:22.922Z"
   },
   {
    "duration": 26,
    "start_time": "2022-09-01T15:23:23.220Z"
   },
   {
    "duration": 10,
    "start_time": "2022-09-01T15:23:23.248Z"
   },
   {
    "duration": 195,
    "start_time": "2022-09-01T15:23:23.260Z"
   },
   {
    "duration": 31,
    "start_time": "2022-09-01T15:23:23.456Z"
   },
   {
    "duration": 6,
    "start_time": "2022-09-01T15:23:23.488Z"
   },
   {
    "duration": 71,
    "start_time": "2022-09-01T15:23:23.495Z"
   },
   {
    "duration": 4090,
    "start_time": "2022-09-01T15:23:23.568Z"
   },
   {
    "duration": 76,
    "start_time": "2022-09-01T15:23:27.660Z"
   },
   {
    "duration": 193,
    "start_time": "2022-09-01T15:23:27.738Z"
   },
   {
    "duration": 19,
    "start_time": "2022-09-01T15:23:27.933Z"
   },
   {
    "duration": 4,
    "start_time": "2022-09-01T15:23:27.954Z"
   },
   {
    "duration": 5,
    "start_time": "2022-09-01T15:23:27.959Z"
   },
   {
    "duration": 25,
    "start_time": "2022-09-01T15:23:27.966Z"
   },
   {
    "duration": 64,
    "start_time": "2022-09-01T15:23:27.993Z"
   },
   {
    "duration": 100,
    "start_time": "2022-09-01T15:23:28.059Z"
   },
   {
    "duration": 2,
    "start_time": "2022-09-01T15:23:28.161Z"
   },
   {
    "duration": 3506,
    "start_time": "2022-09-01T15:23:28.165Z"
   },
   {
    "duration": 1425,
    "start_time": "2022-09-01T15:23:31.673Z"
   },
   {
    "duration": 1790,
    "start_time": "2022-09-01T15:23:33.099Z"
   },
   {
    "duration": 19,
    "start_time": "2022-09-01T15:23:34.891Z"
   },
   {
    "duration": 3,
    "start_time": "2022-09-01T15:23:34.911Z"
   },
   {
    "duration": 6,
    "start_time": "2022-09-01T15:23:34.915Z"
   },
   {
    "duration": 1540313,
    "start_time": "2022-09-01T15:23:34.922Z"
   },
   {
    "duration": 4,
    "start_time": "2022-09-01T15:49:59.459Z"
   },
   {
    "duration": 5,
    "start_time": "2022-09-01T15:50:08.314Z"
   },
   {
    "duration": 4,
    "start_time": "2022-09-01T15:50:15.515Z"
   },
   {
    "duration": 110,
    "start_time": "2022-09-01T15:51:11.395Z"
   },
   {
    "duration": 3,
    "start_time": "2022-09-01T15:51:31.374Z"
   },
   {
    "duration": 306,
    "start_time": "2022-09-01T15:52:56.677Z"
   },
   {
    "duration": 84604,
    "start_time": "2022-09-01T15:54:32.115Z"
   },
   {
    "duration": 5,
    "start_time": "2022-09-01T15:55:56.859Z"
   },
   {
    "duration": 5,
    "start_time": "2022-09-01T15:57:17.211Z"
   },
   {
    "duration": 7,
    "start_time": "2022-09-01T15:57:21.343Z"
   },
   {
    "duration": 7,
    "start_time": "2022-09-01T15:57:21.939Z"
   },
   {
    "duration": 6,
    "start_time": "2022-09-01T15:57:22.342Z"
   },
   {
    "duration": 5,
    "start_time": "2022-09-01T15:57:22.576Z"
   },
   {
    "duration": 5,
    "start_time": "2022-09-01T15:57:22.754Z"
   },
   {
    "duration": 5,
    "start_time": "2022-09-01T15:57:22.936Z"
   },
   {
    "duration": 5,
    "start_time": "2022-09-01T15:57:23.139Z"
   },
   {
    "duration": 7,
    "start_time": "2022-09-01T15:57:23.355Z"
   },
   {
    "duration": 6,
    "start_time": "2022-09-01T15:57:23.568Z"
   },
   {
    "duration": 5,
    "start_time": "2022-09-01T15:57:23.746Z"
   },
   {
    "duration": 6,
    "start_time": "2022-09-01T15:57:23.956Z"
   },
   {
    "duration": 7,
    "start_time": "2022-09-01T15:59:43.024Z"
   },
   {
    "duration": 4,
    "start_time": "2022-09-01T16:01:23.957Z"
   },
   {
    "duration": 4,
    "start_time": "2022-09-01T16:01:29.022Z"
   },
   {
    "duration": 4,
    "start_time": "2022-09-01T16:01:33.258Z"
   },
   {
    "duration": 4,
    "start_time": "2022-09-01T16:01:36.888Z"
   },
   {
    "duration": 88183,
    "start_time": "2022-09-01T16:02:50.197Z"
   },
   {
    "duration": 3,
    "start_time": "2022-09-01T16:05:03.274Z"
   },
   {
    "duration": 5,
    "start_time": "2022-09-01T16:05:09.087Z"
   },
   {
    "duration": 4,
    "start_time": "2022-09-01T16:05:14.225Z"
   },
   {
    "duration": 4,
    "start_time": "2022-09-01T16:05:22.797Z"
   },
   {
    "duration": 12,
    "start_time": "2022-09-01T16:05:28.404Z"
   },
   {
    "duration": 14,
    "start_time": "2022-09-01T16:05:36.275Z"
   },
   {
    "duration": 4,
    "start_time": "2022-09-01T16:05:40.492Z"
   },
   {
    "duration": 7,
    "start_time": "2022-09-01T16:05:44.554Z"
   },
   {
    "duration": 10,
    "start_time": "2022-09-01T16:07:21.554Z"
   },
   {
    "duration": 4,
    "start_time": "2022-09-01T16:07:27.287Z"
   },
   {
    "duration": 5,
    "start_time": "2022-09-01T16:07:32.571Z"
   },
   {
    "duration": 4,
    "start_time": "2022-09-01T16:07:38.372Z"
   },
   {
    "duration": 9,
    "start_time": "2022-09-01T16:07:50.083Z"
   },
   {
    "duration": 3,
    "start_time": "2022-09-01T16:07:57.844Z"
   },
   {
    "duration": 4,
    "start_time": "2022-09-01T16:08:02.884Z"
   },
   {
    "duration": 1446,
    "start_time": "2022-09-01T23:21:37.018Z"
   },
   {
    "duration": 1013,
    "start_time": "2022-09-01T23:21:38.466Z"
   },
   {
    "duration": 6,
    "start_time": "2022-09-01T23:21:39.481Z"
   },
   {
    "duration": 14,
    "start_time": "2022-09-01T23:21:39.809Z"
   },
   {
    "duration": 120,
    "start_time": "2022-09-01T23:21:40.918Z"
   },
   {
    "duration": 248,
    "start_time": "2022-09-01T23:21:41.628Z"
   },
   {
    "duration": 84,
    "start_time": "2022-09-01T23:21:43.788Z"
   },
   {
    "duration": 255,
    "start_time": "2022-09-01T23:21:44.798Z"
   },
   {
    "duration": 276,
    "start_time": "2022-09-01T23:21:45.488Z"
   },
   {
    "duration": 23,
    "start_time": "2022-09-01T23:21:47.821Z"
   },
   {
    "duration": 49,
    "start_time": "2022-09-01T23:21:49.040Z"
   },
   {
    "duration": 228,
    "start_time": "2022-09-01T23:21:50.221Z"
   },
   {
    "duration": 126,
    "start_time": "2022-09-01T23:21:51.359Z"
   },
   {
    "duration": 501,
    "start_time": "2022-09-01T23:21:52.493Z"
   },
   {
    "duration": 250,
    "start_time": "2022-09-01T23:21:56.104Z"
   },
   {
    "duration": 22,
    "start_time": "2022-09-01T23:21:57.493Z"
   },
   {
    "duration": 6,
    "start_time": "2022-09-01T23:21:58.189Z"
   },
   {
    "duration": 168,
    "start_time": "2022-09-01T23:21:58.798Z"
   },
   {
    "duration": 18,
    "start_time": "2022-09-01T23:21:59.979Z"
   },
   {
    "duration": 7,
    "start_time": "2022-09-01T23:22:00.733Z"
   },
   {
    "duration": 64,
    "start_time": "2022-09-01T23:22:01.649Z"
   },
   {
    "duration": 3403,
    "start_time": "2022-09-01T23:22:02.838Z"
   },
   {
    "duration": 71,
    "start_time": "2022-09-01T23:22:08.218Z"
   },
   {
    "duration": 192,
    "start_time": "2022-09-01T23:22:09.133Z"
   },
   {
    "duration": 20,
    "start_time": "2022-09-01T23:22:10.203Z"
   },
   {
    "duration": 4,
    "start_time": "2022-09-01T23:22:10.853Z"
   },
   {
    "duration": 3,
    "start_time": "2022-09-01T23:22:11.549Z"
   },
   {
    "duration": 11,
    "start_time": "2022-09-01T23:22:12.559Z"
   },
   {
    "duration": 57,
    "start_time": "2022-09-01T23:22:13.348Z"
   },
   {
    "duration": 78,
    "start_time": "2022-09-01T23:22:15.479Z"
   },
   {
    "duration": 3,
    "start_time": "2022-09-01T23:22:21.309Z"
   },
   {
    "duration": 2111,
    "start_time": "2022-09-01T23:22:22.424Z"
   },
   {
    "duration": 1397,
    "start_time": "2022-09-01T23:22:25.784Z"
   },
   {
    "duration": 1743,
    "start_time": "2022-09-01T23:22:29.143Z"
   },
   {
    "duration": 16,
    "start_time": "2022-09-01T23:22:31.788Z"
   },
   {
    "duration": 2,
    "start_time": "2022-09-01T23:22:35.959Z"
   },
   {
    "duration": 3,
    "start_time": "2022-09-01T23:22:38.068Z"
   },
   {
    "duration": 118753,
    "start_time": "2022-09-01T23:23:14.501Z"
   },
   {
    "duration": 4,
    "start_time": "2022-09-01T23:26:04.829Z"
   },
   {
    "duration": 5,
    "start_time": "2022-09-01T23:26:43.333Z"
   },
   {
    "duration": 41084,
    "start_time": "2022-09-01T23:27:58.184Z"
   },
   {
    "duration": 109,
    "start_time": "2022-09-01T23:28:46.379Z"
   },
   {
    "duration": 1396,
    "start_time": "2022-09-03T16:42:22.078Z"
   },
   {
    "duration": 0,
    "start_time": "2022-09-03T16:42:23.475Z"
   },
   {
    "duration": 258,
    "start_time": "2022-09-03T16:42:52.147Z"
   },
   {
    "duration": 1321,
    "start_time": "2022-09-03T16:43:01.960Z"
   },
   {
    "duration": 1085,
    "start_time": "2022-09-03T16:43:04.741Z"
   },
   {
    "duration": 5,
    "start_time": "2022-09-03T16:43:06.769Z"
   },
   {
    "duration": 15,
    "start_time": "2022-09-03T16:43:08.083Z"
   },
   {
    "duration": 138,
    "start_time": "2022-09-03T16:43:09.643Z"
   },
   {
    "duration": 279,
    "start_time": "2022-09-03T16:43:11.070Z"
   },
   {
    "duration": 93,
    "start_time": "2022-09-03T16:43:12.065Z"
   },
   {
    "duration": 258,
    "start_time": "2022-09-03T16:43:13.797Z"
   },
   {
    "duration": 295,
    "start_time": "2022-09-03T16:43:14.644Z"
   },
   {
    "duration": 21,
    "start_time": "2022-09-03T16:43:16.302Z"
   },
   {
    "duration": 63,
    "start_time": "2022-09-03T16:43:18.499Z"
   },
   {
    "duration": 243,
    "start_time": "2022-09-03T16:43:19.600Z"
   },
   {
    "duration": 143,
    "start_time": "2022-09-03T16:43:21.368Z"
   },
   {
    "duration": 406,
    "start_time": "2022-09-03T16:43:23.366Z"
   },
   {
    "duration": 257,
    "start_time": "2022-09-03T16:43:24.927Z"
   },
   {
    "duration": 23,
    "start_time": "2022-09-03T16:43:26.405Z"
   },
   {
    "duration": 8,
    "start_time": "2022-09-03T16:43:27.220Z"
   },
   {
    "duration": 158,
    "start_time": "2022-09-03T16:43:27.958Z"
   },
   {
    "duration": 18,
    "start_time": "2022-09-03T16:43:29.130Z"
   },
   {
    "duration": 5,
    "start_time": "2022-09-03T16:43:30.356Z"
   },
   {
    "duration": 58,
    "start_time": "2022-09-03T16:43:31.572Z"
   },
   {
    "duration": 3601,
    "start_time": "2022-09-03T16:43:32.949Z"
   },
   {
    "duration": 74,
    "start_time": "2022-09-03T16:43:38.165Z"
   },
   {
    "duration": 194,
    "start_time": "2022-09-03T16:43:39.658Z"
   },
   {
    "duration": 20,
    "start_time": "2022-09-03T16:43:40.814Z"
   },
   {
    "duration": 4,
    "start_time": "2022-09-03T16:43:41.607Z"
   },
   {
    "duration": 4,
    "start_time": "2022-09-03T16:43:42.462Z"
   },
   {
    "duration": 11,
    "start_time": "2022-09-03T16:43:43.543Z"
   },
   {
    "duration": 84,
    "start_time": "2022-09-03T16:43:45.157Z"
   },
   {
    "duration": 3,
    "start_time": "2022-09-03T16:43:46.037Z"
   },
   {
    "duration": 3020,
    "start_time": "2022-09-03T16:43:46.797Z"
   },
   {
    "duration": 1459,
    "start_time": "2022-09-03T16:43:49.819Z"
   },
   {
    "duration": 1831,
    "start_time": "2022-09-03T16:43:52.388Z"
   },
   {
    "duration": 20,
    "start_time": "2022-09-03T16:43:55.680Z"
   },
   {
    "duration": 3,
    "start_time": "2022-09-03T16:43:58.956Z"
   },
   {
    "duration": 2,
    "start_time": "2022-09-03T16:44:04.338Z"
   },
   {
    "duration": 10259,
    "start_time": "2022-09-03T16:44:12.046Z"
   },
   {
    "duration": 53,
    "start_time": "2022-09-03T16:44:40.065Z"
   },
   {
    "duration": 46,
    "start_time": "2022-09-03T16:45:11.036Z"
   },
   {
    "duration": 1458,
    "start_time": "2022-09-03T16:45:35.669Z"
   },
   {
    "duration": 1096,
    "start_time": "2022-09-03T16:45:38.724Z"
   },
   {
    "duration": 5,
    "start_time": "2022-09-03T16:45:39.822Z"
   },
   {
    "duration": 15,
    "start_time": "2022-09-03T16:45:43.036Z"
   },
   {
    "duration": 133,
    "start_time": "2022-09-03T16:45:44.071Z"
   },
   {
    "duration": 291,
    "start_time": "2022-09-03T16:45:45.576Z"
   },
   {
    "duration": 94,
    "start_time": "2022-09-03T16:45:47.928Z"
   },
   {
    "duration": 267,
    "start_time": "2022-09-03T16:45:49.390Z"
   },
   {
    "duration": 296,
    "start_time": "2022-09-03T16:45:49.999Z"
   },
   {
    "duration": 20,
    "start_time": "2022-09-03T16:45:52.009Z"
   },
   {
    "duration": 64,
    "start_time": "2022-09-03T16:45:53.391Z"
   },
   {
    "duration": 241,
    "start_time": "2022-09-03T16:45:54.547Z"
   },
   {
    "duration": 138,
    "start_time": "2022-09-03T16:45:56.959Z"
   },
   {
    "duration": 429,
    "start_time": "2022-09-03T16:45:58.116Z"
   },
   {
    "duration": 255,
    "start_time": "2022-09-03T16:45:59.930Z"
   },
   {
    "duration": 24,
    "start_time": "2022-09-03T16:46:01.081Z"
   },
   {
    "duration": 7,
    "start_time": "2022-09-03T16:46:01.801Z"
   },
   {
    "duration": 145,
    "start_time": "2022-09-03T16:46:02.570Z"
   },
   {
    "duration": 19,
    "start_time": "2022-09-03T16:46:03.952Z"
   },
   {
    "duration": 6,
    "start_time": "2022-09-03T16:46:04.558Z"
   },
   {
    "duration": 61,
    "start_time": "2022-09-03T16:46:05.515Z"
   },
   {
    "duration": 3645,
    "start_time": "2022-09-03T16:46:06.729Z"
   },
   {
    "duration": 72,
    "start_time": "2022-09-03T16:46:14.028Z"
   },
   {
    "duration": 189,
    "start_time": "2022-09-03T16:46:15.527Z"
   },
   {
    "duration": 26,
    "start_time": "2022-09-03T16:46:17.071Z"
   },
   {
    "duration": 3,
    "start_time": "2022-09-03T16:46:17.941Z"
   },
   {
    "duration": 4,
    "start_time": "2022-09-03T16:46:18.789Z"
   },
   {
    "duration": 12,
    "start_time": "2022-09-03T16:46:19.939Z"
   },
   {
    "duration": 79,
    "start_time": "2022-09-03T16:46:21.573Z"
   },
   {
    "duration": 3,
    "start_time": "2022-09-03T16:46:22.845Z"
   },
   {
    "duration": 2867,
    "start_time": "2022-09-03T16:46:23.755Z"
   },
   {
    "duration": 1444,
    "start_time": "2022-09-03T16:46:28.257Z"
   },
   {
    "duration": 1801,
    "start_time": "2022-09-03T16:46:29.703Z"
   },
   {
    "duration": 16,
    "start_time": "2022-09-03T16:46:31.508Z"
   },
   {
    "duration": 3,
    "start_time": "2022-09-03T16:46:33.574Z"
   },
   {
    "duration": 3,
    "start_time": "2022-09-03T16:46:35.264Z"
   },
   {
    "duration": 124904,
    "start_time": "2022-09-03T16:46:36.077Z"
   },
   {
    "duration": 4,
    "start_time": "2022-09-03T16:49:09.761Z"
   },
   {
    "duration": 1356,
    "start_time": "2022-09-03T16:49:16.265Z"
   },
   {
    "duration": 750,
    "start_time": "2022-09-03T16:49:19.633Z"
   },
   {
    "duration": 7,
    "start_time": "2022-09-03T16:49:29.568Z"
   },
   {
    "duration": 1357,
    "start_time": "2022-09-03T16:49:45.427Z"
   },
   {
    "duration": 847,
    "start_time": "2022-09-03T16:49:46.923Z"
   },
   {
    "duration": 5,
    "start_time": "2022-09-03T16:49:47.772Z"
   },
   {
    "duration": 15,
    "start_time": "2022-09-03T16:49:48.762Z"
   },
   {
    "duration": 127,
    "start_time": "2022-09-03T16:49:49.940Z"
   },
   {
    "duration": 273,
    "start_time": "2022-09-03T16:49:50.956Z"
   },
   {
    "duration": 94,
    "start_time": "2022-09-03T16:49:51.598Z"
   },
   {
    "duration": 263,
    "start_time": "2022-09-03T16:49:53.253Z"
   },
   {
    "duration": 302,
    "start_time": "2022-09-03T16:49:54.017Z"
   },
   {
    "duration": 22,
    "start_time": "2022-09-03T16:49:55.424Z"
   },
   {
    "duration": 66,
    "start_time": "2022-09-03T16:49:57.315Z"
   },
   {
    "duration": 229,
    "start_time": "2022-09-03T16:49:58.341Z"
   },
   {
    "duration": 135,
    "start_time": "2022-09-03T16:50:00.142Z"
   },
   {
    "duration": 426,
    "start_time": "2022-09-03T16:50:02.670Z"
   },
   {
    "duration": 264,
    "start_time": "2022-09-03T16:50:03.098Z"
   },
   {
    "duration": 24,
    "start_time": "2022-09-03T16:50:04.661Z"
   },
   {
    "duration": 8,
    "start_time": "2022-09-03T16:50:05.319Z"
   },
   {
    "duration": 159,
    "start_time": "2022-09-03T16:50:05.892Z"
   },
   {
    "duration": 21,
    "start_time": "2022-09-03T16:50:07.174Z"
   },
   {
    "duration": 5,
    "start_time": "2022-09-03T16:50:07.998Z"
   },
   {
    "duration": 59,
    "start_time": "2022-09-03T16:50:08.975Z"
   },
   {
    "duration": 3531,
    "start_time": "2022-09-03T16:50:09.999Z"
   },
   {
    "duration": 72,
    "start_time": "2022-09-03T16:50:13.532Z"
   },
   {
    "duration": 183,
    "start_time": "2022-09-03T16:50:13.605Z"
   },
   {
    "duration": 20,
    "start_time": "2022-09-03T16:50:15.486Z"
   },
   {
    "duration": 4,
    "start_time": "2022-09-03T16:50:16.158Z"
   },
   {
    "duration": 4,
    "start_time": "2022-09-03T16:50:16.886Z"
   },
   {
    "duration": 11,
    "start_time": "2022-09-03T16:50:18.073Z"
   },
   {
    "duration": 78,
    "start_time": "2022-09-03T16:50:18.671Z"
   },
   {
    "duration": 2,
    "start_time": "2022-09-03T16:50:19.722Z"
   },
   {
    "duration": 2828,
    "start_time": "2022-09-03T16:50:20.713Z"
   },
   {
    "duration": 1416,
    "start_time": "2022-09-03T16:50:29.449Z"
   },
   {
    "duration": 1775,
    "start_time": "2022-09-03T16:50:32.149Z"
   },
   {
    "duration": 16,
    "start_time": "2022-09-03T16:50:35.219Z"
   },
   {
    "duration": 3,
    "start_time": "2022-09-03T16:50:38.603Z"
   },
   {
    "duration": 2,
    "start_time": "2022-09-03T16:50:41.623Z"
   },
   {
    "duration": 1309242,
    "start_time": "2022-09-03T16:51:13.686Z"
   },
   {
    "duration": 4,
    "start_time": "2022-09-03T17:13:20.255Z"
   },
   {
    "duration": 4,
    "start_time": "2022-09-03T17:13:51.300Z"
   },
   {
    "duration": 3,
    "start_time": "2022-09-03T17:14:13.268Z"
   },
   {
    "duration": 66440,
    "start_time": "2022-09-03T17:16:17.877Z"
   },
   {
    "duration": 4,
    "start_time": "2022-09-03T17:19:17.727Z"
   },
   {
    "duration": 9,
    "start_time": "2022-09-03T17:26:36.757Z"
   },
   {
    "duration": 1344,
    "start_time": "2022-09-03T17:28:31.642Z"
   },
   {
    "duration": 1063,
    "start_time": "2022-09-03T17:28:33.231Z"
   },
   {
    "duration": 6,
    "start_time": "2022-09-03T17:28:34.431Z"
   },
   {
    "duration": 20,
    "start_time": "2022-09-03T17:28:35.944Z"
   },
   {
    "duration": 156,
    "start_time": "2022-09-03T17:28:41.620Z"
   },
   {
    "duration": 289,
    "start_time": "2022-09-03T17:28:46.681Z"
   },
   {
    "duration": 89,
    "start_time": "2022-09-03T17:28:47.796Z"
   },
   {
    "duration": 268,
    "start_time": "2022-09-03T17:28:51.516Z"
   },
   {
    "duration": 294,
    "start_time": "2022-09-03T17:28:52.773Z"
   },
   {
    "duration": 21,
    "start_time": "2022-09-03T17:28:54.058Z"
   },
   {
    "duration": 63,
    "start_time": "2022-09-03T17:28:55.462Z"
   },
   {
    "duration": 265,
    "start_time": "2022-09-03T17:28:56.960Z"
   },
   {
    "duration": 140,
    "start_time": "2022-09-03T17:28:58.901Z"
   },
   {
    "duration": 440,
    "start_time": "2022-09-03T17:29:00.062Z"
   },
   {
    "duration": 286,
    "start_time": "2022-09-03T17:29:01.509Z"
   },
   {
    "duration": 24,
    "start_time": "2022-09-03T17:29:03.031Z"
   },
   {
    "duration": 8,
    "start_time": "2022-09-03T17:29:03.647Z"
   },
   {
    "duration": 147,
    "start_time": "2022-09-03T17:29:04.749Z"
   },
   {
    "duration": 22,
    "start_time": "2022-09-03T17:29:06.000Z"
   },
   {
    "duration": 5,
    "start_time": "2022-09-03T17:29:06.837Z"
   },
   {
    "duration": 60,
    "start_time": "2022-09-03T17:29:08.238Z"
   },
   {
    "duration": 3645,
    "start_time": "2022-09-03T17:29:09.541Z"
   },
   {
    "duration": 72,
    "start_time": "2022-09-03T17:29:18.301Z"
   },
   {
    "duration": 185,
    "start_time": "2022-09-03T17:29:19.259Z"
   },
   {
    "duration": 20,
    "start_time": "2022-09-03T17:29:20.590Z"
   },
   {
    "duration": 4,
    "start_time": "2022-09-03T17:29:21.544Z"
   },
   {
    "duration": 3,
    "start_time": "2022-09-03T17:29:23.124Z"
   },
   {
    "duration": 12,
    "start_time": "2022-09-03T17:29:24.186Z"
   },
   {
    "duration": 87,
    "start_time": "2022-09-03T17:29:25.830Z"
   },
   {
    "duration": 3,
    "start_time": "2022-09-03T17:29:27.861Z"
   },
   {
    "duration": 3405,
    "start_time": "2022-09-03T17:29:28.842Z"
   },
   {
    "duration": 108,
    "start_time": "2022-09-03T17:29:32.249Z"
   },
   {
    "duration": 9,
    "start_time": "2022-09-03T17:29:32.554Z"
   },
   {
    "duration": 1696,
    "start_time": "2022-09-03T17:30:02.887Z"
   },
   {
    "duration": 811,
    "start_time": "2022-09-03T17:30:04.585Z"
   },
   {
    "duration": 4,
    "start_time": "2022-09-03T17:30:05.398Z"
   },
   {
    "duration": 16,
    "start_time": "2022-09-03T17:30:07.467Z"
   },
   {
    "duration": 138,
    "start_time": "2022-09-03T17:30:09.307Z"
   },
   {
    "duration": 275,
    "start_time": "2022-09-03T17:30:10.730Z"
   },
   {
    "duration": 92,
    "start_time": "2022-09-03T17:30:11.698Z"
   },
   {
    "duration": 273,
    "start_time": "2022-09-03T17:30:13.537Z"
   },
   {
    "duration": 286,
    "start_time": "2022-09-03T17:30:14.411Z"
   },
   {
    "duration": 22,
    "start_time": "2022-09-03T17:30:15.831Z"
   },
   {
    "duration": 64,
    "start_time": "2022-09-03T17:30:17.448Z"
   },
   {
    "duration": 250,
    "start_time": "2022-09-03T17:30:18.465Z"
   },
   {
    "duration": 143,
    "start_time": "2022-09-03T17:30:19.651Z"
   },
   {
    "duration": 428,
    "start_time": "2022-09-03T17:30:21.341Z"
   },
   {
    "duration": 254,
    "start_time": "2022-09-03T17:30:22.649Z"
   },
   {
    "duration": 24,
    "start_time": "2022-09-03T17:30:24.005Z"
   },
   {
    "duration": 7,
    "start_time": "2022-09-03T17:30:24.717Z"
   },
   {
    "duration": 138,
    "start_time": "2022-09-03T17:30:25.323Z"
   },
   {
    "duration": 19,
    "start_time": "2022-09-03T17:30:26.857Z"
   },
   {
    "duration": 7,
    "start_time": "2022-09-03T17:30:27.667Z"
   },
   {
    "duration": 59,
    "start_time": "2022-09-03T17:30:28.602Z"
   },
   {
    "duration": 3628,
    "start_time": "2022-09-03T17:30:30.798Z"
   },
   {
    "duration": 77,
    "start_time": "2022-09-03T17:30:34.428Z"
   },
   {
    "duration": 183,
    "start_time": "2022-09-03T17:30:36.857Z"
   },
   {
    "duration": 21,
    "start_time": "2022-09-03T17:30:38.305Z"
   },
   {
    "duration": 4,
    "start_time": "2022-09-03T17:30:39.498Z"
   },
   {
    "duration": 5,
    "start_time": "2022-09-03T17:30:40.061Z"
   },
   {
    "duration": 11,
    "start_time": "2022-09-03T17:30:41.257Z"
   },
   {
    "duration": 94,
    "start_time": "2022-09-03T17:30:42.182Z"
   },
   {
    "duration": 3,
    "start_time": "2022-09-03T17:30:42.775Z"
   },
   {
    "duration": 3227,
    "start_time": "2022-09-03T17:30:43.303Z"
   },
   {
    "duration": 1421,
    "start_time": "2022-09-03T17:30:47.858Z"
   },
   {
    "duration": 1778,
    "start_time": "2022-09-03T17:30:50.477Z"
   },
   {
    "duration": 16,
    "start_time": "2022-09-03T17:30:53.464Z"
   },
   {
    "duration": 3,
    "start_time": "2022-09-03T17:30:55.153Z"
   },
   {
    "duration": 3,
    "start_time": "2022-09-03T17:30:57.219Z"
   },
   {
    "duration": 1312,
    "start_time": "2022-09-03T17:33:07.863Z"
   },
   {
    "duration": 1064,
    "start_time": "2022-09-03T17:33:09.176Z"
   },
   {
    "duration": 5,
    "start_time": "2022-09-03T17:33:10.242Z"
   },
   {
    "duration": 15,
    "start_time": "2022-09-03T17:33:10.831Z"
   },
   {
    "duration": 121,
    "start_time": "2022-09-03T17:33:11.867Z"
   },
   {
    "duration": 275,
    "start_time": "2022-09-03T17:33:12.665Z"
   },
   {
    "duration": 92,
    "start_time": "2022-09-03T17:33:13.425Z"
   },
   {
    "duration": 260,
    "start_time": "2022-09-03T17:33:15.065Z"
   },
   {
    "duration": 324,
    "start_time": "2022-09-03T17:33:15.738Z"
   },
   {
    "duration": 20,
    "start_time": "2022-09-03T17:33:16.994Z"
   },
   {
    "duration": 50,
    "start_time": "2022-09-03T17:33:18.474Z"
   },
   {
    "duration": 250,
    "start_time": "2022-09-03T17:33:19.902Z"
   },
   {
    "duration": 145,
    "start_time": "2022-09-03T17:33:21.449Z"
   },
   {
    "duration": 414,
    "start_time": "2022-09-03T17:33:22.635Z"
   },
   {
    "duration": 260,
    "start_time": "2022-09-03T17:33:24.002Z"
   },
   {
    "duration": 24,
    "start_time": "2022-09-03T17:33:25.281Z"
   },
   {
    "duration": 8,
    "start_time": "2022-09-03T17:33:26.101Z"
   },
   {
    "duration": 144,
    "start_time": "2022-09-03T17:33:27.451Z"
   },
   {
    "duration": 20,
    "start_time": "2022-09-03T17:33:29.137Z"
   },
   {
    "duration": 5,
    "start_time": "2022-09-03T17:33:29.920Z"
   },
   {
    "duration": 60,
    "start_time": "2022-09-03T17:33:31.066Z"
   },
   {
    "duration": 1382,
    "start_time": "2022-09-03T17:33:42.913Z"
   },
   {
    "duration": 782,
    "start_time": "2022-09-03T17:33:44.984Z"
   },
   {
    "duration": 5,
    "start_time": "2022-09-03T17:33:45.859Z"
   },
   {
    "duration": 15,
    "start_time": "2022-09-03T17:33:47.999Z"
   },
   {
    "duration": 142,
    "start_time": "2022-09-03T17:33:49.152Z"
   },
   {
    "duration": 288,
    "start_time": "2022-09-03T17:33:50.680Z"
   },
   {
    "duration": 92,
    "start_time": "2022-09-03T17:33:51.851Z"
   },
   {
    "duration": 276,
    "start_time": "2022-09-03T17:33:53.198Z"
   },
   {
    "duration": 288,
    "start_time": "2022-09-03T17:33:54.662Z"
   },
   {
    "duration": 22,
    "start_time": "2022-09-03T17:33:55.959Z"
   },
   {
    "duration": 67,
    "start_time": "2022-09-03T17:33:58.415Z"
   },
   {
    "duration": 260,
    "start_time": "2022-09-03T17:33:59.579Z"
   },
   {
    "duration": 140,
    "start_time": "2022-09-03T17:34:00.811Z"
   },
   {
    "duration": 445,
    "start_time": "2022-09-03T17:34:02.109Z"
   },
   {
    "duration": 289,
    "start_time": "2022-09-03T17:34:03.958Z"
   },
   {
    "duration": 24,
    "start_time": "2022-09-03T17:34:05.617Z"
   },
   {
    "duration": 7,
    "start_time": "2022-09-03T17:34:07.005Z"
   },
   {
    "duration": 143,
    "start_time": "2022-09-03T17:34:07.734Z"
   },
   {
    "duration": 19,
    "start_time": "2022-09-03T17:34:08.894Z"
   },
   {
    "duration": 5,
    "start_time": "2022-09-03T17:34:09.630Z"
   },
   {
    "duration": 65,
    "start_time": "2022-09-03T17:34:10.766Z"
   },
   {
    "duration": 3528,
    "start_time": "2022-09-03T17:34:12.158Z"
   },
   {
    "duration": 72,
    "start_time": "2022-09-03T17:34:17.458Z"
   },
   {
    "duration": 187,
    "start_time": "2022-09-03T17:34:18.422Z"
   },
   {
    "duration": 20,
    "start_time": "2022-09-03T17:34:19.499Z"
   },
   {
    "duration": 4,
    "start_time": "2022-09-03T17:34:20.292Z"
   },
   {
    "duration": 3,
    "start_time": "2022-09-03T17:34:20.971Z"
   },
   {
    "duration": 11,
    "start_time": "2022-09-03T17:34:22.489Z"
   },
   {
    "duration": 79,
    "start_time": "2022-09-03T17:34:23.510Z"
   },
   {
    "duration": 3,
    "start_time": "2022-09-03T17:34:24.280Z"
   },
   {
    "duration": 2880,
    "start_time": "2022-09-03T17:34:24.948Z"
   },
   {
    "duration": 1436,
    "start_time": "2022-09-03T17:34:28.955Z"
   },
   {
    "duration": 1788,
    "start_time": "2022-09-03T17:34:30.510Z"
   },
   {
    "duration": 16,
    "start_time": "2022-09-03T17:34:32.300Z"
   },
   {
    "duration": 3,
    "start_time": "2022-09-03T17:34:35.068Z"
   },
   {
    "duration": 2,
    "start_time": "2022-09-03T17:34:35.676Z"
   },
   {
    "duration": 662,
    "start_time": "2022-09-03T17:35:57.289Z"
   },
   {
    "duration": 1068,
    "start_time": "2022-09-03T17:35:58.878Z"
   },
   {
    "duration": 4,
    "start_time": "2022-09-03T17:35:59.948Z"
   },
   {
    "duration": 14,
    "start_time": "2022-09-03T17:36:00.920Z"
   },
   {
    "duration": 124,
    "start_time": "2022-09-03T17:36:02.302Z"
   },
   {
    "duration": 276,
    "start_time": "2022-09-03T17:36:04.011Z"
   },
   {
    "duration": 98,
    "start_time": "2022-09-03T17:36:04.653Z"
   },
   {
    "duration": 287,
    "start_time": "2022-09-03T17:36:05.766Z"
   },
   {
    "duration": 295,
    "start_time": "2022-09-03T17:36:06.400Z"
   },
   {
    "duration": 19,
    "start_time": "2022-09-03T17:36:08.163Z"
   },
   {
    "duration": 52,
    "start_time": "2022-09-03T17:36:09.788Z"
   },
   {
    "duration": 246,
    "start_time": "2022-09-03T17:36:10.653Z"
   },
   {
    "duration": 138,
    "start_time": "2022-09-03T17:36:11.966Z"
   },
   {
    "duration": 386,
    "start_time": "2022-09-03T17:36:13.171Z"
   },
   {
    "duration": 253,
    "start_time": "2022-09-03T17:36:14.513Z"
   },
   {
    "duration": 30,
    "start_time": "2022-09-03T17:36:15.971Z"
   },
   {
    "duration": 7,
    "start_time": "2022-09-03T17:36:16.731Z"
   },
   {
    "duration": 142,
    "start_time": "2022-09-03T17:36:17.857Z"
   },
   {
    "duration": 20,
    "start_time": "2022-09-03T17:36:19.129Z"
   },
   {
    "duration": 5,
    "start_time": "2022-09-03T17:36:19.747Z"
   },
   {
    "duration": 67,
    "start_time": "2022-09-03T17:36:20.979Z"
   },
   {
    "duration": 117,
    "start_time": "2022-09-03T17:36:23.264Z"
   },
   {
    "duration": 3628,
    "start_time": "2022-09-03T17:36:26.002Z"
   },
   {
    "duration": 73,
    "start_time": "2022-09-03T17:36:31.808Z"
   },
   {
    "duration": 182,
    "start_time": "2022-09-03T17:36:32.828Z"
   },
   {
    "duration": 21,
    "start_time": "2022-09-03T17:36:34.045Z"
   },
   {
    "duration": 4,
    "start_time": "2022-09-03T17:36:34.955Z"
   },
   {
    "duration": 3,
    "start_time": "2022-09-03T17:36:36.461Z"
   },
   {
    "duration": 12,
    "start_time": "2022-09-03T17:36:37.434Z"
   },
   {
    "duration": 86,
    "start_time": "2022-09-03T17:36:38.721Z"
   },
   {
    "duration": 2,
    "start_time": "2022-09-03T17:36:40.546Z"
   },
   {
    "duration": 3156,
    "start_time": "2022-09-03T17:36:41.376Z"
   },
   {
    "duration": 1475,
    "start_time": "2022-09-03T17:36:45.388Z"
   },
   {
    "duration": 1872,
    "start_time": "2022-09-03T17:36:46.865Z"
   },
   {
    "duration": 17,
    "start_time": "2022-09-03T17:36:48.739Z"
   },
   {
    "duration": 3,
    "start_time": "2022-09-03T17:36:51.241Z"
   },
   {
    "duration": 3,
    "start_time": "2022-09-03T17:36:51.904Z"
   },
   {
    "duration": 14390,
    "start_time": "2022-09-03T17:38:46.331Z"
   },
   {
    "duration": 14781,
    "start_time": "2022-09-03T17:39:37.687Z"
   },
   {
    "duration": 21922,
    "start_time": "2022-09-03T17:40:38.288Z"
   },
   {
    "duration": 9,
    "start_time": "2022-09-03T17:41:34.751Z"
   },
   {
    "duration": 42,
    "start_time": "2022-09-03T17:44:39.012Z"
   },
   {
    "duration": 1366,
    "start_time": "2022-09-03T17:53:24.741Z"
   },
   {
    "duration": 751,
    "start_time": "2022-09-03T17:53:26.109Z"
   },
   {
    "duration": 5,
    "start_time": "2022-09-03T17:53:26.862Z"
   },
   {
    "duration": 17,
    "start_time": "2022-09-03T17:53:26.868Z"
   },
   {
    "duration": 147,
    "start_time": "2022-09-03T17:53:26.886Z"
   },
   {
    "duration": 336,
    "start_time": "2022-09-03T17:53:27.034Z"
   },
   {
    "duration": 113,
    "start_time": "2022-09-03T17:53:27.372Z"
   },
   {
    "duration": 291,
    "start_time": "2022-09-03T17:53:27.487Z"
   },
   {
    "duration": 324,
    "start_time": "2022-09-03T17:53:27.780Z"
   },
   {
    "duration": 22,
    "start_time": "2022-09-03T17:53:28.108Z"
   },
   {
    "duration": 78,
    "start_time": "2022-09-03T17:53:28.132Z"
   },
   {
    "duration": 243,
    "start_time": "2022-09-03T17:53:28.211Z"
   },
   {
    "duration": 136,
    "start_time": "2022-09-03T17:53:28.455Z"
   },
   {
    "duration": 442,
    "start_time": "2022-09-03T17:53:28.593Z"
   },
   {
    "duration": 260,
    "start_time": "2022-09-03T17:53:29.036Z"
   },
   {
    "duration": 28,
    "start_time": "2022-09-03T17:53:29.298Z"
   },
   {
    "duration": 8,
    "start_time": "2022-09-03T17:53:29.327Z"
   },
   {
    "duration": 163,
    "start_time": "2022-09-03T17:53:29.336Z"
   },
   {
    "duration": 26,
    "start_time": "2022-09-03T17:53:29.500Z"
   },
   {
    "duration": 5,
    "start_time": "2022-09-03T17:53:29.528Z"
   },
   {
    "duration": 78,
    "start_time": "2022-09-03T17:53:29.534Z"
   },
   {
    "duration": 3561,
    "start_time": "2022-09-03T17:53:29.613Z"
   },
   {
    "duration": 76,
    "start_time": "2022-09-03T17:53:33.176Z"
   },
   {
    "duration": 184,
    "start_time": "2022-09-03T17:53:33.253Z"
   },
   {
    "duration": 19,
    "start_time": "2022-09-03T17:53:33.439Z"
   },
   {
    "duration": 4,
    "start_time": "2022-09-03T17:53:33.459Z"
   },
   {
    "duration": 15,
    "start_time": "2022-09-03T17:53:33.465Z"
   },
   {
    "duration": 27,
    "start_time": "2022-09-03T17:53:33.483Z"
   },
   {
    "duration": 82,
    "start_time": "2022-09-03T17:53:33.512Z"
   },
   {
    "duration": 15,
    "start_time": "2022-09-03T17:53:33.595Z"
   },
   {
    "duration": 3203,
    "start_time": "2022-09-03T17:53:33.612Z"
   },
   {
    "duration": 1463,
    "start_time": "2022-09-03T17:53:36.817Z"
   },
   {
    "duration": 1829,
    "start_time": "2022-09-03T17:53:38.282Z"
   },
   {
    "duration": 17,
    "start_time": "2022-09-03T17:53:40.113Z"
   },
   {
    "duration": 4,
    "start_time": "2022-09-03T17:53:40.132Z"
   },
   {
    "duration": 5,
    "start_time": "2022-09-03T17:53:40.137Z"
   },
   {
    "duration": 5,
    "start_time": "2022-09-03T17:53:40.144Z"
   },
   {
    "duration": 5,
    "start_time": "2022-09-03T17:53:40.151Z"
   },
   {
    "duration": 5,
    "start_time": "2022-09-03T17:53:40.158Z"
   },
   {
    "duration": 15147,
    "start_time": "2022-09-03T17:53:40.164Z"
   },
   {
    "duration": 981500,
    "start_time": "2022-09-03T17:53:55.314Z"
   },
   {
    "duration": 84375,
    "start_time": "2022-09-03T18:11:16.721Z"
   },
   {
    "duration": 5,
    "start_time": "2022-09-03T18:13:37.107Z"
   },
   {
    "duration": 84538,
    "start_time": "2022-09-03T18:14:09.435Z"
   },
   {
    "duration": 83863,
    "start_time": "2022-09-03T18:29:27.027Z"
   },
   {
    "duration": 1590,
    "start_time": "2022-09-04T07:17:26.235Z"
   },
   {
    "duration": 1094,
    "start_time": "2022-09-04T07:17:27.828Z"
   },
   {
    "duration": 7,
    "start_time": "2022-09-04T07:17:28.925Z"
   },
   {
    "duration": 30,
    "start_time": "2022-09-04T07:17:28.934Z"
   },
   {
    "duration": 147,
    "start_time": "2022-09-04T07:17:28.965Z"
   },
   {
    "duration": 289,
    "start_time": "2022-09-04T07:17:29.115Z"
   },
   {
    "duration": 107,
    "start_time": "2022-09-04T07:17:29.406Z"
   },
   {
    "duration": 272,
    "start_time": "2022-09-04T07:17:29.514Z"
   },
   {
    "duration": 317,
    "start_time": "2022-09-04T07:17:29.788Z"
   },
   {
    "duration": 20,
    "start_time": "2022-09-04T07:17:30.108Z"
   },
   {
    "duration": 58,
    "start_time": "2022-09-04T07:17:30.130Z"
   },
   {
    "duration": 312,
    "start_time": "2022-09-04T07:17:30.190Z"
   },
   {
    "duration": 166,
    "start_time": "2022-09-04T07:17:30.505Z"
   },
   {
    "duration": 415,
    "start_time": "2022-09-04T07:17:30.673Z"
   },
   {
    "duration": 388,
    "start_time": "2022-09-04T07:17:31.091Z"
   },
   {
    "duration": 36,
    "start_time": "2022-09-04T07:17:31.481Z"
   },
   {
    "duration": 9,
    "start_time": "2022-09-04T07:17:31.519Z"
   },
   {
    "duration": 198,
    "start_time": "2022-09-04T07:17:31.530Z"
   },
   {
    "duration": 21,
    "start_time": "2022-09-04T07:17:31.730Z"
   },
   {
    "duration": 12,
    "start_time": "2022-09-04T07:17:31.753Z"
   },
   {
    "duration": 74,
    "start_time": "2022-09-04T07:17:31.767Z"
   },
   {
    "duration": 4014,
    "start_time": "2022-09-04T07:17:31.843Z"
   },
   {
    "duration": 70,
    "start_time": "2022-09-04T07:17:35.859Z"
   },
   {
    "duration": 214,
    "start_time": "2022-09-04T07:17:35.930Z"
   },
   {
    "duration": 21,
    "start_time": "2022-09-04T07:17:36.146Z"
   },
   {
    "duration": 3,
    "start_time": "2022-09-04T07:17:36.169Z"
   },
   {
    "duration": 6,
    "start_time": "2022-09-04T07:17:36.174Z"
   },
   {
    "duration": 12,
    "start_time": "2022-09-04T07:17:36.203Z"
   },
   {
    "duration": 107,
    "start_time": "2022-09-04T07:17:36.217Z"
   },
   {
    "duration": 3,
    "start_time": "2022-09-04T07:17:36.326Z"
   },
   {
    "duration": 2723,
    "start_time": "2022-09-04T07:17:36.331Z"
   },
   {
    "duration": 1570,
    "start_time": "2022-09-04T07:17:39.056Z"
   },
   {
    "duration": 1838,
    "start_time": "2022-09-04T07:17:40.628Z"
   },
   {
    "duration": 18,
    "start_time": "2022-09-04T07:17:42.467Z"
   },
   {
    "duration": 4,
    "start_time": "2022-09-04T07:17:42.486Z"
   },
   {
    "duration": 5,
    "start_time": "2022-09-04T07:17:42.502Z"
   },
   {
    "duration": 12,
    "start_time": "2022-09-04T07:17:42.508Z"
   },
   {
    "duration": 7,
    "start_time": "2022-09-04T07:17:42.521Z"
   },
   {
    "duration": 6,
    "start_time": "2022-09-04T07:17:42.529Z"
   },
   {
    "duration": 9,
    "start_time": "2022-09-04T07:17:42.536Z"
   },
   {
    "duration": 9,
    "start_time": "2022-09-04T07:17:42.546Z"
   },
   {
    "duration": 5,
    "start_time": "2022-09-04T07:17:42.556Z"
   },
   {
    "duration": 7,
    "start_time": "2022-09-04T07:17:42.563Z"
   },
   {
    "duration": 4,
    "start_time": "2022-09-04T07:17:42.572Z"
   },
   {
    "duration": 4,
    "start_time": "2022-09-04T07:17:42.578Z"
   },
   {
    "duration": 238154,
    "start_time": "2022-09-04T07:33:12.163Z"
   },
   {
    "duration": 1503,
    "start_time": "2022-09-04T07:37:49.198Z"
   },
   {
    "duration": 1098,
    "start_time": "2022-09-04T07:37:50.703Z"
   },
   {
    "duration": 5,
    "start_time": "2022-09-04T07:37:51.803Z"
   },
   {
    "duration": 37,
    "start_time": "2022-09-04T07:37:51.811Z"
   },
   {
    "duration": 126,
    "start_time": "2022-09-04T07:37:51.849Z"
   },
   {
    "duration": 305,
    "start_time": "2022-09-04T07:37:51.976Z"
   },
   {
    "duration": 112,
    "start_time": "2022-09-04T07:37:52.283Z"
   },
   {
    "duration": 286,
    "start_time": "2022-09-04T07:37:52.397Z"
   },
   {
    "duration": 309,
    "start_time": "2022-09-04T07:37:52.684Z"
   },
   {
    "duration": 28,
    "start_time": "2022-09-04T07:37:52.995Z"
   },
   {
    "duration": 59,
    "start_time": "2022-09-04T07:37:53.024Z"
   },
   {
    "duration": 284,
    "start_time": "2022-09-04T07:37:53.085Z"
   },
   {
    "duration": 163,
    "start_time": "2022-09-04T07:37:53.371Z"
   },
   {
    "duration": 420,
    "start_time": "2022-09-04T07:37:53.536Z"
   },
   {
    "duration": 382,
    "start_time": "2022-09-04T07:37:53.958Z"
   },
   {
    "duration": 25,
    "start_time": "2022-09-04T07:37:54.342Z"
   },
   {
    "duration": 8,
    "start_time": "2022-09-04T07:37:54.369Z"
   },
   {
    "duration": 184,
    "start_time": "2022-09-04T07:37:54.378Z"
   },
   {
    "duration": 20,
    "start_time": "2022-09-04T07:37:54.564Z"
   },
   {
    "duration": 17,
    "start_time": "2022-09-04T07:37:54.586Z"
   },
   {
    "duration": 59,
    "start_time": "2022-09-04T07:37:54.605Z"
   },
   {
    "duration": 4111,
    "start_time": "2022-09-04T07:37:54.666Z"
   },
   {
    "duration": 72,
    "start_time": "2022-09-04T07:37:58.779Z"
   },
   {
    "duration": 276,
    "start_time": "2022-09-04T07:37:58.852Z"
   },
   {
    "duration": 21,
    "start_time": "2022-09-04T07:37:59.131Z"
   },
   {
    "duration": 5,
    "start_time": "2022-09-04T07:37:59.154Z"
   },
   {
    "duration": 5,
    "start_time": "2022-09-04T07:37:59.161Z"
   },
   {
    "duration": 36,
    "start_time": "2022-09-04T07:37:59.171Z"
   },
   {
    "duration": 105,
    "start_time": "2022-09-04T07:37:59.209Z"
   },
   {
    "duration": 3,
    "start_time": "2022-09-04T07:37:59.316Z"
   },
   {
    "duration": 2867,
    "start_time": "2022-09-04T07:37:59.321Z"
   },
   {
    "duration": 1480,
    "start_time": "2022-09-04T07:38:02.191Z"
   },
   {
    "duration": 1838,
    "start_time": "2022-09-04T07:38:03.672Z"
   },
   {
    "duration": 18,
    "start_time": "2022-09-04T07:38:05.512Z"
   },
   {
    "duration": 4,
    "start_time": "2022-09-04T07:38:05.532Z"
   },
   {
    "duration": 6,
    "start_time": "2022-09-04T07:38:05.538Z"
   },
   {
    "duration": 6,
    "start_time": "2022-09-04T07:38:05.546Z"
   },
   {
    "duration": 5,
    "start_time": "2022-09-04T07:38:05.553Z"
   },
   {
    "duration": 7,
    "start_time": "2022-09-04T07:38:05.560Z"
   },
   {
    "duration": 5,
    "start_time": "2022-09-04T07:38:05.569Z"
   },
   {
    "duration": 28,
    "start_time": "2022-09-04T07:38:05.575Z"
   },
   {
    "duration": 2,
    "start_time": "2022-09-04T07:38:05.605Z"
   },
   {
    "duration": 7,
    "start_time": "2022-09-04T07:38:05.609Z"
   },
   {
    "duration": 20,
    "start_time": "2022-09-04T07:38:05.617Z"
   },
   {
    "duration": 8,
    "start_time": "2022-09-04T07:38:05.639Z"
   },
   {
    "duration": 3,
    "start_time": "2022-09-04T07:45:39.665Z"
   },
   {
    "duration": 329348,
    "start_time": "2022-09-04T07:45:57.756Z"
   },
   {
    "duration": 4,
    "start_time": "2022-09-04T07:51:45.988Z"
   },
   {
    "duration": 4,
    "start_time": "2022-09-04T07:51:53.525Z"
   },
   {
    "duration": 4,
    "start_time": "2022-09-04T07:51:59.415Z"
   },
   {
    "duration": 5,
    "start_time": "2022-09-04T07:52:59.435Z"
   },
   {
    "duration": 9,
    "start_time": "2022-09-04T07:53:06.385Z"
   },
   {
    "duration": 4,
    "start_time": "2022-09-04T07:53:12.854Z"
   },
   {
    "duration": 8,
    "start_time": "2022-09-04T07:53:17.893Z"
   },
   {
    "duration": 7,
    "start_time": "2022-09-04T07:53:58.225Z"
   },
   {
    "duration": 4,
    "start_time": "2022-09-04T07:54:04.707Z"
   },
   {
    "duration": 4,
    "start_time": "2022-09-04T07:54:08.606Z"
   },
   {
    "duration": 7,
    "start_time": "2022-09-04T07:54:28.077Z"
   },
   {
    "duration": 5,
    "start_time": "2022-09-04T07:55:34.087Z"
   },
   {
    "duration": 11631,
    "start_time": "2022-09-04T07:57:52.375Z"
   },
   {
    "duration": 138,
    "start_time": "2022-09-04T07:59:19.549Z"
   },
   {
    "duration": 125,
    "start_time": "2022-09-04T07:59:29.742Z"
   },
   {
    "duration": 159,
    "start_time": "2022-09-04T07:59:38.954Z"
   },
   {
    "duration": 1426,
    "start_time": "2022-09-04T08:01:16.480Z"
   },
   {
    "duration": 801,
    "start_time": "2022-09-04T08:01:26.487Z"
   },
   {
    "duration": 6,
    "start_time": "2022-09-04T08:01:28.442Z"
   },
   {
    "duration": 17,
    "start_time": "2022-09-04T08:01:29.915Z"
   },
   {
    "duration": 113,
    "start_time": "2022-09-04T08:01:32.027Z"
   },
   {
    "duration": 301,
    "start_time": "2022-09-04T08:01:33.540Z"
   },
   {
    "duration": 100,
    "start_time": "2022-09-04T08:01:36.616Z"
   },
   {
    "duration": 326,
    "start_time": "2022-09-04T08:04:18.273Z"
   },
   {
    "duration": 118,
    "start_time": "2022-09-04T08:04:35.478Z"
   },
   {
    "duration": 367,
    "start_time": "2022-09-04T08:04:48.933Z"
   },
   {
    "duration": 1879,
    "start_time": "2022-09-04T08:06:16.249Z"
   },
   {
    "duration": 854,
    "start_time": "2022-09-04T08:06:19.787Z"
   },
   {
    "duration": 6,
    "start_time": "2022-09-04T08:06:22.020Z"
   },
   {
    "duration": 23,
    "start_time": "2022-09-04T08:07:59.609Z"
   },
   {
    "duration": 137,
    "start_time": "2022-09-04T08:08:01.883Z"
   },
   {
    "duration": 344,
    "start_time": "2022-09-04T08:08:10.787Z"
   },
   {
    "duration": 108,
    "start_time": "2022-09-04T08:08:12.618Z"
   },
   {
    "duration": 328,
    "start_time": "2022-09-04T08:08:19.087Z"
   },
   {
    "duration": 358,
    "start_time": "2022-09-04T08:08:20.618Z"
   },
   {
    "duration": 73,
    "start_time": "2022-09-04T08:08:26.200Z"
   },
   {
    "duration": 290,
    "start_time": "2022-09-04T08:08:34.401Z"
   },
   {
    "duration": 158,
    "start_time": "2022-09-04T08:08:38.595Z"
   },
   {
    "duration": 403,
    "start_time": "2022-09-04T08:08:53.058Z"
   },
   {
    "duration": 395,
    "start_time": "2022-09-04T08:08:56.346Z"
   },
   {
    "duration": 26,
    "start_time": "2022-09-04T08:09:06.320Z"
   },
   {
    "duration": 8,
    "start_time": "2022-09-04T08:09:09.332Z"
   },
   {
    "duration": 186,
    "start_time": "2022-09-04T08:09:10.558Z"
   },
   {
    "duration": 21,
    "start_time": "2022-09-04T08:09:25.765Z"
   },
   {
    "duration": 6,
    "start_time": "2022-09-04T08:09:26.887Z"
   },
   {
    "duration": 63,
    "start_time": "2022-09-04T08:09:28.843Z"
   },
   {
    "duration": 3882,
    "start_time": "2022-09-04T08:09:34.175Z"
   },
   {
    "duration": 3902,
    "start_time": "2022-09-04T08:13:35.067Z"
   },
   {
    "duration": 4305,
    "start_time": "2022-09-04T08:13:47.451Z"
   },
   {
    "duration": 4129,
    "start_time": "2022-09-04T08:14:03.934Z"
   },
   {
    "duration": 72,
    "start_time": "2022-09-04T08:26:02.177Z"
   },
   {
    "duration": 1402,
    "start_time": "2022-09-04T08:26:14.256Z"
   },
   {
    "duration": 808,
    "start_time": "2022-09-04T08:26:15.660Z"
   },
   {
    "duration": 6,
    "start_time": "2022-09-04T08:26:16.470Z"
   },
   {
    "duration": 16,
    "start_time": "2022-09-04T08:26:18.400Z"
   },
   {
    "duration": 114,
    "start_time": "2022-09-04T08:26:20.058Z"
   },
   {
    "duration": 283,
    "start_time": "2022-09-04T08:26:20.953Z"
   },
   {
    "duration": 106,
    "start_time": "2022-09-04T08:26:22.039Z"
   },
   {
    "duration": 264,
    "start_time": "2022-09-04T08:26:43.811Z"
   },
   {
    "duration": 335,
    "start_time": "2022-09-04T08:26:44.720Z"
   },
   {
    "duration": 55,
    "start_time": "2022-09-04T08:26:45.916Z"
   },
   {
    "duration": 289,
    "start_time": "2022-09-04T08:26:46.985Z"
   },
   {
    "duration": 157,
    "start_time": "2022-09-04T08:26:50.431Z"
   },
   {
    "duration": 381,
    "start_time": "2022-09-04T08:26:51.617Z"
   },
   {
    "duration": 384,
    "start_time": "2022-09-04T08:26:57.434Z"
   },
   {
    "duration": 26,
    "start_time": "2022-09-04T08:26:59.545Z"
   },
   {
    "duration": 8,
    "start_time": "2022-09-04T08:27:01.041Z"
   },
   {
    "duration": 160,
    "start_time": "2022-09-04T08:27:03.045Z"
   },
   {
    "duration": 21,
    "start_time": "2022-09-04T08:27:07.021Z"
   },
   {
    "duration": 5,
    "start_time": "2022-09-04T08:27:07.981Z"
   },
   {
    "duration": 124,
    "start_time": "2022-09-04T08:27:22.937Z"
   },
   {
    "duration": 8,
    "start_time": "2022-09-04T08:27:26.950Z"
   },
   {
    "duration": 6,
    "start_time": "2022-09-04T08:27:45.819Z"
   },
   {
    "duration": 1407,
    "start_time": "2022-09-04T08:27:59.503Z"
   },
   {
    "duration": 847,
    "start_time": "2022-09-04T08:28:00.917Z"
   },
   {
    "duration": 5,
    "start_time": "2022-09-04T08:28:02.067Z"
   },
   {
    "duration": 21,
    "start_time": "2022-09-04T08:28:03.032Z"
   },
   {
    "duration": 124,
    "start_time": "2022-09-04T08:28:04.167Z"
   },
   {
    "duration": 308,
    "start_time": "2022-09-04T08:28:05.525Z"
   },
   {
    "duration": 104,
    "start_time": "2022-09-04T08:28:06.435Z"
   },
   {
    "duration": 285,
    "start_time": "2022-09-04T08:28:07.969Z"
   },
   {
    "duration": 360,
    "start_time": "2022-09-04T08:28:08.768Z"
   },
   {
    "duration": 56,
    "start_time": "2022-09-04T08:28:09.938Z"
   },
   {
    "duration": 298,
    "start_time": "2022-09-04T08:28:11.198Z"
   },
   {
    "duration": 147,
    "start_time": "2022-09-04T08:28:12.966Z"
   },
   {
    "duration": 412,
    "start_time": "2022-09-04T08:28:14.349Z"
   },
   {
    "duration": 358,
    "start_time": "2022-09-04T08:28:16.467Z"
   },
   {
    "duration": 25,
    "start_time": "2022-09-04T08:28:17.993Z"
   },
   {
    "duration": 8,
    "start_time": "2022-09-04T08:28:18.662Z"
   },
   {
    "duration": 162,
    "start_time": "2022-09-04T08:28:19.295Z"
   },
   {
    "duration": 20,
    "start_time": "2022-09-04T08:28:21.110Z"
   },
   {
    "duration": 5,
    "start_time": "2022-09-04T08:28:25.584Z"
   },
   {
    "duration": 58,
    "start_time": "2022-09-04T08:28:31.114Z"
   },
   {
    "duration": 3951,
    "start_time": "2022-09-04T08:28:32.642Z"
   },
   {
    "duration": 72,
    "start_time": "2022-09-04T08:28:47.715Z"
   },
   {
    "duration": 233,
    "start_time": "2022-09-04T08:28:49.048Z"
   },
   {
    "duration": 22,
    "start_time": "2022-09-04T08:28:59.137Z"
   },
   {
    "duration": 4,
    "start_time": "2022-09-04T08:28:59.988Z"
   },
   {
    "duration": 3,
    "start_time": "2022-09-04T08:29:00.957Z"
   },
   {
    "duration": 95,
    "start_time": "2022-09-04T08:30:51.612Z"
   },
   {
    "duration": 3,
    "start_time": "2022-09-04T08:31:05.863Z"
   },
   {
    "duration": 2953,
    "start_time": "2022-09-04T08:46:23.006Z"
   },
   {
    "duration": 1483,
    "start_time": "2022-09-04T08:47:21.409Z"
   },
   {
    "duration": 1836,
    "start_time": "2022-09-04T08:47:24.600Z"
   },
   {
    "duration": 44,
    "start_time": "2022-09-04T08:48:06.096Z"
   },
   {
    "duration": 4,
    "start_time": "2022-09-04T08:50:15.150Z"
   },
   {
    "duration": 4,
    "start_time": "2022-09-04T08:51:24.678Z"
   },
   {
    "duration": 3,
    "start_time": "2022-09-04T08:53:53.529Z"
   },
   {
    "duration": 105406,
    "start_time": "2022-09-04T08:57:31.302Z"
   },
   {
    "duration": 5,
    "start_time": "2022-09-04T08:59:25.070Z"
   },
   {
    "duration": 4,
    "start_time": "2022-09-04T08:59:41.833Z"
   },
   {
    "duration": 6,
    "start_time": "2022-09-04T09:00:07.886Z"
   },
   {
    "duration": 3,
    "start_time": "2022-09-04T09:00:54.436Z"
   },
   {
    "duration": 5,
    "start_time": "2022-09-04T09:04:28.932Z"
   },
   {
    "duration": 115,
    "start_time": "2022-09-04T09:04:51.066Z"
   },
   {
    "duration": 4,
    "start_time": "2022-09-04T09:05:02.184Z"
   },
   {
    "duration": 5,
    "start_time": "2022-09-04T09:05:48.558Z"
   },
   {
    "duration": 89025,
    "start_time": "2022-09-04T09:10:46.884Z"
   },
   {
    "duration": 104955,
    "start_time": "2022-09-04T09:12:22.855Z"
   },
   {
    "duration": 6,
    "start_time": "2022-09-04T09:27:49.261Z"
   },
   {
    "duration": 205092,
    "start_time": "2022-09-04T09:30:07.799Z"
   },
   {
    "duration": 13,
    "start_time": "2022-09-04T09:34:17.168Z"
   },
   {
    "duration": 1955,
    "start_time": "2022-09-04T09:34:47.873Z"
   },
   {
    "duration": 1160,
    "start_time": "2022-09-04T09:34:49.837Z"
   },
   {
    "duration": 21,
    "start_time": "2022-09-04T09:34:51.000Z"
   },
   {
    "duration": 63,
    "start_time": "2022-09-04T09:34:51.033Z"
   },
   {
    "duration": 207,
    "start_time": "2022-09-04T09:34:51.098Z"
   },
   {
    "duration": 458,
    "start_time": "2022-09-04T09:34:53.157Z"
   },
   {
    "duration": 183,
    "start_time": "2022-09-04T09:34:54.840Z"
   },
   {
    "duration": 445,
    "start_time": "2022-09-04T09:34:56.345Z"
   },
   {
    "duration": 460,
    "start_time": "2022-09-04T09:34:57.061Z"
   },
   {
    "duration": 89,
    "start_time": "2022-09-04T09:34:58.481Z"
   },
   {
    "duration": 439,
    "start_time": "2022-09-04T09:34:59.453Z"
   },
   {
    "duration": 238,
    "start_time": "2022-09-04T09:35:02.339Z"
   },
   {
    "duration": 518,
    "start_time": "2022-09-04T09:35:03.653Z"
   },
   {
    "duration": 618,
    "start_time": "2022-09-04T09:35:05.359Z"
   },
   {
    "duration": 77,
    "start_time": "2022-09-04T09:35:07.113Z"
   },
   {
    "duration": 19,
    "start_time": "2022-09-04T09:35:07.903Z"
   },
   {
    "duration": 233,
    "start_time": "2022-09-04T09:35:08.575Z"
   },
   {
    "duration": 21,
    "start_time": "2022-09-04T09:35:09.958Z"
   },
   {
    "duration": 11,
    "start_time": "2022-09-04T09:35:11.392Z"
   },
   {
    "duration": 100,
    "start_time": "2022-09-04T09:35:12.664Z"
   },
   {
    "duration": 4919,
    "start_time": "2022-09-04T09:35:13.891Z"
   },
   {
    "duration": 154,
    "start_time": "2022-09-04T09:35:18.812Z"
   },
   {
    "duration": 308,
    "start_time": "2022-09-04T09:35:21.454Z"
   },
   {
    "duration": 29,
    "start_time": "2022-09-04T09:35:23.459Z"
   },
   {
    "duration": 7,
    "start_time": "2022-09-04T09:35:24.882Z"
   },
   {
    "duration": 7,
    "start_time": "2022-09-04T09:35:26.401Z"
   },
   {
    "duration": 134,
    "start_time": "2022-09-04T09:35:30.156Z"
   },
   {
    "duration": 3,
    "start_time": "2022-09-04T09:35:31.260Z"
   },
   {
    "duration": 3083,
    "start_time": "2022-09-04T09:35:32.470Z"
   },
   {
    "duration": 1775,
    "start_time": "2022-09-04T09:35:37.492Z"
   },
   {
    "duration": 1962,
    "start_time": "2022-09-04T09:35:40.299Z"
   },
   {
    "duration": 4,
    "start_time": "2022-09-04T09:35:43.198Z"
   },
   {
    "duration": 4,
    "start_time": "2022-09-04T09:36:29.894Z"
   },
   {
    "duration": 6,
    "start_time": "2022-09-04T09:36:30.783Z"
   },
   {
    "duration": 1057114,
    "start_time": "2022-09-04T09:36:35.147Z"
   },
   {
    "duration": 154,
    "start_time": "2022-09-04T09:58:24.712Z"
   },
   {
    "duration": 17,
    "start_time": "2022-09-04T09:58:36.558Z"
   },
   {
    "duration": 11,
    "start_time": "2022-09-04T09:59:27.392Z"
   },
   {
    "duration": 29,
    "start_time": "2022-09-04T10:02:17.961Z"
   },
   {
    "duration": 36,
    "start_time": "2022-09-04T10:03:11.325Z"
   },
   {
    "duration": 537544,
    "start_time": "2022-09-04T10:03:36.363Z"
   },
   {
    "duration": 94,
    "start_time": "2022-09-04T10:12:33.909Z"
   },
   {
    "duration": 14,
    "start_time": "2022-09-04T10:12:50.294Z"
   },
   {
    "duration": 13,
    "start_time": "2022-09-04T10:13:06.185Z"
   },
   {
    "duration": 4,
    "start_time": "2022-09-04T10:13:39.935Z"
   },
   {
    "duration": 91967,
    "start_time": "2022-09-04T10:15:43.192Z"
   },
   {
    "duration": 1785,
    "start_time": "2022-09-04T10:20:16.741Z"
   },
   {
    "duration": 977,
    "start_time": "2022-09-04T10:20:18.535Z"
   },
   {
    "duration": 15,
    "start_time": "2022-09-04T10:20:19.520Z"
   },
   {
    "duration": 17,
    "start_time": "2022-09-04T10:20:19.537Z"
   },
   {
    "duration": 129,
    "start_time": "2022-09-04T10:20:19.555Z"
   },
   {
    "duration": 343,
    "start_time": "2022-09-04T10:20:19.685Z"
   },
   {
    "duration": 117,
    "start_time": "2022-09-04T10:20:20.032Z"
   },
   {
    "duration": 323,
    "start_time": "2022-09-04T10:20:20.150Z"
   },
   {
    "duration": 404,
    "start_time": "2022-09-04T10:20:20.474Z"
   },
   {
    "duration": 70,
    "start_time": "2022-09-04T10:20:20.881Z"
   },
   {
    "duration": 314,
    "start_time": "2022-09-04T10:20:20.953Z"
   },
   {
    "duration": 196,
    "start_time": "2022-09-04T10:20:21.269Z"
   },
   {
    "duration": 409,
    "start_time": "2022-09-04T10:20:21.467Z"
   },
   {
    "duration": 421,
    "start_time": "2022-09-04T10:20:21.877Z"
   },
   {
    "duration": 33,
    "start_time": "2022-09-04T10:20:22.299Z"
   },
   {
    "duration": 12,
    "start_time": "2022-09-04T10:20:22.336Z"
   },
   {
    "duration": 202,
    "start_time": "2022-09-04T10:20:22.350Z"
   },
   {
    "duration": 28,
    "start_time": "2022-09-04T10:20:22.554Z"
   },
   {
    "duration": 34,
    "start_time": "2022-09-04T10:20:22.584Z"
   },
   {
    "duration": 66,
    "start_time": "2022-09-04T10:20:22.620Z"
   },
   {
    "duration": 4397,
    "start_time": "2022-09-04T10:20:22.688Z"
   },
   {
    "duration": 132,
    "start_time": "2022-09-04T10:20:27.088Z"
   },
   {
    "duration": 258,
    "start_time": "2022-09-04T10:20:27.230Z"
   },
   {
    "duration": 36,
    "start_time": "2022-09-04T10:20:27.490Z"
   },
   {
    "duration": 16,
    "start_time": "2022-09-04T10:20:27.528Z"
   },
   {
    "duration": 24,
    "start_time": "2022-09-04T10:20:27.546Z"
   },
   {
    "duration": 112,
    "start_time": "2022-09-04T10:20:27.571Z"
   },
   {
    "duration": 4,
    "start_time": "2022-09-04T10:20:27.686Z"
   },
   {
    "duration": 2906,
    "start_time": "2022-09-04T10:20:27.691Z"
   },
   {
    "duration": 1582,
    "start_time": "2022-09-04T10:20:30.599Z"
   },
   {
    "duration": 1904,
    "start_time": "2022-09-04T10:20:32.183Z"
   },
   {
    "duration": 4,
    "start_time": "2022-09-04T10:20:34.089Z"
   },
   {
    "duration": 41,
    "start_time": "2022-09-04T10:20:34.095Z"
   },
   {
    "duration": 7,
    "start_time": "2022-09-04T10:20:34.138Z"
   },
   {
    "duration": 961188,
    "start_time": "2022-09-04T10:20:34.147Z"
   },
   {
    "duration": 12,
    "start_time": "2022-09-04T10:36:35.337Z"
   },
   {
    "duration": 560762,
    "start_time": "2022-09-04T10:36:35.351Z"
   },
   {
    "duration": 91,
    "start_time": "2022-09-04T10:45:56.115Z"
   },
   {
    "duration": 1323204,
    "start_time": "2022-09-04T10:45:56.208Z"
   },
   {
    "duration": 16,
    "start_time": "2022-09-04T11:07:59.414Z"
   },
   {
    "duration": 0,
    "start_time": "2022-09-04T11:10:38.382Z"
   },
   {
    "duration": 0,
    "start_time": "2022-09-04T11:10:38.385Z"
   },
   {
    "duration": 1675,
    "start_time": "2022-09-04T11:10:56.035Z"
   },
   {
    "duration": 1446,
    "start_time": "2022-09-04T11:10:57.712Z"
   },
   {
    "duration": 7,
    "start_time": "2022-09-04T11:10:59.161Z"
   },
   {
    "duration": 37,
    "start_time": "2022-09-04T11:10:59.171Z"
   },
   {
    "duration": 209,
    "start_time": "2022-09-04T11:10:59.212Z"
   },
   {
    "duration": 340,
    "start_time": "2022-09-04T11:10:59.427Z"
   },
   {
    "duration": 115,
    "start_time": "2022-09-04T11:10:59.769Z"
   },
   {
    "duration": 346,
    "start_time": "2022-09-04T11:10:59.885Z"
   },
   {
    "duration": 399,
    "start_time": "2022-09-04T11:11:00.236Z"
   },
   {
    "duration": 58,
    "start_time": "2022-09-04T11:11:00.637Z"
   },
   {
    "duration": 342,
    "start_time": "2022-09-04T11:11:00.697Z"
   },
   {
    "duration": 191,
    "start_time": "2022-09-04T11:11:01.042Z"
   },
   {
    "duration": 458,
    "start_time": "2022-09-04T11:11:01.234Z"
   },
   {
    "duration": 442,
    "start_time": "2022-09-04T11:11:01.696Z"
   },
   {
    "duration": 25,
    "start_time": "2022-09-04T11:11:02.140Z"
   },
   {
    "duration": 8,
    "start_time": "2022-09-04T11:11:02.167Z"
   },
   {
    "duration": 208,
    "start_time": "2022-09-04T11:11:02.178Z"
   },
   {
    "duration": 24,
    "start_time": "2022-09-04T11:11:02.389Z"
   },
   {
    "duration": 36,
    "start_time": "2022-09-04T11:11:02.420Z"
   },
   {
    "duration": 96,
    "start_time": "2022-09-04T11:11:02.461Z"
   },
   {
    "duration": 4534,
    "start_time": "2022-09-04T11:11:02.559Z"
   },
   {
    "duration": 89,
    "start_time": "2022-09-04T11:11:07.098Z"
   },
   {
    "duration": 260,
    "start_time": "2022-09-04T11:11:07.189Z"
   },
   {
    "duration": 23,
    "start_time": "2022-09-04T11:11:07.451Z"
   },
   {
    "duration": 5,
    "start_time": "2022-09-04T11:11:07.476Z"
   },
   {
    "duration": 56,
    "start_time": "2022-09-04T11:11:07.483Z"
   },
   {
    "duration": 136,
    "start_time": "2022-09-04T11:11:07.542Z"
   },
   {
    "duration": 3,
    "start_time": "2022-09-04T11:11:07.680Z"
   },
   {
    "duration": 2874,
    "start_time": "2022-09-04T11:11:07.685Z"
   },
   {
    "duration": 1565,
    "start_time": "2022-09-04T11:11:10.561Z"
   },
   {
    "duration": 1862,
    "start_time": "2022-09-04T11:11:12.132Z"
   },
   {
    "duration": 21,
    "start_time": "2022-09-04T11:11:13.996Z"
   },
   {
    "duration": 15,
    "start_time": "2022-09-04T11:11:14.022Z"
   },
   {
    "duration": 8,
    "start_time": "2022-09-04T11:11:14.038Z"
   },
   {
    "duration": 971528,
    "start_time": "2022-09-04T11:11:14.048Z"
   },
   {
    "duration": 11,
    "start_time": "2022-09-04T11:27:25.578Z"
   },
   {
    "duration": 559645,
    "start_time": "2022-09-04T11:27:25.591Z"
   },
   {
    "duration": 81,
    "start_time": "2022-09-04T11:36:45.238Z"
   },
   {
    "duration": 1303642,
    "start_time": "2022-09-04T11:36:45.324Z"
   },
   {
    "duration": 17,
    "start_time": "2022-09-04T11:58:28.968Z"
   },
   {
    "duration": 832029,
    "start_time": "2022-09-04T11:58:28.989Z"
   },
   {
    "duration": 13,
    "start_time": "2022-09-04T12:12:21.021Z"
   },
   {
    "duration": 1598,
    "start_time": "2022-09-13T09:42:03.915Z"
   },
   {
    "duration": 1051,
    "start_time": "2022-09-13T09:42:06.555Z"
   },
   {
    "duration": 5,
    "start_time": "2022-09-13T09:42:08.147Z"
   },
   {
    "duration": 15,
    "start_time": "2022-09-13T09:42:09.124Z"
   },
   {
    "duration": 124,
    "start_time": "2022-09-13T09:42:10.323Z"
   },
   {
    "duration": 282,
    "start_time": "2022-09-13T09:42:11.314Z"
   },
   {
    "duration": 90,
    "start_time": "2022-09-13T09:42:12.294Z"
   },
   {
    "duration": 256,
    "start_time": "2022-09-13T09:42:13.755Z"
   },
   {
    "duration": 325,
    "start_time": "2022-09-13T09:42:14.584Z"
   },
   {
    "duration": 54,
    "start_time": "2022-09-13T09:42:19.414Z"
   },
   {
    "duration": 241,
    "start_time": "2022-09-13T09:42:22.525Z"
   },
   {
    "duration": 144,
    "start_time": "2022-09-13T09:42:32.039Z"
   },
   {
    "duration": 435,
    "start_time": "2022-09-13T09:42:36.074Z"
   },
   {
    "duration": 310,
    "start_time": "2022-09-13T09:42:38.347Z"
   },
   {
    "duration": 29,
    "start_time": "2022-09-13T09:42:39.958Z"
   },
   {
    "duration": 7,
    "start_time": "2022-09-13T09:42:43.596Z"
   },
   {
    "duration": 138,
    "start_time": "2022-09-13T09:42:44.368Z"
   },
   {
    "duration": 16,
    "start_time": "2022-09-13T09:44:54.099Z"
   },
   {
    "duration": 62,
    "start_time": "2022-09-13T09:45:58.728Z"
   },
   {
    "duration": 3415,
    "start_time": "2022-09-13T09:46:00.919Z"
   },
   {
    "duration": 80,
    "start_time": "2022-09-13T09:46:10.044Z"
   },
   {
    "duration": 188,
    "start_time": "2022-09-13T09:48:32.608Z"
   },
   {
    "duration": 21,
    "start_time": "2022-09-13T09:48:36.888Z"
   },
   {
    "duration": 3,
    "start_time": "2022-09-13T09:48:37.946Z"
   },
   {
    "duration": 3,
    "start_time": "2022-09-13T09:48:38.728Z"
   },
   {
    "duration": 1467,
    "start_time": "2022-09-13T09:49:24.211Z"
   },
   {
    "duration": 804,
    "start_time": "2022-09-13T09:49:26.184Z"
   },
   {
    "duration": 6,
    "start_time": "2022-09-13T09:49:26.990Z"
   },
   {
    "duration": 16,
    "start_time": "2022-09-13T09:49:29.125Z"
   },
   {
    "duration": 124,
    "start_time": "2022-09-13T09:49:30.194Z"
   },
   {
    "duration": 278,
    "start_time": "2022-09-13T09:49:31.014Z"
   },
   {
    "duration": 95,
    "start_time": "2022-09-13T09:49:31.874Z"
   },
   {
    "duration": 263,
    "start_time": "2022-09-13T09:49:33.284Z"
   },
   {
    "duration": 315,
    "start_time": "2022-09-13T09:49:34.154Z"
   },
   {
    "duration": 52,
    "start_time": "2022-09-13T09:49:41.515Z"
   },
   {
    "duration": 245,
    "start_time": "2022-09-13T09:49:43.374Z"
   },
   {
    "duration": 143,
    "start_time": "2022-09-13T09:49:45.107Z"
   },
   {
    "duration": 347,
    "start_time": "2022-09-13T09:49:47.934Z"
   },
   {
    "duration": 332,
    "start_time": "2022-09-13T09:49:49.507Z"
   },
   {
    "duration": 23,
    "start_time": "2022-09-13T09:49:50.854Z"
   },
   {
    "duration": 8,
    "start_time": "2022-09-13T09:49:52.194Z"
   },
   {
    "duration": 143,
    "start_time": "2022-09-13T09:49:53.124Z"
   },
   {
    "duration": 16,
    "start_time": "2022-09-13T09:49:53.944Z"
   },
   {
    "duration": 63,
    "start_time": "2022-09-13T09:49:55.724Z"
   },
   {
    "duration": 3588,
    "start_time": "2022-09-13T09:50:05.444Z"
   },
   {
    "duration": 78,
    "start_time": "2022-09-13T09:50:11.667Z"
   },
   {
    "duration": 191,
    "start_time": "2022-09-13T09:50:13.864Z"
   },
   {
    "duration": 9,
    "start_time": "2022-09-13T09:50:15.233Z"
   },
   {
    "duration": 21,
    "start_time": "2022-09-13T09:50:23.929Z"
   },
   {
    "duration": 4,
    "start_time": "2022-09-13T09:50:28.307Z"
   },
   {
    "duration": 3,
    "start_time": "2022-09-13T09:50:29.165Z"
   },
   {
    "duration": 46,
    "start_time": "2022-09-13T09:52:04.715Z"
   },
   {
    "duration": 1418,
    "start_time": "2022-09-13T09:52:33.672Z"
   },
   {
    "duration": 757,
    "start_time": "2022-09-13T09:52:35.092Z"
   },
   {
    "duration": 5,
    "start_time": "2022-09-13T09:52:35.850Z"
   },
   {
    "duration": 14,
    "start_time": "2022-09-13T09:52:36.985Z"
   },
   {
    "duration": 120,
    "start_time": "2022-09-13T09:52:38.304Z"
   },
   {
    "duration": 280,
    "start_time": "2022-09-13T09:52:39.225Z"
   },
   {
    "duration": 95,
    "start_time": "2022-09-13T09:52:39.785Z"
   },
   {
    "duration": 271,
    "start_time": "2022-09-13T09:52:41.183Z"
   },
   {
    "duration": 322,
    "start_time": "2022-09-13T09:52:41.927Z"
   },
   {
    "duration": 50,
    "start_time": "2022-09-13T09:52:44.816Z"
   },
   {
    "duration": 274,
    "start_time": "2022-09-13T09:52:47.065Z"
   },
   {
    "duration": 138,
    "start_time": "2022-09-13T09:52:48.464Z"
   },
   {
    "duration": 375,
    "start_time": "2022-09-13T09:52:50.895Z"
   },
   {
    "duration": 346,
    "start_time": "2022-09-13T09:52:52.635Z"
   },
   {
    "duration": 24,
    "start_time": "2022-09-13T09:52:54.201Z"
   },
   {
    "duration": 7,
    "start_time": "2022-09-13T09:52:55.540Z"
   },
   {
    "duration": 143,
    "start_time": "2022-09-13T09:52:56.417Z"
   },
   {
    "duration": 16,
    "start_time": "2022-09-13T09:52:57.460Z"
   },
   {
    "duration": 65,
    "start_time": "2022-09-13T09:52:58.749Z"
   },
   {
    "duration": 3602,
    "start_time": "2022-09-13T09:53:00.180Z"
   },
   {
    "duration": 79,
    "start_time": "2022-09-13T09:53:09.128Z"
   },
   {
    "duration": 210,
    "start_time": "2022-09-13T09:53:14.703Z"
   },
   {
    "duration": 24,
    "start_time": "2022-09-13T09:53:51.172Z"
   },
   {
    "duration": 332,
    "start_time": "2022-09-13T09:54:34.111Z"
   },
   {
    "duration": 112,
    "start_time": "2022-09-13T09:54:45.397Z"
   },
   {
    "duration": 124,
    "start_time": "2022-09-13T09:55:14.568Z"
   },
   {
    "duration": 142,
    "start_time": "2022-09-13T09:55:23.597Z"
   },
   {
    "duration": 130,
    "start_time": "2022-09-13T09:55:31.339Z"
   },
   {
    "duration": 128,
    "start_time": "2022-09-13T09:55:40.271Z"
   },
   {
    "duration": 129,
    "start_time": "2022-09-13T09:55:45.616Z"
   },
   {
    "duration": 116,
    "start_time": "2022-09-13T09:56:49.220Z"
   },
   {
    "duration": 6,
    "start_time": "2022-09-13T09:57:23.600Z"
   },
   {
    "duration": 1431,
    "start_time": "2022-09-13T10:58:51.694Z"
   },
   {
    "duration": 751,
    "start_time": "2022-09-13T10:58:53.793Z"
   },
   {
    "duration": 5,
    "start_time": "2022-09-13T10:58:55.194Z"
   },
   {
    "duration": 14,
    "start_time": "2022-09-13T10:58:57.056Z"
   },
   {
    "duration": 137,
    "start_time": "2022-09-13T10:58:57.653Z"
   },
   {
    "duration": 260,
    "start_time": "2022-09-13T10:58:57.955Z"
   },
   {
    "duration": 94,
    "start_time": "2022-09-13T10:58:58.216Z"
   },
   {
    "duration": 260,
    "start_time": "2022-09-13T10:59:00.856Z"
   },
   {
    "duration": 323,
    "start_time": "2022-09-13T10:59:01.118Z"
   },
   {
    "duration": 50,
    "start_time": "2022-09-13T10:59:03.849Z"
   },
   {
    "duration": 235,
    "start_time": "2022-09-13T10:59:04.194Z"
   },
   {
    "duration": 136,
    "start_time": "2022-09-13T10:59:04.558Z"
   },
   {
    "duration": 353,
    "start_time": "2022-09-13T10:59:06.653Z"
   },
   {
    "duration": 328,
    "start_time": "2022-09-13T10:59:08.803Z"
   },
   {
    "duration": 24,
    "start_time": "2022-09-13T10:59:09.145Z"
   },
   {
    "duration": 7,
    "start_time": "2022-09-13T10:59:11.454Z"
   },
   {
    "duration": 143,
    "start_time": "2022-09-13T10:59:11.649Z"
   },
   {
    "duration": 15,
    "start_time": "2022-09-13T10:59:11.802Z"
   },
   {
    "duration": 65,
    "start_time": "2022-09-13T11:07:35.003Z"
   },
   {
    "duration": 3452,
    "start_time": "2022-09-13T11:07:36.914Z"
   },
   {
    "duration": 73,
    "start_time": "2022-09-13T11:07:43.632Z"
   },
   {
    "duration": 189,
    "start_time": "2022-09-13T11:07:46.774Z"
   },
   {
    "duration": 6,
    "start_time": "2022-09-13T11:07:50.516Z"
   },
   {
    "duration": 20,
    "start_time": "2022-09-13T11:08:12.482Z"
   },
   {
    "duration": 9,
    "start_time": "2022-09-13T11:08:13.023Z"
   },
   {
    "duration": 26,
    "start_time": "2022-09-13T11:08:13.662Z"
   },
   {
    "duration": 4,
    "start_time": "2022-09-13T11:08:14.184Z"
   },
   {
    "duration": 5,
    "start_time": "2022-09-13T11:08:14.704Z"
   },
   {
    "duration": 21,
    "start_time": "2022-09-13T11:15:06.018Z"
   },
   {
    "duration": 1544,
    "start_time": "2022-09-13T11:15:14.708Z"
   },
   {
    "duration": 769,
    "start_time": "2022-09-13T11:15:16.254Z"
   },
   {
    "duration": 5,
    "start_time": "2022-09-13T11:15:17.025Z"
   },
   {
    "duration": 14,
    "start_time": "2022-09-13T11:15:17.493Z"
   },
   {
    "duration": 128,
    "start_time": "2022-09-13T11:15:18.643Z"
   },
   {
    "duration": 278,
    "start_time": "2022-09-13T11:15:20.014Z"
   },
   {
    "duration": 89,
    "start_time": "2022-09-13T11:15:21.013Z"
   },
   {
    "duration": 262,
    "start_time": "2022-09-13T11:15:22.549Z"
   },
   {
    "duration": 311,
    "start_time": "2022-09-13T11:15:23.350Z"
   },
   {
    "duration": 63,
    "start_time": "2022-09-13T11:15:26.394Z"
   },
   {
    "duration": 254,
    "start_time": "2022-09-13T11:15:27.650Z"
   },
   {
    "duration": 143,
    "start_time": "2022-09-13T11:15:29.037Z"
   },
   {
    "duration": 372,
    "start_time": "2022-09-13T11:15:30.784Z"
   },
   {
    "duration": 316,
    "start_time": "2022-09-13T11:15:32.455Z"
   },
   {
    "duration": 24,
    "start_time": "2022-09-13T11:15:33.764Z"
   },
   {
    "duration": 7,
    "start_time": "2022-09-13T11:15:36.093Z"
   },
   {
    "duration": 140,
    "start_time": "2022-09-13T11:15:36.784Z"
   },
   {
    "duration": 15,
    "start_time": "2022-09-13T11:15:38.349Z"
   },
   {
    "duration": 61,
    "start_time": "2022-09-13T11:15:40.850Z"
   },
   {
    "duration": 3522,
    "start_time": "2022-09-13T11:15:42.676Z"
   },
   {
    "duration": 77,
    "start_time": "2022-09-13T11:15:49.824Z"
   },
   {
    "duration": 193,
    "start_time": "2022-09-13T11:15:51.045Z"
   },
   {
    "duration": 6,
    "start_time": "2022-09-13T11:15:52.563Z"
   },
   {
    "duration": 19,
    "start_time": "2022-09-13T11:15:53.549Z"
   },
   {
    "duration": 27,
    "start_time": "2022-09-13T11:15:54.349Z"
   },
   {
    "duration": 3,
    "start_time": "2022-09-13T11:16:05.979Z"
   },
   {
    "duration": 4,
    "start_time": "2022-09-13T11:16:06.795Z"
   },
   {
    "duration": 17,
    "start_time": "2022-09-13T11:16:24.835Z"
   },
   {
    "duration": 84,
    "start_time": "2022-09-13T11:18:34.174Z"
   },
   {
    "duration": 90,
    "start_time": "2022-09-13T11:18:34.953Z"
   },
   {
    "duration": 12,
    "start_time": "2022-09-13T11:18:37.448Z"
   },
   {
    "duration": 3,
    "start_time": "2022-09-13T11:18:43.013Z"
   },
   {
    "duration": 4,
    "start_time": "2022-09-13T11:19:15.683Z"
   },
   {
    "duration": 6,
    "start_time": "2022-09-13T11:19:33.697Z"
   },
   {
    "duration": 4,
    "start_time": "2022-09-13T11:19:55.049Z"
   },
   {
    "duration": 4,
    "start_time": "2022-09-13T11:20:18.256Z"
   },
   {
    "duration": 4,
    "start_time": "2022-09-13T11:20:31.755Z"
   },
   {
    "duration": 104,
    "start_time": "2022-09-13T11:20:49.082Z"
   },
   {
    "duration": 4,
    "start_time": "2022-09-13T11:20:51.183Z"
   },
   {
    "duration": 52,
    "start_time": "2022-09-13T11:20:54.046Z"
   },
   {
    "duration": 3,
    "start_time": "2022-09-13T11:20:55.553Z"
   },
   {
    "duration": 46,
    "start_time": "2022-09-13T11:21:08.203Z"
   },
   {
    "duration": 13,
    "start_time": "2022-09-13T11:21:15.053Z"
   },
   {
    "duration": 11,
    "start_time": "2022-09-13T11:21:31.046Z"
   },
   {
    "duration": 64,
    "start_time": "2022-09-13T11:21:36.153Z"
   },
   {
    "duration": 9,
    "start_time": "2022-09-13T11:21:45.183Z"
   },
   {
    "duration": 6,
    "start_time": "2022-09-13T11:21:47.368Z"
   },
   {
    "duration": 4,
    "start_time": "2022-09-13T11:21:55.057Z"
   },
   {
    "duration": 11,
    "start_time": "2022-09-13T11:22:08.157Z"
   },
   {
    "duration": 1541,
    "start_time": "2022-09-14T19:01:38.674Z"
   },
   {
    "duration": 1029,
    "start_time": "2022-09-14T19:01:40.754Z"
   },
   {
    "duration": 6,
    "start_time": "2022-09-14T19:01:41.785Z"
   },
   {
    "duration": 15,
    "start_time": "2022-09-14T19:01:43.213Z"
   },
   {
    "duration": 120,
    "start_time": "2022-09-14T19:01:44.363Z"
   },
   {
    "duration": 270,
    "start_time": "2022-09-14T19:01:45.363Z"
   },
   {
    "duration": 90,
    "start_time": "2022-09-14T19:01:46.078Z"
   },
   {
    "duration": 284,
    "start_time": "2022-09-14T19:01:47.443Z"
   },
   {
    "duration": 296,
    "start_time": "2022-09-14T19:01:48.318Z"
   },
   {
    "duration": 58,
    "start_time": "2022-09-14T19:03:13.506Z"
   },
   {
    "duration": 264,
    "start_time": "2022-09-14T19:03:17.407Z"
   },
   {
    "duration": 160,
    "start_time": "2022-09-14T19:03:23.338Z"
   },
   {
    "duration": 438,
    "start_time": "2022-09-14T19:03:27.989Z"
   },
   {
    "duration": 332,
    "start_time": "2022-09-14T19:03:30.355Z"
   },
   {
    "duration": 23,
    "start_time": "2022-09-14T19:03:31.614Z"
   },
   {
    "duration": 7,
    "start_time": "2022-09-14T19:03:32.866Z"
   },
   {
    "duration": 151,
    "start_time": "2022-09-14T19:03:33.736Z"
   },
   {
    "duration": 15,
    "start_time": "2022-09-14T19:03:35.050Z"
   },
   {
    "duration": 63,
    "start_time": "2022-09-14T19:03:39.434Z"
   },
   {
    "duration": 3661,
    "start_time": "2022-09-14T19:03:40.465Z"
   },
   {
    "duration": 78,
    "start_time": "2022-09-14T19:03:46.545Z"
   },
   {
    "duration": 198,
    "start_time": "2022-09-14T19:03:48.236Z"
   },
   {
    "duration": 6,
    "start_time": "2022-09-14T19:03:50.607Z"
   },
   {
    "duration": 19,
    "start_time": "2022-09-14T19:03:52.076Z"
   },
   {
    "duration": 4,
    "start_time": "2022-09-14T19:03:53.045Z"
   },
   {
    "duration": 4,
    "start_time": "2022-09-14T19:03:55.855Z"
   },
   {
    "duration": 92,
    "start_time": "2022-09-14T19:04:23.538Z"
   },
   {
    "duration": 90,
    "start_time": "2022-09-14T19:04:24.478Z"
   },
   {
    "duration": 4,
    "start_time": "2022-09-14T19:04:26.418Z"
   },
   {
    "duration": 47,
    "start_time": "2022-09-14T19:04:56.738Z"
   },
   {
    "duration": 70,
    "start_time": "2022-09-14T19:06:24.436Z"
   },
   {
    "duration": 12,
    "start_time": "2022-09-14T19:10:55.270Z"
   },
   {
    "duration": 4,
    "start_time": "2022-09-14T19:11:36.706Z"
   },
   {
    "duration": 3,
    "start_time": "2022-09-14T19:38:34.104Z"
   },
   {
    "duration": 36,
    "start_time": "2022-09-14T19:41:10.939Z"
   },
   {
    "duration": 5,
    "start_time": "2022-09-14T19:41:24.714Z"
   },
   {
    "duration": 5,
    "start_time": "2022-09-14T19:41:27.604Z"
   },
   {
    "duration": 4,
    "start_time": "2022-09-14T19:41:29.815Z"
   },
   {
    "duration": 3,
    "start_time": "2022-09-14T19:41:35.009Z"
   },
   {
    "duration": 4,
    "start_time": "2022-09-14T19:43:33.252Z"
   },
   {
    "duration": 1341,
    "start_time": "2022-09-14T19:47:58.755Z"
   },
   {
    "duration": 822,
    "start_time": "2022-09-14T19:48:00.098Z"
   },
   {
    "duration": 5,
    "start_time": "2022-09-14T19:48:00.922Z"
   },
   {
    "duration": 16,
    "start_time": "2022-09-14T19:48:01.665Z"
   },
   {
    "duration": 122,
    "start_time": "2022-09-14T19:48:02.690Z"
   },
   {
    "duration": 279,
    "start_time": "2022-09-14T19:48:03.655Z"
   },
   {
    "duration": 99,
    "start_time": "2022-09-14T19:48:04.330Z"
   },
   {
    "duration": 279,
    "start_time": "2022-09-14T19:48:05.715Z"
   },
   {
    "duration": 344,
    "start_time": "2022-09-14T19:48:06.355Z"
   },
   {
    "duration": 51,
    "start_time": "2022-09-14T19:48:08.564Z"
   },
   {
    "duration": 252,
    "start_time": "2022-09-14T19:48:10.205Z"
   },
   {
    "duration": 149,
    "start_time": "2022-09-14T19:48:11.420Z"
   },
   {
    "duration": 367,
    "start_time": "2022-09-14T19:48:13.360Z"
   },
   {
    "duration": 337,
    "start_time": "2022-09-14T19:48:14.950Z"
   },
   {
    "duration": 28,
    "start_time": "2022-09-14T19:48:16.365Z"
   },
   {
    "duration": 7,
    "start_time": "2022-09-14T19:48:17.334Z"
   },
   {
    "duration": 151,
    "start_time": "2022-09-14T19:48:18.005Z"
   },
   {
    "duration": 16,
    "start_time": "2022-09-14T19:48:18.780Z"
   },
   {
    "duration": 64,
    "start_time": "2022-09-14T19:48:20.050Z"
   },
   {
    "duration": 3613,
    "start_time": "2022-09-14T19:48:21.345Z"
   },
   {
    "duration": 81,
    "start_time": "2022-09-14T19:48:24.960Z"
   },
   {
    "duration": 198,
    "start_time": "2022-09-14T19:48:25.554Z"
   },
   {
    "duration": 6,
    "start_time": "2022-09-14T19:48:28.470Z"
   },
   {
    "duration": 20,
    "start_time": "2022-09-14T19:48:29.645Z"
   },
   {
    "duration": 4,
    "start_time": "2022-09-14T19:48:30.640Z"
   },
   {
    "duration": 4,
    "start_time": "2022-09-14T19:48:32.953Z"
   },
   {
    "duration": 94,
    "start_time": "2022-09-14T19:48:34.215Z"
   },
   {
    "duration": 94,
    "start_time": "2022-09-14T19:48:35.364Z"
   },
   {
    "duration": 3,
    "start_time": "2022-09-14T19:48:37.507Z"
   },
   {
    "duration": 64,
    "start_time": "2022-09-14T19:49:37.354Z"
   },
   {
    "duration": 4,
    "start_time": "2022-09-14T19:51:40.741Z"
   },
   {
    "duration": 62,
    "start_time": "2022-09-14T20:00:19.341Z"
   },
   {
    "duration": 0,
    "start_time": "2022-09-14T20:00:19.405Z"
   },
   {
    "duration": 1543,
    "start_time": "2022-09-14T20:00:26.307Z"
   },
   {
    "duration": 818,
    "start_time": "2022-09-14T20:00:27.852Z"
   },
   {
    "duration": 5,
    "start_time": "2022-09-14T20:00:28.672Z"
   },
   {
    "duration": 23,
    "start_time": "2022-09-14T20:00:28.679Z"
   },
   {
    "duration": 150,
    "start_time": "2022-09-14T20:00:28.703Z"
   },
   {
    "duration": 319,
    "start_time": "2022-09-14T20:00:28.855Z"
   },
   {
    "duration": 103,
    "start_time": "2022-09-14T20:00:29.175Z"
   },
   {
    "duration": 287,
    "start_time": "2022-09-14T20:00:29.280Z"
   },
   {
    "duration": 333,
    "start_time": "2022-09-14T20:00:29.569Z"
   },
   {
    "duration": 77,
    "start_time": "2022-09-14T20:00:29.904Z"
   },
   {
    "duration": 274,
    "start_time": "2022-09-14T20:00:29.983Z"
   },
   {
    "duration": 149,
    "start_time": "2022-09-14T20:00:30.593Z"
   },
   {
    "duration": 339,
    "start_time": "2022-09-14T20:00:31.755Z"
   },
   {
    "duration": 364,
    "start_time": "2022-09-14T20:00:32.535Z"
   },
   {
    "duration": 25,
    "start_time": "2022-09-14T20:00:33.334Z"
   },
   {
    "duration": 7,
    "start_time": "2022-09-14T20:00:34.200Z"
   },
   {
    "duration": 141,
    "start_time": "2022-09-14T20:00:34.375Z"
   },
   {
    "duration": 15,
    "start_time": "2022-09-14T20:00:34.555Z"
   },
   {
    "duration": 67,
    "start_time": "2022-09-14T20:00:35.855Z"
   },
   {
    "duration": 3980,
    "start_time": "2022-09-14T20:00:36.134Z"
   },
   {
    "duration": 82,
    "start_time": "2022-09-14T20:00:47.169Z"
   },
   {
    "duration": 200,
    "start_time": "2022-09-14T20:00:49.570Z"
   },
   {
    "duration": 7,
    "start_time": "2022-09-14T20:00:50.620Z"
   },
   {
    "duration": 20,
    "start_time": "2022-09-14T20:00:52.870Z"
   },
   {
    "duration": 4,
    "start_time": "2022-09-14T20:00:53.041Z"
   },
   {
    "duration": 4,
    "start_time": "2022-09-14T20:00:53.370Z"
   },
   {
    "duration": 93,
    "start_time": "2022-09-14T20:00:55.649Z"
   },
   {
    "duration": 92,
    "start_time": "2022-09-14T20:00:55.960Z"
   },
   {
    "duration": 3,
    "start_time": "2022-09-14T20:00:56.294Z"
   },
   {
    "duration": 4,
    "start_time": "2022-09-14T20:01:08.395Z"
   },
   {
    "duration": 4,
    "start_time": "2022-09-14T20:01:18.694Z"
   },
   {
    "duration": 88,
    "start_time": "2022-09-14T20:03:10.550Z"
   },
   {
    "duration": 3,
    "start_time": "2022-09-14T20:05:42.993Z"
   },
   {
    "duration": 1521,
    "start_time": "2022-09-14T20:15:55.239Z"
   },
   {
    "duration": 773,
    "start_time": "2022-09-14T20:15:56.764Z"
   },
   {
    "duration": 4,
    "start_time": "2022-09-14T20:15:57.539Z"
   },
   {
    "duration": 16,
    "start_time": "2022-09-14T20:15:57.547Z"
   },
   {
    "duration": 151,
    "start_time": "2022-09-14T20:15:57.564Z"
   },
   {
    "duration": 303,
    "start_time": "2022-09-14T20:15:57.717Z"
   },
   {
    "duration": 97,
    "start_time": "2022-09-14T20:15:58.022Z"
   },
   {
    "duration": 277,
    "start_time": "2022-09-14T20:15:58.121Z"
   },
   {
    "duration": 318,
    "start_time": "2022-09-14T20:15:58.400Z"
   },
   {
    "duration": 58,
    "start_time": "2022-09-14T20:15:58.720Z"
   },
   {
    "duration": 260,
    "start_time": "2022-09-14T20:15:58.780Z"
   },
   {
    "duration": 141,
    "start_time": "2022-09-14T20:15:59.047Z"
   },
   {
    "duration": 381,
    "start_time": "2022-09-14T20:15:59.190Z"
   },
   {
    "duration": 337,
    "start_time": "2022-09-14T20:15:59.572Z"
   },
   {
    "duration": 23,
    "start_time": "2022-09-14T20:15:59.911Z"
   },
   {
    "duration": 8,
    "start_time": "2022-09-14T20:16:00.237Z"
   },
   {
    "duration": 141,
    "start_time": "2022-09-14T20:16:00.468Z"
   },
   {
    "duration": 20,
    "start_time": "2022-09-14T20:16:00.807Z"
   },
   {
    "duration": 65,
    "start_time": "2022-09-14T20:16:01.953Z"
   },
   {
    "duration": 3689,
    "start_time": "2022-09-14T20:16:02.185Z"
   },
   {
    "duration": 83,
    "start_time": "2022-09-14T20:16:05.877Z"
   },
   {
    "duration": 233,
    "start_time": "2022-09-14T20:16:05.962Z"
   },
   {
    "duration": 8,
    "start_time": "2022-09-14T20:16:06.197Z"
   },
   {
    "duration": 44,
    "start_time": "2022-09-14T20:16:06.206Z"
   },
   {
    "duration": 95,
    "start_time": "2022-09-14T20:16:07.652Z"
   },
   {
    "duration": 96,
    "start_time": "2022-09-14T20:16:07.835Z"
   },
   {
    "duration": 5,
    "start_time": "2022-09-14T20:16:08.008Z"
   },
   {
    "duration": 4,
    "start_time": "2022-09-14T20:16:08.196Z"
   },
   {
    "duration": 4,
    "start_time": "2022-09-14T20:16:08.519Z"
   },
   {
    "duration": 77,
    "start_time": "2022-09-14T20:16:09.294Z"
   },
   {
    "duration": 3,
    "start_time": "2022-09-14T20:16:09.647Z"
   },
   {
    "duration": 36,
    "start_time": "2022-09-14T20:16:16.392Z"
   },
   {
    "duration": 2079,
    "start_time": "2022-09-14T20:16:22.552Z"
   },
   {
    "duration": 122,
    "start_time": "2022-09-14T20:16:34.052Z"
   },
   {
    "duration": 939,
    "start_time": "2022-09-14T20:16:53.952Z"
   },
   {
    "duration": 4,
    "start_time": "2022-09-14T20:17:12.797Z"
   },
   {
    "duration": 5,
    "start_time": "2022-09-14T20:17:18.920Z"
   },
   {
    "duration": 1373,
    "start_time": "2022-09-14T20:17:34.393Z"
   },
   {
    "duration": 840,
    "start_time": "2022-09-14T20:17:35.768Z"
   },
   {
    "duration": 5,
    "start_time": "2022-09-14T20:17:36.609Z"
   },
   {
    "duration": 19,
    "start_time": "2022-09-14T20:17:36.616Z"
   },
   {
    "duration": 140,
    "start_time": "2022-09-14T20:17:36.636Z"
   },
   {
    "duration": 297,
    "start_time": "2022-09-14T20:17:36.778Z"
   },
   {
    "duration": 98,
    "start_time": "2022-09-14T20:17:37.077Z"
   },
   {
    "duration": 284,
    "start_time": "2022-09-14T20:17:37.177Z"
   },
   {
    "duration": 330,
    "start_time": "2022-09-14T20:17:37.463Z"
   },
   {
    "duration": 58,
    "start_time": "2022-09-14T20:17:37.795Z"
   },
   {
    "duration": 262,
    "start_time": "2022-09-14T20:17:37.855Z"
   },
   {
    "duration": 146,
    "start_time": "2022-09-14T20:17:38.119Z"
   },
   {
    "duration": 364,
    "start_time": "2022-09-14T20:17:38.402Z"
   },
   {
    "duration": 369,
    "start_time": "2022-09-14T20:17:38.769Z"
   },
   {
    "duration": 30,
    "start_time": "2022-09-14T20:17:39.140Z"
   },
   {
    "duration": 9,
    "start_time": "2022-09-14T20:17:39.472Z"
   },
   {
    "duration": 146,
    "start_time": "2022-09-14T20:17:39.637Z"
   },
   {
    "duration": 19,
    "start_time": "2022-09-14T20:17:39.838Z"
   },
   {
    "duration": 67,
    "start_time": "2022-09-14T20:17:40.350Z"
   },
   {
    "duration": 3690,
    "start_time": "2022-09-14T20:17:40.560Z"
   },
   {
    "duration": 80,
    "start_time": "2022-09-14T20:17:44.253Z"
   },
   {
    "duration": 210,
    "start_time": "2022-09-14T20:17:44.334Z"
   },
   {
    "duration": 7,
    "start_time": "2022-09-14T20:17:44.546Z"
   },
   {
    "duration": 19,
    "start_time": "2022-09-14T20:17:44.555Z"
   },
   {
    "duration": 110,
    "start_time": "2022-09-14T20:17:44.576Z"
   },
   {
    "duration": 95,
    "start_time": "2022-09-14T20:17:44.687Z"
   },
   {
    "duration": 3,
    "start_time": "2022-09-14T20:17:44.783Z"
   },
   {
    "duration": 6,
    "start_time": "2022-09-14T20:17:44.788Z"
   },
   {
    "duration": 4,
    "start_time": "2022-09-14T20:17:45.692Z"
   },
   {
    "duration": 95,
    "start_time": "2022-09-14T20:17:47.869Z"
   },
   {
    "duration": 4,
    "start_time": "2022-09-14T20:17:48.073Z"
   },
   {
    "duration": 2846,
    "start_time": "2022-09-14T20:17:49.954Z"
   },
   {
    "duration": 1462,
    "start_time": "2022-09-14T21:03:37.483Z"
   },
   {
    "duration": 782,
    "start_time": "2022-09-14T21:03:40.004Z"
   },
   {
    "duration": 4,
    "start_time": "2022-09-14T21:03:40.788Z"
   },
   {
    "duration": 15,
    "start_time": "2022-09-14T21:03:43.873Z"
   },
   {
    "duration": 132,
    "start_time": "2022-09-14T21:03:44.436Z"
   },
   {
    "duration": 284,
    "start_time": "2022-09-14T21:03:44.906Z"
   },
   {
    "duration": 110,
    "start_time": "2022-09-14T21:03:46.413Z"
   },
   {
    "duration": 281,
    "start_time": "2022-09-14T21:03:48.773Z"
   },
   {
    "duration": 332,
    "start_time": "2022-09-14T21:03:49.056Z"
   },
   {
    "duration": 70,
    "start_time": "2022-09-14T21:03:51.500Z"
   },
   {
    "duration": 250,
    "start_time": "2022-09-14T21:03:52.124Z"
   },
   {
    "duration": 141,
    "start_time": "2022-09-14T21:03:53.036Z"
   },
   {
    "duration": 340,
    "start_time": "2022-09-14T21:03:55.273Z"
   },
   {
    "duration": 333,
    "start_time": "2022-09-14T21:03:57.882Z"
   },
   {
    "duration": 24,
    "start_time": "2022-09-14T21:03:59.806Z"
   },
   {
    "duration": 8,
    "start_time": "2022-09-14T21:04:01.902Z"
   },
   {
    "duration": 151,
    "start_time": "2022-09-14T21:04:02.112Z"
   },
   {
    "duration": 15,
    "start_time": "2022-09-14T21:04:02.538Z"
   },
   {
    "duration": 63,
    "start_time": "2022-09-14T21:04:04.604Z"
   },
   {
    "duration": 3758,
    "start_time": "2022-09-14T21:04:05.008Z"
   },
   {
    "duration": 90,
    "start_time": "2022-09-14T21:04:08.768Z"
   },
   {
    "duration": 192,
    "start_time": "2022-09-14T21:04:13.773Z"
   },
   {
    "duration": 7,
    "start_time": "2022-09-14T21:04:14.282Z"
   },
   {
    "duration": 20,
    "start_time": "2022-09-14T21:04:14.643Z"
   },
   {
    "duration": 98,
    "start_time": "2022-09-14T21:04:17.092Z"
   },
   {
    "duration": 105,
    "start_time": "2022-09-14T21:04:17.343Z"
   },
   {
    "duration": 3,
    "start_time": "2022-09-14T21:04:18.406Z"
   },
   {
    "duration": 4,
    "start_time": "2022-09-14T21:04:18.973Z"
   },
   {
    "duration": 4,
    "start_time": "2022-09-14T21:04:22.004Z"
   },
   {
    "duration": 95,
    "start_time": "2022-09-14T21:04:23.163Z"
   },
   {
    "duration": 4,
    "start_time": "2022-09-14T21:04:24.205Z"
   },
   {
    "duration": 5,
    "start_time": "2022-09-14T21:04:41.053Z"
   },
   {
    "duration": 3047,
    "start_time": "2022-09-14T21:04:48.053Z"
   },
   {
    "duration": 3,
    "start_time": "2022-09-14T22:04:13.324Z"
   },
   {
    "duration": 123,
    "start_time": "2022-09-14T22:04:53.903Z"
   },
   {
    "duration": 77,
    "start_time": "2022-09-14T22:05:20.079Z"
   },
   {
    "duration": 62,
    "start_time": "2022-09-14T22:05:25.919Z"
   },
   {
    "duration": 151,
    "start_time": "2022-09-14T22:05:34.779Z"
   },
   {
    "duration": 5,
    "start_time": "2022-09-14T22:06:15.694Z"
   },
   {
    "duration": 60,
    "start_time": "2022-09-14T22:06:34.594Z"
   },
   {
    "duration": 154,
    "start_time": "2022-09-14T22:07:19.176Z"
   },
   {
    "duration": 109,
    "start_time": "2022-09-14T22:07:46.282Z"
   },
   {
    "duration": 4,
    "start_time": "2022-09-14T22:08:07.641Z"
   },
   {
    "duration": 284,
    "start_time": "2022-09-14T22:08:15.347Z"
   },
   {
    "duration": 124,
    "start_time": "2022-09-14T22:08:20.949Z"
   },
   {
    "duration": 4,
    "start_time": "2022-09-14T22:08:35.240Z"
   },
   {
    "duration": 1463,
    "start_time": "2022-09-14T22:09:36.732Z"
   },
   {
    "duration": 819,
    "start_time": "2022-09-14T22:09:38.197Z"
   },
   {
    "duration": 6,
    "start_time": "2022-09-14T22:09:39.017Z"
   },
   {
    "duration": 26,
    "start_time": "2022-09-14T22:09:39.025Z"
   },
   {
    "duration": 138,
    "start_time": "2022-09-14T22:09:39.053Z"
   },
   {
    "duration": 303,
    "start_time": "2022-09-14T22:09:39.192Z"
   },
   {
    "duration": 104,
    "start_time": "2022-09-14T22:09:39.497Z"
   },
   {
    "duration": 294,
    "start_time": "2022-09-14T22:09:39.603Z"
   },
   {
    "duration": 335,
    "start_time": "2022-09-14T22:09:39.899Z"
   },
   {
    "duration": 73,
    "start_time": "2022-09-14T22:09:40.236Z"
   },
   {
    "duration": 251,
    "start_time": "2022-09-14T22:09:40.310Z"
   },
   {
    "duration": 151,
    "start_time": "2022-09-14T22:09:40.563Z"
   },
   {
    "duration": 355,
    "start_time": "2022-09-14T22:09:41.252Z"
   },
   {
    "duration": 356,
    "start_time": "2022-09-14T22:09:41.631Z"
   },
   {
    "duration": 26,
    "start_time": "2022-09-14T22:09:43.960Z"
   },
   {
    "duration": 7,
    "start_time": "2022-09-14T22:09:44.292Z"
   },
   {
    "duration": 143,
    "start_time": "2022-09-14T22:09:44.461Z"
   },
   {
    "duration": 16,
    "start_time": "2022-09-14T22:09:44.631Z"
   },
   {
    "duration": 68,
    "start_time": "2022-09-14T22:09:47.312Z"
   },
   {
    "duration": 3613,
    "start_time": "2022-09-14T22:09:47.741Z"
   },
   {
    "duration": 86,
    "start_time": "2022-09-14T22:09:51.356Z"
   },
   {
    "duration": 212,
    "start_time": "2022-09-14T22:09:51.447Z"
   },
   {
    "duration": 7,
    "start_time": "2022-09-14T22:09:54.921Z"
   },
   {
    "duration": 20,
    "start_time": "2022-09-14T22:09:55.271Z"
   },
   {
    "duration": 1894,
    "start_time": "2022-09-14T22:10:24.853Z"
   },
   {
    "duration": 793,
    "start_time": "2022-09-14T22:10:26.749Z"
   },
   {
    "duration": 6,
    "start_time": "2022-09-14T22:10:27.544Z"
   },
   {
    "duration": 16,
    "start_time": "2022-09-14T22:10:27.552Z"
   },
   {
    "duration": 139,
    "start_time": "2022-09-14T22:10:27.569Z"
   },
   {
    "duration": 288,
    "start_time": "2022-09-14T22:10:27.709Z"
   },
   {
    "duration": 99,
    "start_time": "2022-09-14T22:10:27.999Z"
   },
   {
    "duration": 288,
    "start_time": "2022-09-14T22:10:28.100Z"
   },
   {
    "duration": 333,
    "start_time": "2022-09-14T22:10:28.390Z"
   },
   {
    "duration": 53,
    "start_time": "2022-09-14T22:10:28.725Z"
   },
   {
    "duration": 265,
    "start_time": "2022-09-14T22:10:28.779Z"
   },
   {
    "duration": 151,
    "start_time": "2022-09-14T22:10:29.047Z"
   },
   {
    "duration": 371,
    "start_time": "2022-09-14T22:10:29.200Z"
   },
   {
    "duration": 347,
    "start_time": "2022-09-14T22:10:29.573Z"
   },
   {
    "duration": 32,
    "start_time": "2022-09-14T22:10:29.922Z"
   },
   {
    "duration": 7,
    "start_time": "2022-09-14T22:10:30.383Z"
   },
   {
    "duration": 145,
    "start_time": "2022-09-14T22:10:30.773Z"
   },
   {
    "duration": 17,
    "start_time": "2022-09-14T22:10:30.963Z"
   },
   {
    "duration": 65,
    "start_time": "2022-09-14T22:10:33.713Z"
   },
   {
    "duration": 3719,
    "start_time": "2022-09-14T22:10:34.543Z"
   },
   {
    "duration": 87,
    "start_time": "2022-09-14T22:10:41.613Z"
   },
   {
    "duration": 203,
    "start_time": "2022-09-14T22:10:43.664Z"
   },
   {
    "duration": 6,
    "start_time": "2022-09-14T22:10:56.023Z"
   },
   {
    "duration": 20,
    "start_time": "2022-09-14T22:10:57.043Z"
   },
   {
    "duration": 90,
    "start_time": "2022-09-14T22:10:59.619Z"
   },
   {
    "duration": 94,
    "start_time": "2022-09-14T22:11:00.303Z"
   },
   {
    "duration": 3,
    "start_time": "2022-09-14T22:11:03.453Z"
   },
   {
    "duration": 5,
    "start_time": "2022-09-14T22:11:04.093Z"
   },
   {
    "duration": 4,
    "start_time": "2022-09-14T22:11:04.403Z"
   },
   {
    "duration": 78,
    "start_time": "2022-09-14T22:11:10.014Z"
   },
   {
    "duration": 4,
    "start_time": "2022-09-14T22:11:12.444Z"
   },
   {
    "duration": 18,
    "start_time": "2022-09-14T22:11:21.733Z"
   },
   {
    "duration": 3150,
    "start_time": "2022-09-14T22:12:30.389Z"
   },
   {
    "duration": 94,
    "start_time": "2022-09-14T22:12:44.218Z"
   },
   {
    "duration": 71,
    "start_time": "2022-09-14T22:12:53.489Z"
   },
   {
    "duration": 114,
    "start_time": "2022-09-14T22:15:06.568Z"
   },
   {
    "duration": 14,
    "start_time": "2022-09-14T22:15:31.763Z"
   },
   {
    "duration": 380,
    "start_time": "2022-09-14T22:16:41.583Z"
   },
   {
    "duration": 2041,
    "start_time": "2022-09-14T22:18:13.794Z"
   },
   {
    "duration": 3,
    "start_time": "2022-09-14T22:20:29.043Z"
   },
   {
    "duration": 12,
    "start_time": "2022-09-14T22:23:26.581Z"
   },
   {
    "duration": 11,
    "start_time": "2022-09-14T22:23:41.270Z"
   },
   {
    "duration": 1313,
    "start_time": "2022-09-14T22:24:31.488Z"
   },
   {
    "duration": 772,
    "start_time": "2022-09-14T22:24:33.819Z"
   },
   {
    "duration": 5,
    "start_time": "2022-09-14T22:24:34.593Z"
   },
   {
    "duration": 16,
    "start_time": "2022-09-14T22:24:34.599Z"
   },
   {
    "duration": 144,
    "start_time": "2022-09-14T22:24:34.617Z"
   },
   {
    "duration": 286,
    "start_time": "2022-09-14T22:24:34.778Z"
   },
   {
    "duration": 96,
    "start_time": "2022-09-14T22:24:35.066Z"
   },
   {
    "duration": 257,
    "start_time": "2022-09-14T22:24:35.409Z"
   },
   {
    "duration": 318,
    "start_time": "2022-09-14T22:24:35.668Z"
   },
   {
    "duration": 76,
    "start_time": "2022-09-14T22:24:36.219Z"
   },
   {
    "duration": 240,
    "start_time": "2022-09-14T22:24:36.538Z"
   },
   {
    "duration": 140,
    "start_time": "2022-09-14T22:24:36.888Z"
   },
   {
    "duration": 378,
    "start_time": "2022-09-14T22:24:37.389Z"
   },
   {
    "duration": 376,
    "start_time": "2022-09-14T22:24:37.909Z"
   },
   {
    "duration": 24,
    "start_time": "2022-09-14T22:24:38.287Z"
   },
   {
    "duration": 7,
    "start_time": "2022-09-14T22:24:38.859Z"
   },
   {
    "duration": 143,
    "start_time": "2022-09-14T22:24:39.179Z"
   },
   {
    "duration": 17,
    "start_time": "2022-09-14T22:24:39.347Z"
   },
   {
    "duration": 64,
    "start_time": "2022-09-14T22:24:42.229Z"
   },
   {
    "duration": 3579,
    "start_time": "2022-09-14T22:24:42.399Z"
   },
   {
    "duration": 81,
    "start_time": "2022-09-14T22:24:45.980Z"
   },
   {
    "duration": 227,
    "start_time": "2022-09-14T22:24:46.062Z"
   },
   {
    "duration": 8,
    "start_time": "2022-09-14T22:24:46.292Z"
   },
   {
    "duration": 41,
    "start_time": "2022-09-14T22:24:46.301Z"
   },
   {
    "duration": 95,
    "start_time": "2022-09-14T22:24:46.578Z"
   },
   {
    "duration": 90,
    "start_time": "2022-09-14T22:24:46.939Z"
   },
   {
    "duration": 2,
    "start_time": "2022-09-14T22:24:47.119Z"
   },
   {
    "duration": 3,
    "start_time": "2022-09-14T22:24:48.719Z"
   },
   {
    "duration": 4,
    "start_time": "2022-09-14T22:24:48.889Z"
   },
   {
    "duration": 90,
    "start_time": "2022-09-14T22:24:50.699Z"
   },
   {
    "duration": 106,
    "start_time": "2022-09-14T22:24:50.879Z"
   },
   {
    "duration": 4,
    "start_time": "2022-09-14T22:25:03.369Z"
   },
   {
    "duration": 2961,
    "start_time": "2022-09-14T22:25:08.649Z"
   },
   {
    "duration": 2429,
    "start_time": "2022-09-14T22:25:15.619Z"
   },
   {
    "duration": 2,
    "start_time": "2022-09-14T22:25:22.629Z"
   },
   {
    "duration": 4,
    "start_time": "2022-09-14T22:25:24.709Z"
   },
   {
    "duration": 4,
    "start_time": "2022-09-14T22:31:54.659Z"
   },
   {
    "duration": 157499,
    "start_time": "2022-09-14T22:31:56.948Z"
   },
   {
    "duration": 4,
    "start_time": "2022-09-14T22:34:43.353Z"
   },
   {
    "duration": 3,
    "start_time": "2022-09-14T22:35:03.684Z"
   },
   {
    "duration": 3,
    "start_time": "2022-09-14T22:35:10.934Z"
   },
   {
    "duration": 380091,
    "start_time": "2022-09-14T22:37:07.630Z"
   },
   {
    "duration": 90165,
    "start_time": "2022-09-14T22:44:05.993Z"
   },
   {
    "duration": 4,
    "start_time": "2022-09-14T22:45:52.939Z"
   },
   {
    "duration": 5,
    "start_time": "2022-09-14T22:46:56.890Z"
   },
   {
    "duration": 85715,
    "start_time": "2022-09-14T22:47:01.435Z"
   },
   {
    "duration": 4,
    "start_time": "2022-09-14T22:48:52.270Z"
   },
   {
    "duration": 93884,
    "start_time": "2022-09-14T22:48:56.065Z"
   },
   {
    "duration": 3,
    "start_time": "2022-09-14T22:50:29.951Z"
   },
   {
    "duration": 4299,
    "start_time": "2022-09-14T22:51:57.454Z"
   },
   {
    "duration": 47,
    "start_time": "2022-09-14T22:53:29.040Z"
   },
   {
    "duration": 721,
    "start_time": "2022-09-14T22:53:35.145Z"
   },
   {
    "duration": 10,
    "start_time": "2022-09-14T22:59:26.519Z"
   },
   {
    "duration": 3,
    "start_time": "2022-09-14T22:59:34.210Z"
   },
   {
    "duration": 3,
    "start_time": "2022-09-14T22:59:37.224Z"
   },
   {
    "duration": 1561,
    "start_time": "2022-09-16T08:18:49.398Z"
   },
   {
    "duration": 2859,
    "start_time": "2022-09-16T08:18:50.961Z"
   },
   {
    "duration": 6,
    "start_time": "2022-09-16T08:18:56.497Z"
   },
   {
    "duration": 3,
    "start_time": "2022-09-16T08:19:16.340Z"
   },
   {
    "duration": 1510,
    "start_time": "2022-09-16T08:19:26.083Z"
   },
   {
    "duration": 796,
    "start_time": "2022-09-16T08:19:27.595Z"
   },
   {
    "duration": 5,
    "start_time": "2022-09-16T08:19:30.071Z"
   },
   {
    "duration": 17,
    "start_time": "2022-09-16T08:19:33.099Z"
   },
   {
    "duration": 108,
    "start_time": "2022-09-16T08:19:36.869Z"
   },
   {
    "duration": 283,
    "start_time": "2022-09-16T08:19:39.492Z"
   },
   {
    "duration": 98,
    "start_time": "2022-09-16T08:19:47.669Z"
   },
   {
    "duration": 281,
    "start_time": "2022-09-16T08:20:10.176Z"
   },
   {
    "duration": 288,
    "start_time": "2022-09-16T08:20:11.295Z"
   },
   {
    "duration": 62,
    "start_time": "2022-09-16T08:20:19.737Z"
   },
   {
    "duration": 245,
    "start_time": "2022-09-16T08:20:36.050Z"
   },
   {
    "duration": 139,
    "start_time": "2022-09-16T08:20:46.500Z"
   },
   {
    "duration": 457,
    "start_time": "2022-09-16T08:20:54.581Z"
   },
   {
    "duration": 258,
    "start_time": "2022-09-16T08:21:04.975Z"
   },
   {
    "duration": 23,
    "start_time": "2022-09-16T08:21:09.680Z"
   },
   {
    "duration": 8,
    "start_time": "2022-09-16T08:21:12.686Z"
   },
   {
    "duration": 136,
    "start_time": "2022-09-16T08:21:14.708Z"
   },
   {
    "duration": 19,
    "start_time": "2022-09-16T08:21:17.899Z"
   },
   {
    "duration": 54,
    "start_time": "2022-09-16T08:22:54.642Z"
   },
   {
    "duration": 3671,
    "start_time": "2022-09-16T08:22:58.653Z"
   },
   {
    "duration": 78,
    "start_time": "2022-09-16T08:23:20.140Z"
   },
   {
    "duration": 208,
    "start_time": "2022-09-16T08:23:30.468Z"
   },
   {
    "duration": 7,
    "start_time": "2022-09-16T08:23:31.933Z"
   },
   {
    "duration": 18,
    "start_time": "2022-09-16T08:23:33.095Z"
   },
   {
    "duration": 121,
    "start_time": "2022-09-16T08:23:47.949Z"
   },
   {
    "duration": 99,
    "start_time": "2022-09-16T08:23:48.759Z"
   },
   {
    "duration": 3,
    "start_time": "2022-09-16T08:23:50.938Z"
   },
   {
    "duration": 6,
    "start_time": "2022-09-16T08:23:51.702Z"
   },
   {
    "duration": 4,
    "start_time": "2022-09-16T08:23:52.392Z"
   },
   {
    "duration": 100,
    "start_time": "2022-09-16T08:24:02.159Z"
   },
   {
    "duration": 3,
    "start_time": "2022-09-16T08:24:04.468Z"
   },
   {
    "duration": 2363,
    "start_time": "2022-09-16T08:24:07.231Z"
   },
   {
    "duration": 2312,
    "start_time": "2022-09-16T08:24:52.964Z"
   },
   {
    "duration": 4,
    "start_time": "2022-09-16T08:37:55.996Z"
   },
   {
    "duration": 4,
    "start_time": "2022-09-16T08:53:30.364Z"
   },
   {
    "duration": 6,
    "start_time": "2022-09-16T08:53:31.057Z"
   },
   {
    "duration": 103,
    "start_time": "2022-09-16T08:54:21.672Z"
   },
   {
    "duration": 1323,
    "start_time": "2022-09-16T08:56:02.039Z"
   },
   {
    "duration": 705,
    "start_time": "2022-09-16T08:56:03.364Z"
   },
   {
    "duration": 5,
    "start_time": "2022-09-16T08:56:04.070Z"
   },
   {
    "duration": 14,
    "start_time": "2022-09-16T08:56:04.830Z"
   },
   {
    "duration": 109,
    "start_time": "2022-09-16T08:56:05.596Z"
   },
   {
    "duration": 300,
    "start_time": "2022-09-16T08:56:06.005Z"
   },
   {
    "duration": 91,
    "start_time": "2022-09-16T08:56:06.429Z"
   },
   {
    "duration": 244,
    "start_time": "2022-09-16T08:56:07.459Z"
   },
   {
    "duration": 321,
    "start_time": "2022-09-16T08:56:07.722Z"
   },
   {
    "duration": 63,
    "start_time": "2022-09-16T08:56:08.725Z"
   },
   {
    "duration": 237,
    "start_time": "2022-09-16T08:56:09.122Z"
   },
   {
    "duration": 133,
    "start_time": "2022-09-16T08:56:09.557Z"
   },
   {
    "duration": 444,
    "start_time": "2022-09-16T08:56:10.181Z"
   },
   {
    "duration": 269,
    "start_time": "2022-09-16T08:56:10.626Z"
   },
   {
    "duration": 23,
    "start_time": "2022-09-16T08:56:11.001Z"
   },
   {
    "duration": 7,
    "start_time": "2022-09-16T08:56:11.476Z"
   },
   {
    "duration": 157,
    "start_time": "2022-09-16T08:56:11.670Z"
   },
   {
    "duration": 14,
    "start_time": "2022-09-16T08:56:12.310Z"
   },
   {
    "duration": 53,
    "start_time": "2022-09-16T08:56:12.931Z"
   },
   {
    "duration": 3432,
    "start_time": "2022-09-16T08:56:13.307Z"
   },
   {
    "duration": 68,
    "start_time": "2022-09-16T08:56:16.742Z"
   },
   {
    "duration": 191,
    "start_time": "2022-09-16T08:56:16.811Z"
   },
   {
    "duration": 6,
    "start_time": "2022-09-16T08:56:17.004Z"
   },
   {
    "duration": 19,
    "start_time": "2022-09-16T08:56:17.798Z"
   },
   {
    "duration": 88,
    "start_time": "2022-09-16T08:56:20.513Z"
   },
   {
    "duration": 90,
    "start_time": "2022-09-16T08:56:20.673Z"
   },
   {
    "duration": 2,
    "start_time": "2022-09-16T08:56:20.846Z"
   },
   {
    "duration": 4,
    "start_time": "2022-09-16T08:56:21.037Z"
   },
   {
    "duration": 4,
    "start_time": "2022-09-16T08:56:21.557Z"
   },
   {
    "duration": 90,
    "start_time": "2022-09-16T08:56:23.379Z"
   },
   {
    "duration": 3,
    "start_time": "2022-09-16T08:56:24.027Z"
   },
   {
    "duration": 2345,
    "start_time": "2022-09-16T08:56:27.644Z"
   },
   {
    "duration": 2392,
    "start_time": "2022-09-16T08:56:32.370Z"
   },
   {
    "duration": 3,
    "start_time": "2022-09-16T08:57:09.776Z"
   },
   {
    "duration": 5,
    "start_time": "2022-09-16T08:57:29.352Z"
   },
   {
    "duration": 91742,
    "start_time": "2022-09-16T08:57:34.843Z"
   },
   {
    "duration": 5,
    "start_time": "2022-09-16T08:59:30.703Z"
   },
   {
    "duration": 197629,
    "start_time": "2022-09-16T08:59:46.186Z"
   },
   {
    "duration": 4,
    "start_time": "2022-09-16T09:03:11.745Z"
   },
   {
    "duration": 10,
    "start_time": "2022-09-16T09:03:12.548Z"
   },
   {
    "duration": 4,
    "start_time": "2022-09-16T09:03:23.647Z"
   },
   {
    "duration": 5,
    "start_time": "2022-09-16T09:03:24.438Z"
   },
   {
    "duration": 237,
    "start_time": "2022-09-16T09:05:49.539Z"
   },
   {
    "duration": 722,
    "start_time": "2022-09-16T09:05:52.369Z"
   },
   {
    "duration": 5,
    "start_time": "2022-09-16T09:05:53.093Z"
   },
   {
    "duration": 29,
    "start_time": "2022-09-16T09:05:53.099Z"
   },
   {
    "duration": 107,
    "start_time": "2022-09-16T09:05:53.193Z"
   },
   {
    "duration": 266,
    "start_time": "2022-09-16T09:05:53.356Z"
   },
   {
    "duration": 109,
    "start_time": "2022-09-16T09:05:53.624Z"
   },
   {
    "duration": 251,
    "start_time": "2022-09-16T09:05:54.036Z"
   },
   {
    "duration": 294,
    "start_time": "2022-09-16T09:05:54.289Z"
   },
   {
    "duration": 68,
    "start_time": "2022-09-16T09:05:54.878Z"
   },
   {
    "duration": 422,
    "start_time": "2022-09-16T09:05:55.233Z"
   },
   {
    "duration": 154,
    "start_time": "2022-09-16T09:05:55.656Z"
   },
   {
    "duration": 353,
    "start_time": "2022-09-16T09:05:56.281Z"
   },
   {
    "duration": 260,
    "start_time": "2022-09-16T09:05:56.661Z"
   },
   {
    "duration": 24,
    "start_time": "2022-09-16T09:05:57.057Z"
   },
   {
    "duration": 9,
    "start_time": "2022-09-16T09:05:57.416Z"
   },
   {
    "duration": 159,
    "start_time": "2022-09-16T09:05:57.635Z"
   },
   {
    "duration": 17,
    "start_time": "2022-09-16T09:05:58.007Z"
   },
   {
    "duration": 54,
    "start_time": "2022-09-16T09:05:58.733Z"
   },
   {
    "duration": 3641,
    "start_time": "2022-09-16T09:05:58.914Z"
   },
   {
    "duration": 73,
    "start_time": "2022-09-16T09:06:02.558Z"
   },
   {
    "duration": 225,
    "start_time": "2022-09-16T09:06:02.633Z"
   },
   {
    "duration": 7,
    "start_time": "2022-09-16T09:06:02.861Z"
   },
   {
    "duration": 36,
    "start_time": "2022-09-16T09:06:02.870Z"
   },
   {
    "duration": 91,
    "start_time": "2022-09-16T09:06:03.365Z"
   },
   {
    "duration": 94,
    "start_time": "2022-09-16T09:06:03.523Z"
   },
   {
    "duration": 3,
    "start_time": "2022-09-16T09:06:05.537Z"
   },
   {
    "duration": 4,
    "start_time": "2022-09-16T09:06:05.702Z"
   },
   {
    "duration": 4,
    "start_time": "2022-09-16T09:06:05.871Z"
   },
   {
    "duration": 71,
    "start_time": "2022-09-16T09:06:06.841Z"
   },
   {
    "duration": 4,
    "start_time": "2022-09-16T09:06:08.492Z"
   },
   {
    "duration": 2445,
    "start_time": "2022-09-16T09:06:10.727Z"
   },
   {
    "duration": 2320,
    "start_time": "2022-09-16T09:06:22.537Z"
   },
   {
    "duration": 77,
    "start_time": "2022-09-16T09:06:42.628Z"
   },
   {
    "duration": 4,
    "start_time": "2022-09-16T09:06:58.936Z"
   },
   {
    "duration": 7,
    "start_time": "2022-09-16T09:07:02.356Z"
   },
   {
    "duration": 136870,
    "start_time": "2022-09-16T09:07:09.123Z"
   },
   {
    "duration": 188715,
    "start_time": "2022-09-16T09:09:40.401Z"
   },
   {
    "duration": 3,
    "start_time": "2022-09-16T09:12:53.110Z"
   },
   {
    "duration": 3,
    "start_time": "2022-09-16T09:12:53.304Z"
   },
   {
    "duration": 3,
    "start_time": "2022-09-16T09:12:53.498Z"
   },
   {
    "duration": 1122100,
    "start_time": "2022-09-16T09:12:55.527Z"
   },
   {
    "duration": 4,
    "start_time": "2022-09-16T09:33:03.666Z"
   },
   {
    "duration": 4,
    "start_time": "2022-09-16T09:33:04.103Z"
   },
   {
    "duration": 5,
    "start_time": "2022-09-16T09:33:04.552Z"
   },
   {
    "duration": 1441,
    "start_time": "2022-09-16T09:34:16.167Z"
   },
   {
    "duration": 828,
    "start_time": "2022-09-16T09:34:17.611Z"
   },
   {
    "duration": 5,
    "start_time": "2022-09-16T09:34:18.441Z"
   },
   {
    "duration": 27,
    "start_time": "2022-09-16T09:34:18.449Z"
   },
   {
    "duration": 137,
    "start_time": "2022-09-16T09:34:18.478Z"
   },
   {
    "duration": 291,
    "start_time": "2022-09-16T09:34:18.618Z"
   },
   {
    "duration": 100,
    "start_time": "2022-09-16T09:34:18.910Z"
   },
   {
    "duration": 254,
    "start_time": "2022-09-16T09:34:19.130Z"
   },
   {
    "duration": 324,
    "start_time": "2022-09-16T09:34:19.386Z"
   },
   {
    "duration": 72,
    "start_time": "2022-09-16T09:34:20.263Z"
   },
   {
    "duration": 242,
    "start_time": "2022-09-16T09:34:20.685Z"
   },
   {
    "duration": 175,
    "start_time": "2022-09-16T09:34:21.155Z"
   },
   {
    "duration": 445,
    "start_time": "2022-09-16T09:34:21.812Z"
   },
   {
    "duration": 293,
    "start_time": "2022-09-16T09:34:22.261Z"
   },
   {
    "duration": 32,
    "start_time": "2022-09-16T09:34:22.699Z"
   },
   {
    "duration": 8,
    "start_time": "2022-09-16T09:34:23.161Z"
   },
   {
    "duration": 187,
    "start_time": "2022-09-16T09:34:23.391Z"
   },
   {
    "duration": 19,
    "start_time": "2022-09-16T09:34:23.836Z"
   },
   {
    "duration": 53,
    "start_time": "2022-09-16T09:34:24.520Z"
   },
   {
    "duration": 3785,
    "start_time": "2022-09-16T09:34:24.743Z"
   },
   {
    "duration": 69,
    "start_time": "2022-09-16T09:34:28.530Z"
   },
   {
    "duration": 188,
    "start_time": "2022-09-16T09:34:28.600Z"
   },
   {
    "duration": 7,
    "start_time": "2022-09-16T09:34:28.790Z"
   },
   {
    "duration": 31,
    "start_time": "2022-09-16T09:34:28.805Z"
   },
   {
    "duration": 92,
    "start_time": "2022-09-16T09:34:28.837Z"
   },
   {
    "duration": 93,
    "start_time": "2022-09-16T09:34:28.931Z"
   },
   {
    "duration": 2,
    "start_time": "2022-09-16T09:34:29.026Z"
   },
   {
    "duration": 15,
    "start_time": "2022-09-16T09:34:29.030Z"
   },
   {
    "duration": 14,
    "start_time": "2022-09-16T09:34:29.048Z"
   },
   {
    "duration": 92,
    "start_time": "2022-09-16T09:34:29.456Z"
   },
   {
    "duration": 4,
    "start_time": "2022-09-16T09:34:29.670Z"
   },
   {
    "duration": 2809,
    "start_time": "2022-09-16T09:34:30.375Z"
   },
   {
    "duration": 2323,
    "start_time": "2022-09-16T09:34:36.086Z"
   },
   {
    "duration": 3,
    "start_time": "2022-09-16T09:34:50.516Z"
   },
   {
    "duration": 5,
    "start_time": "2022-09-16T09:34:57.478Z"
   },
   {
    "duration": 102,
    "start_time": "2022-09-16T09:35:10.457Z"
   },
   {
    "duration": 77708,
    "start_time": "2022-09-16T09:35:25.821Z"
   }
  ],
  "kernelspec": {
   "display_name": "Python 3 (ipykernel)",
   "language": "python",
   "name": "python3"
  },
  "language_info": {
   "codemirror_mode": {
    "name": "ipython",
    "version": 3
   },
   "file_extension": ".py",
   "mimetype": "text/x-python",
   "name": "python",
   "nbconvert_exporter": "python",
   "pygments_lexer": "ipython3",
   "version": "3.9.10"
  },
  "toc": {
   "base_numbering": 1,
   "nav_menu": {},
   "number_sections": true,
   "sideBar": true,
   "skip_h1_title": true,
   "title_cell": "Table of Contents",
   "title_sidebar": "Contents",
   "toc_cell": false,
   "toc_position": {},
   "toc_section_display": true,
   "toc_window_display": false
  }
 },
 "nbformat": 4,
 "nbformat_minor": 2
}
